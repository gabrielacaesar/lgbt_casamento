{
 "cells": [
  {
   "cell_type": "markdown",
   "metadata": {
    "id": "B6-CvBzoEVBW"
   },
   "source": [
    "# Casamento LGBT no Brasil\n",
    "\n",
    "*Este notebook contém o projeto final aplicado da disciplina \"Análise exploratória de dados\", no Master em Jornalismo Dados, Automação e Data Storytelling do Insper, lecionada pelo Prof. André Filipe de Moraes Batista, PhD.*\n",
    "\n",
    "**Integrantes do grupo:** Gabriela Caesar, Isabela Fleischmann e Thiago Araújo (Grupo GIT).\n",
    "\n",
    "**Transparência:** o trabalho também está disponível no [GitHub](https://github.com/gabrielacaesar/lgbt_casamento).\n",
    "\n",
    "**Base de dados escolhida:** casamentos de pessoas do mesmo gênero de 2013 até 2019 (dado mais recente). \n",
    "\n",
    "**Base de dados complementar:** números de habitantes desagregados por gênero, UF e faixa etária. \n",
    "\n",
    "**Fonte das bases de dados:** Instituto Brasileiro de Geografia e Estatística (IBGE). Os arquivos brutos [estão salvos aqui](https://github.com/gabrielacaesar/lgbt_casamento/tree/main/data/raw_data).\n",
    "\n",
    "**Metodologia:** os dados do IBGE estão disponíveis em um formato que dificulta o reaproveitamento para a análise. Por isso, transformamos os dados em [formato \"tidy\"](https://escoladedados.org/tutoriais/tidy-data-dados-arrumados-e-5-problemas-comuns/) antes de iniciar as análises. Os arquivos tratados [estão salvos aqui](https://github.com/gabrielacaesar/lgbt_casamento/tree/main/data).\n"
   ]
  },
  {
   "cell_type": "markdown",
   "metadata": {
    "id": "M2oU6fVsHJ1Y"
   },
   "source": [
    "## Contexto do assunto\n",
    "O Brasil tem [mais de 60 mil casais formados por pessoas do mesmo gênero](http://g1.globo.com/brasil/noticia/2011/04/censo-2010-contabiliza-mais-de-60-mil-casais-homossexuais.html), segundo o Censo 2010 - o último realizado no Brasil e divulgado em 2011. Esse número é bastante menor que o de casais formados por pessoas de gêneros diferentes: 37,5 milhões. \n",
    "\n",
    "Mais de dez anos se passaram. E como está essa situação hoje no Brasil? É inegável que, ao caminhar na Avenida Paulista, em São Paulo, em 2021, vemos mais casais LGBTs do que há 10 anos. O sentimento é que mais pessoas puderam viver histórias homoafetivas nas grandes cidades. Mas será que isso vale para todo o Brasil? E será que a eleição de Jair Bolsonaro impactou esses números?\n",
    "\n",
    "Além disso, apenas em 2011, o STF julgou legal a união civil de pessoas do mesmo gênero. Em 2013, o Conselho Nacional de Justiça [passou a permitir que todos os cartórios registrassem a união homoafetiva](https://g1.globo.com/distrito-federal/noticia/casamento-gay-no-brasil-completa-4-anos-de-regulamentacao-leia-historias.ghtml).\n",
    "\n",
    "A orientação sexual é uma informação pessoal e, por isso, há poucos dados sobre isso, já que os órgãos não costumam coletar essa informação. Antes da definição da base, o grupo mapeou diversos dados sobre LGBTs para verificar qual base poderia ter dados de qualidade para tratar o tema.\n",
    "\n",
    "A base de dados do IBGE, porém, é uma exceção positiva nesse levantamento. Além de ter dados oficiais do Brasil, ela também tem um detalhamento que permite uma ampla análise exploratória para responder a perguntas."
   ]
  },
  {
   "cell_type": "markdown",
   "metadata": {
    "id": "YFmmLz9QHDJA"
   },
   "source": [
    "## Perguntas a que queremos responder\n",
    "1.   Quantos casamentos homoafetivos ocorreram no Brasil de 2013 a 2019?\n",
    "2.   Qual foi o ano com mais casamentos? E com menos casamento?\n",
    "3.   Quais foram as estatísticas básicas anuais? E em 2018?\n",
    "4.   Quem casa mais no meio LGBT? Homens ou mulheres? \n",
    "5.   As mulheres também se casam mais considerando os dados anuais?\n",
    "6.   Em qual mês as pessoas mais se casam? E em qual elas menos se casam?\n",
    "7.   Há mais casamentos homoafetivos após a vitória de Jair Bolsonaro, em 28 de outubro de 2018?\n",
    "8.   Em quais estados aconteceram mais casamentos LGBTs em números absolutos? E menos?\n",
    "9.   Em quais regiões do Brasil os casamentos LGBTs mais ocorrem? E menos?\n",
    "10.   Considerando a população adulta, quais estados têm as maiores e menores proporções de casamentos LGBTs? \n",
    "11.   Em um mapa do Brasil, como ficam as taxas de casamentos LGBTS por 100 mil adultos?\n",
    "12.  Considerando a UF e o ano informados pelo usuário, quais são as estatísticas básicas dessa UF e desse ano quanto ao casamento LGBT?\n"
   ]
  },
  {
   "cell_type": "markdown",
   "metadata": {
    "id": "ROIBBhDMJ1Wk"
   },
   "source": [
    "## O que aprendemos com os dados\n",
    "\n",
    "1.   Mais de 40 mil casamentos homoafetivos foram realizados de 2013 a 2019\n",
    "2.  As mulheres definitivamente se casam mais do que os homens\n",
    "3.  2014 foi o ano em que o número de casamentos de homens quase ultrapassou o de mulheres\n",
    "4.   SP e DF foram as unidades federativas com as maiores taxas de casamentos LGBTs por habitantes adultos;\n",
    "5.  Em números absolutos, SP concentra 41,5% dos casamentos, seguido por RJ (9,3%), MG (7,5%) e SC (5,5%). RR, AC e AP têm os menores números.\n",
    "6.    Estados do Norte e do Nordeste, como MA, TO, PI, AP e AC, aparecem com as menores taxas\n",
    "7.   O Sudeste, região mais populosa do Brasil, também foi a região com mais casamentos\n",
    "8.   O ano com mais casamentos LGBTs foi 2018, seguido por 2019\n",
    "9.   O mês com mais casamentos foi dezembro; e o mês com menos foi abril\n",
    "10.   Os meses próximos à eleição de Jair Bolsonaro foram os picos de casamentos LGBTS\n",
    "11.   Os dados apontam que os casais homoafetivos seguiram [a recomendação da presidente da Comissão Especial da Diversidade Sexual e de Gênero do Conselho Federal da OAB, Maria Berenice Dias](https://g1.globo.com/sp/sao-paulo/noticia/2018/11/07/casamento-lgbt-cresce-25-no-pais-diz-associacao-profissionais-oferecem-servicos-gratuitos-para-celebracoes.ghtml), para os casais procurarem assegurar o matrimônio ainda em 2018."
   ]
  },
  {
   "cell_type": "markdown",
   "metadata": {
    "id": "RtSImjTwR4iC"
   },
   "source": [
    "## 1. Verificação do dataframe\n",
    "Esta etapa do trabalho se propõe a importar o CSV principal e todas as bibliotecas usadas no Notebook, além de verificar do que esse dataframe é formado antes de responder às perguntas de interesse."
   ]
  },
  {
   "cell_type": "code",
   "execution_count": 5,
   "metadata": {
    "id": "4moiU6vXQLlD"
   },
   "outputs": [],
   "source": [
    "# importação das bibliotecas\n",
    "# %%capture \n",
    "# !pip install geopandas ## para instalar o geopandas\n",
    "# import geopandas as gpd\n",
    "import pandas as pd\n",
    "import altair as alt"
   ]
  },
  {
   "cell_type": "code",
   "execution_count": 6,
   "metadata": {
    "id": "fWKrfJJrQu-d"
   },
   "outputs": [],
   "source": [
    "# leitura do CSV como dataframe\n",
    "lgbt_casamento = pd.read_csv('https://raw.githubusercontent.com/gabrielacaesar/lgbt_casamento/main/data/lgbt_casamento.csv')"
   ]
  },
  {
   "cell_type": "code",
   "execution_count": 7,
   "metadata": {
    "colab": {
     "base_uri": "https://localhost:8080/",
     "height": 206
    },
    "id": "TTF6Na23QBT0",
    "outputId": "58cdb2b2-3d3f-481d-a32a-42a751d7270a"
   },
   "outputs": [
    {
     "data": {
      "text/html": [
       "<div>\n",
       "<style scoped>\n",
       "    .dataframe tbody tr th:only-of-type {\n",
       "        vertical-align: middle;\n",
       "    }\n",
       "\n",
       "    .dataframe tbody tr th {\n",
       "        vertical-align: top;\n",
       "    }\n",
       "\n",
       "    .dataframe thead th {\n",
       "        text-align: right;\n",
       "    }\n",
       "</style>\n",
       "<table border=\"1\" class=\"dataframe\">\n",
       "  <thead>\n",
       "    <tr style=\"text-align: right;\">\n",
       "      <th></th>\n",
       "      <th>ano</th>\n",
       "      <th>uf</th>\n",
       "      <th>genero</th>\n",
       "      <th>mes</th>\n",
       "      <th>numero</th>\n",
       "    </tr>\n",
       "  </thead>\n",
       "  <tbody>\n",
       "    <tr>\n",
       "      <th>0</th>\n",
       "      <td>2014</td>\n",
       "      <td>Rondônia</td>\n",
       "      <td>Masculino</td>\n",
       "      <td>Janeiro</td>\n",
       "      <td>0</td>\n",
       "    </tr>\n",
       "    <tr>\n",
       "      <th>1</th>\n",
       "      <td>2014</td>\n",
       "      <td>Rondônia</td>\n",
       "      <td>Masculino</td>\n",
       "      <td>Fevereiro</td>\n",
       "      <td>0</td>\n",
       "    </tr>\n",
       "    <tr>\n",
       "      <th>2</th>\n",
       "      <td>2014</td>\n",
       "      <td>Rondônia</td>\n",
       "      <td>Masculino</td>\n",
       "      <td>Março</td>\n",
       "      <td>0</td>\n",
       "    </tr>\n",
       "    <tr>\n",
       "      <th>3</th>\n",
       "      <td>2014</td>\n",
       "      <td>Rondônia</td>\n",
       "      <td>Masculino</td>\n",
       "      <td>Abril</td>\n",
       "      <td>0</td>\n",
       "    </tr>\n",
       "    <tr>\n",
       "      <th>4</th>\n",
       "      <td>2014</td>\n",
       "      <td>Rondônia</td>\n",
       "      <td>Masculino</td>\n",
       "      <td>Maio</td>\n",
       "      <td>0</td>\n",
       "    </tr>\n",
       "  </tbody>\n",
       "</table>\n",
       "</div>"
      ],
      "text/plain": [
       "    ano        uf     genero        mes  numero\n",
       "0  2014  Rondônia  Masculino    Janeiro       0\n",
       "1  2014  Rondônia  Masculino  Fevereiro       0\n",
       "2  2014  Rondônia  Masculino      Março       0\n",
       "3  2014  Rondônia  Masculino      Abril       0\n",
       "4  2014  Rondônia  Masculino       Maio       0"
      ]
     },
     "execution_count": 7,
     "metadata": {},
     "output_type": "execute_result"
    }
   ],
   "source": [
    "# primeiras linhas do nosso dataframe\n",
    "lgbt_casamento.head()"
   ]
  },
  {
   "cell_type": "code",
   "execution_count": 8,
   "metadata": {
    "colab": {
     "base_uri": "https://localhost:8080/",
     "height": 206
    },
    "id": "S3UwrxvdQz9q",
    "outputId": "31045a0c-8a1e-4809-bc63-f3d30255a51c"
   },
   "outputs": [
    {
     "data": {
      "text/html": [
       "<div>\n",
       "<style scoped>\n",
       "    .dataframe tbody tr th:only-of-type {\n",
       "        vertical-align: middle;\n",
       "    }\n",
       "\n",
       "    .dataframe tbody tr th {\n",
       "        vertical-align: top;\n",
       "    }\n",
       "\n",
       "    .dataframe thead th {\n",
       "        text-align: right;\n",
       "    }\n",
       "</style>\n",
       "<table border=\"1\" class=\"dataframe\">\n",
       "  <thead>\n",
       "    <tr style=\"text-align: right;\">\n",
       "      <th></th>\n",
       "      <th>ano</th>\n",
       "      <th>uf</th>\n",
       "      <th>genero</th>\n",
       "      <th>mes</th>\n",
       "      <th>numero</th>\n",
       "    </tr>\n",
       "  </thead>\n",
       "  <tbody>\n",
       "    <tr>\n",
       "      <th>4531</th>\n",
       "      <td>2019</td>\n",
       "      <td>Distrito Federal</td>\n",
       "      <td>Feminino</td>\n",
       "      <td>Agosto</td>\n",
       "      <td>7</td>\n",
       "    </tr>\n",
       "    <tr>\n",
       "      <th>4532</th>\n",
       "      <td>2019</td>\n",
       "      <td>Distrito Federal</td>\n",
       "      <td>Feminino</td>\n",
       "      <td>Setembro</td>\n",
       "      <td>9</td>\n",
       "    </tr>\n",
       "    <tr>\n",
       "      <th>4533</th>\n",
       "      <td>2019</td>\n",
       "      <td>Distrito Federal</td>\n",
       "      <td>Feminino</td>\n",
       "      <td>Outubro</td>\n",
       "      <td>13</td>\n",
       "    </tr>\n",
       "    <tr>\n",
       "      <th>4534</th>\n",
       "      <td>2019</td>\n",
       "      <td>Distrito Federal</td>\n",
       "      <td>Feminino</td>\n",
       "      <td>Novembro</td>\n",
       "      <td>11</td>\n",
       "    </tr>\n",
       "    <tr>\n",
       "      <th>4535</th>\n",
       "      <td>2019</td>\n",
       "      <td>Distrito Federal</td>\n",
       "      <td>Feminino</td>\n",
       "      <td>Dezembro</td>\n",
       "      <td>7</td>\n",
       "    </tr>\n",
       "  </tbody>\n",
       "</table>\n",
       "</div>"
      ],
      "text/plain": [
       "       ano                uf    genero       mes  numero\n",
       "4531  2019  Distrito Federal  Feminino    Agosto       7\n",
       "4532  2019  Distrito Federal  Feminino  Setembro       9\n",
       "4533  2019  Distrito Federal  Feminino   Outubro      13\n",
       "4534  2019  Distrito Federal  Feminino  Novembro      11\n",
       "4535  2019  Distrito Federal  Feminino  Dezembro       7"
      ]
     },
     "execution_count": 8,
     "metadata": {},
     "output_type": "execute_result"
    }
   ],
   "source": [
    "# últimas linhas do nosso dataframe\n",
    "lgbt_casamento.tail()"
   ]
  },
  {
   "cell_type": "code",
   "execution_count": 9,
   "metadata": {
    "colab": {
     "base_uri": "https://localhost:8080/"
    },
    "id": "CpMzlEBjP-0V",
    "outputId": "ca57349d-a9fd-4a7c-b87b-b1fac12d0f92"
   },
   "outputs": [
    {
     "name": "stdout",
     "output_type": "stream",
     "text": [
      "<class 'pandas.core.frame.DataFrame'>\n",
      "RangeIndex: 4536 entries, 0 to 4535\n",
      "Data columns (total 5 columns):\n",
      "ano       4536 non-null int64\n",
      "uf        4536 non-null object\n",
      "genero    4536 non-null object\n",
      "mes       4536 non-null object\n",
      "numero    4536 non-null int64\n",
      "dtypes: int64(2), object(3)\n",
      "memory usage: 177.3+ KB\n"
     ]
    }
   ],
   "source": [
    "# informações do dataframe, por exemplo: tipo da coluna e número de linhas\n",
    "lgbt_casamento.info()"
   ]
  },
  {
   "cell_type": "code",
   "execution_count": 10,
   "metadata": {
    "colab": {
     "base_uri": "https://localhost:8080/",
     "height": 300
    },
    "id": "SrgwTC6qL2Nb",
    "outputId": "8c2ab902-83a6-45c3-8f3e-d55465ca0825"
   },
   "outputs": [
    {
     "data": {
      "text/html": [
       "<div>\n",
       "<style scoped>\n",
       "    .dataframe tbody tr th:only-of-type {\n",
       "        vertical-align: middle;\n",
       "    }\n",
       "\n",
       "    .dataframe tbody tr th {\n",
       "        vertical-align: top;\n",
       "    }\n",
       "\n",
       "    .dataframe thead th {\n",
       "        text-align: right;\n",
       "    }\n",
       "</style>\n",
       "<table border=\"1\" class=\"dataframe\">\n",
       "  <thead>\n",
       "    <tr style=\"text-align: right;\">\n",
       "      <th></th>\n",
       "      <th>ano</th>\n",
       "      <th>numero</th>\n",
       "    </tr>\n",
       "  </thead>\n",
       "  <tbody>\n",
       "    <tr>\n",
       "      <th>count</th>\n",
       "      <td>4536.00000</td>\n",
       "      <td>4536.000000</td>\n",
       "    </tr>\n",
       "    <tr>\n",
       "      <th>mean</th>\n",
       "      <td>2016.00000</td>\n",
       "      <td>9.693783</td>\n",
       "    </tr>\n",
       "    <tr>\n",
       "      <th>std</th>\n",
       "      <td>2.00022</td>\n",
       "      <td>25.962171</td>\n",
       "    </tr>\n",
       "    <tr>\n",
       "      <th>min</th>\n",
       "      <td>2013.00000</td>\n",
       "      <td>0.000000</td>\n",
       "    </tr>\n",
       "    <tr>\n",
       "      <th>25%</th>\n",
       "      <td>2014.00000</td>\n",
       "      <td>1.000000</td>\n",
       "    </tr>\n",
       "    <tr>\n",
       "      <th>50%</th>\n",
       "      <td>2016.00000</td>\n",
       "      <td>3.000000</td>\n",
       "    </tr>\n",
       "    <tr>\n",
       "      <th>75%</th>\n",
       "      <td>2018.00000</td>\n",
       "      <td>9.000000</td>\n",
       "    </tr>\n",
       "    <tr>\n",
       "      <th>max</th>\n",
       "      <td>2019.00000</td>\n",
       "      <td>827.000000</td>\n",
       "    </tr>\n",
       "  </tbody>\n",
       "</table>\n",
       "</div>"
      ],
      "text/plain": [
       "              ano       numero\n",
       "count  4536.00000  4536.000000\n",
       "mean   2016.00000     9.693783\n",
       "std       2.00022    25.962171\n",
       "min    2013.00000     0.000000\n",
       "25%    2014.00000     1.000000\n",
       "50%    2016.00000     3.000000\n",
       "75%    2018.00000     9.000000\n",
       "max    2019.00000   827.000000"
      ]
     },
     "execution_count": 10,
     "metadata": {},
     "output_type": "execute_result"
    }
   ],
   "source": [
    "# estatísticas das colunas numéricas do dataframe\n",
    "lgbt_casamento.describe()"
   ]
  },
  {
   "cell_type": "code",
   "execution_count": 11,
   "metadata": {
    "colab": {
     "base_uri": "https://localhost:8080/"
    },
    "id": "0eemqw5IKq6h",
    "outputId": "5869166d-58d6-4fef-98a2-cffd29c73edb"
   },
   "outputs": [
    {
     "data": {
      "text/plain": [
       "Index(['ano', 'uf', 'genero', 'mes', 'numero'], dtype='object')"
      ]
     },
     "execution_count": 11,
     "metadata": {},
     "output_type": "execute_result"
    }
   ],
   "source": [
    "# cabeçalho da dataframe\n",
    "lgbt_casamento.columns"
   ]
  },
  {
   "cell_type": "code",
   "execution_count": 12,
   "metadata": {
    "colab": {
     "base_uri": "https://localhost:8080/"
    },
    "id": "auW4JB8bG7Ki",
    "outputId": "6a59042c-5e9c-4455-ce93-8d0db4ba1b47"
   },
   "outputs": [
    {
     "data": {
      "text/plain": [
       "array([2014, 2013, 2015, 2016, 2017, 2018, 2019])"
      ]
     },
     "execution_count": 12,
     "metadata": {},
     "output_type": "execute_result"
    }
   ],
   "source": [
    "# valores únicos da coluna 'ano' do dataframe\n",
    "lgbt_casamento['ano'].unique()"
   ]
  },
  {
   "cell_type": "code",
   "execution_count": 13,
   "metadata": {
    "colab": {
     "base_uri": "https://localhost:8080/"
    },
    "id": "gZKblUNmGwsq",
    "outputId": "9ae75733-0b6d-4e82-9c1f-93b3ae924df1"
   },
   "outputs": [
    {
     "data": {
      "text/plain": [
       "array(['Janeiro', 'Fevereiro', 'Março', 'Abril', 'Maio', 'Junho', 'Julho',\n",
       "       'Agosto', 'Setembro', 'Outubro', 'Novembro', 'Dezembro'], dtype=object)"
      ]
     },
     "execution_count": 13,
     "metadata": {},
     "output_type": "execute_result"
    }
   ],
   "source": [
    "# valores únicos da coluna 'mes' do dataframe\n",
    "lgbt_casamento['mes'].unique()"
   ]
  },
  {
   "cell_type": "code",
   "execution_count": 14,
   "metadata": {
    "colab": {
     "base_uri": "https://localhost:8080/"
    },
    "id": "0GRh1jp4Ev03",
    "outputId": "d79c0e50-8b8b-4454-dd1c-c13e146c8def"
   },
   "outputs": [
    {
     "data": {
      "text/plain": [
       "array(['Masculino', 'Feminino'], dtype=object)"
      ]
     },
     "execution_count": 14,
     "metadata": {},
     "output_type": "execute_result"
    }
   ],
   "source": [
    "# valores únicos da coluna 'genero' do dataframe\n",
    "lgbt_casamento['genero'].unique()"
   ]
  },
  {
   "cell_type": "code",
   "execution_count": 15,
   "metadata": {
    "colab": {
     "base_uri": "https://localhost:8080/"
    },
    "id": "BJlUk89DEryp",
    "outputId": "374c496d-e799-48e7-a64c-0e1b7a5e04bc"
   },
   "outputs": [
    {
     "data": {
      "text/plain": [
       "array(['Rondônia', 'Acre', 'Amazonas', 'Roraima', 'Pará', 'Amapá',\n",
       "       'Tocantins', 'Maranhão', 'Piauí', 'Ceará', 'Rio Grande do Norte',\n",
       "       'Paraíba', 'Pernambuco', 'Alagoas', 'Sergipe', 'Bahia',\n",
       "       'Minas Gerais', 'Espírito Santo', 'Rio de Janeiro', 'São Paulo',\n",
       "       'Paraná', 'Santa Catarina', 'Rio Grande do Sul',\n",
       "       'Mato Grosso do Sul', 'Mato Grosso', 'Goiás', 'Distrito Federal'], dtype=object)"
      ]
     },
     "execution_count": 15,
     "metadata": {},
     "output_type": "execute_result"
    }
   ],
   "source": [
    "# valores únicos da coluna 'uf' do dataframe\n",
    "lgbt_casamento['uf'].unique()"
   ]
  },
  {
   "cell_type": "code",
   "execution_count": 16,
   "metadata": {
    "colab": {
     "base_uri": "https://localhost:8080/"
    },
    "id": "vqLlYdLPRBhc",
    "outputId": "b95ed119-a67f-47d8-b5f4-5d520de36611"
   },
   "outputs": [
    {
     "data": {
      "text/plain": [
       "27"
      ]
     },
     "execution_count": 16,
     "metadata": {},
     "output_type": "execute_result"
    }
   ],
   "source": [
    "# tamanho dos valores únicos da coluna 'uf' do dataframe\n",
    "len(lgbt_casamento['uf'].unique())"
   ]
  },
  {
   "cell_type": "code",
   "execution_count": 17,
   "metadata": {
    "colab": {
     "base_uri": "https://localhost:8080/"
    },
    "id": "-I37cJ3ERD6d",
    "outputId": "32a35ad1-20fb-43a2-ffcb-16a1158f4f8b"
   },
   "outputs": [
    {
     "data": {
      "text/plain": [
       "12"
      ]
     },
     "execution_count": 17,
     "metadata": {},
     "output_type": "execute_result"
    }
   ],
   "source": [
    "# tamanho dos valores únicos da coluna 'mes' do dataframe\n",
    "len(lgbt_casamento['mes'].unique())"
   ]
  },
  {
   "cell_type": "code",
   "execution_count": 18,
   "metadata": {
    "colab": {
     "base_uri": "https://localhost:8080/"
    },
    "id": "dbQCs2_zRF7m",
    "outputId": "4260e67b-6e76-4bf1-f2b1-3a8b9456b2b8"
   },
   "outputs": [
    {
     "data": {
      "text/plain": [
       "7"
      ]
     },
     "execution_count": 18,
     "metadata": {},
     "output_type": "execute_result"
    }
   ],
   "source": [
    "# tamanho dos valores únicos da coluna 'ano' do dataframe\n",
    "len(lgbt_casamento['ano'].unique())"
   ]
  },
  {
   "cell_type": "code",
   "execution_count": 19,
   "metadata": {
    "colab": {
     "base_uri": "https://localhost:8080/"
    },
    "id": "osoC1DfmRHIS",
    "outputId": "f43892c1-7114-4733-d970-5f19c81a9edd"
   },
   "outputs": [
    {
     "data": {
      "text/plain": [
       "0         Janeiro\n",
       "1       Fevereiro\n",
       "2           Março\n",
       "3           Abril\n",
       "4            Maio\n",
       "          ...    \n",
       "4531       Agosto\n",
       "4532     Setembro\n",
       "4533      Outubro\n",
       "4534     Novembro\n",
       "4535     Dezembro\n",
       "Name: mes, Length: 4536, dtype: object"
      ]
     },
     "execution_count": 19,
     "metadata": {},
     "output_type": "execute_result"
    }
   ],
   "source": [
    "# seleciona apenas a coluna 'mes'\n",
    "lgbt_casamento['mes']"
   ]
  },
  {
   "cell_type": "code",
   "execution_count": 20,
   "metadata": {
    "colab": {
     "base_uri": "https://localhost:8080/"
    },
    "id": "GFzYtYENRO6D",
    "outputId": "273b6b6f-0b40-41ae-c3af-eb9925a16a65"
   },
   "outputs": [
    {
     "data": {
      "text/plain": [
       "4536"
      ]
     },
     "execution_count": 20,
     "metadata": {},
     "output_type": "execute_result"
    }
   ],
   "source": [
    "# número de linhas na coluna 'numero'\n",
    "len(lgbt_casamento['mes'])"
   ]
  },
  {
   "cell_type": "code",
   "execution_count": 21,
   "metadata": {
    "colab": {
     "base_uri": "https://localhost:8080/"
    },
    "id": "JHzU6jzsRSbv",
    "outputId": "62153a29-4739-4f18-81e7-5f2869d4803d"
   },
   "outputs": [
    {
     "data": {
      "text/plain": [
       "0       False\n",
       "1       False\n",
       "2       False\n",
       "3       False\n",
       "4       False\n",
       "        ...  \n",
       "4531    False\n",
       "4532    False\n",
       "4533    False\n",
       "4534    False\n",
       "4535    False\n",
       "Name: mes, Length: 4536, dtype: bool"
      ]
     },
     "execution_count": 21,
     "metadata": {},
     "output_type": "execute_result"
    }
   ],
   "source": [
    "# pergunta se aquele campo da coluna 'mes' é NA (ou seja, sem preenchimento)\n",
    "lgbt_casamento['mes'].isna()"
   ]
  },
  {
   "cell_type": "code",
   "execution_count": 22,
   "metadata": {
    "colab": {
     "base_uri": "https://localhost:8080/"
    },
    "id": "SWqefMn8RTpV",
    "outputId": "b2a7628d-c937-42f7-a5ca-67033ab6abaa"
   },
   "outputs": [
    {
     "data": {
      "text/plain": [
       "0       False\n",
       "1       False\n",
       "2       False\n",
       "3       False\n",
       "4       False\n",
       "        ...  \n",
       "4531    False\n",
       "4532    False\n",
       "4533    False\n",
       "4534    False\n",
       "4535    False\n",
       "Name: numero, Length: 4536, dtype: bool"
      ]
     },
     "execution_count": 22,
     "metadata": {},
     "output_type": "execute_result"
    }
   ],
   "source": [
    "# pergunta se aquele campo da coluna 'numero' é NA (ou seja, sem preenchimento)\n",
    "lgbt_casamento['numero'].isna()"
   ]
  },
  {
   "cell_type": "code",
   "execution_count": 23,
   "metadata": {
    "colab": {
     "base_uri": "https://localhost:8080/"
    },
    "id": "IRwMFQNwRVtR",
    "outputId": "0fa3e554-7a77-4848-d5d9-aaa274264229"
   },
   "outputs": [
    {
     "data": {
      "text/plain": [
       "827"
      ]
     },
     "execution_count": 23,
     "metadata": {},
     "output_type": "execute_result"
    }
   ],
   "source": [
    "# número máximo da coluna 'numero'\n",
    "# ou seja, maior número de casamentos em um mês em uma UF\n",
    "lgbt_casamento['numero'].max()"
   ]
  },
  {
   "cell_type": "code",
   "execution_count": 24,
   "metadata": {
    "colab": {
     "base_uri": "https://localhost:8080/"
    },
    "id": "aAu7aPunRXMo",
    "outputId": "360ee399-c061-4c00-9e4a-f70fe808e490"
   },
   "outputs": [
    {
     "data": {
      "text/plain": [
       "0"
      ]
     },
     "execution_count": 24,
     "metadata": {},
     "output_type": "execute_result"
    }
   ],
   "source": [
    "# número mínimo da coluna 'numero'\n",
    "# ou seja, menor número de casamentos em um mês em uma UF\n",
    "lgbt_casamento['numero'].min()"
   ]
  },
  {
   "cell_type": "code",
   "execution_count": 25,
   "metadata": {
    "colab": {
     "base_uri": "https://localhost:8080/"
    },
    "id": "xfTCm0x6RhaW",
    "outputId": "260fb3a8-4c7e-4fb5-af2f-534c0ef2e67e"
   },
   "outputs": [
    {
     "data": {
      "text/plain": [
       "9.693783068783068"
      ]
     },
     "execution_count": 25,
     "metadata": {},
     "output_type": "execute_result"
    }
   ],
   "source": [
    "# média da coluna 'numero'\n",
    "lgbt_casamento['numero'].mean()"
   ]
  },
  {
   "cell_type": "code",
   "execution_count": 26,
   "metadata": {
    "colab": {
     "base_uri": "https://localhost:8080/"
    },
    "id": "sUtuEZVnRjCY",
    "outputId": "f6e9d399-4181-4216-f173-aac27cef6276"
   },
   "outputs": [
    {
     "data": {
      "text/plain": [
       "3.0"
      ]
     },
     "execution_count": 26,
     "metadata": {},
     "output_type": "execute_result"
    }
   ],
   "source": [
    "# mediana da coluna 'numero'\n",
    "lgbt_casamento['numero'].median()"
   ]
  },
  {
   "cell_type": "code",
   "execution_count": 27,
   "metadata": {
    "colab": {
     "base_uri": "https://localhost:8080/"
    },
    "id": "3oZTWNjWS-YQ",
    "outputId": "0c1d489c-cf02-4d86-f540-3f2d5e6baa20"
   },
   "outputs": [
    {
     "data": {
      "text/plain": [
       "25.962171041306817"
      ]
     },
     "execution_count": 27,
     "metadata": {},
     "output_type": "execute_result"
    }
   ],
   "source": [
    "# desvio padrão da coluna 'numero'\n",
    "lgbt_casamento['numero'].std()"
   ]
  },
  {
   "cell_type": "code",
   "execution_count": 28,
   "metadata": {
    "colab": {
     "base_uri": "https://localhost:8080/"
    },
    "id": "sLZFQo8nRje8",
    "outputId": "4dd104a8-4a03-4ec6-b173-235f87b28990"
   },
   "outputs": [
    {
     "data": {
      "text/plain": [
       "43971"
      ]
     },
     "execution_count": 28,
     "metadata": {},
     "output_type": "execute_result"
    }
   ],
   "source": [
    "# soma da coluna 'numero'\n",
    "sum(lgbt_casamento['numero'])"
   ]
  },
  {
   "cell_type": "markdown",
   "metadata": {
    "id": "R3cXAfySSPzf"
   },
   "source": [
    "## 2. Análise exploratória de dados\n",
    "Esta etapa do trabalho se propõe a analisar os dados com mais profundida para começar a responder a algumas perguntas formuladas inicialmente. Como o CSV já foi importado e as bibliotecas já foram chamadas anteriormente neste Notebook, isso não precisa ser repetido."
   ]
  },
  {
   "cell_type": "markdown",
   "metadata": {
    "id": "G6jQ6E_mdjiJ"
   },
   "source": [
    "### Quantos casamentos homoafetivos ocorreram no Brasil de 2013 a 2019?\n",
    "\n"
   ]
  },
  {
   "cell_type": "code",
   "execution_count": 29,
   "metadata": {
    "colab": {
     "base_uri": "https://localhost:8080/"
    },
    "id": "8H3uhOgZdp2n",
    "outputId": "1e026f70-7174-4d63-b4f1-3be9bc15e484"
   },
   "outputs": [
    {
     "data": {
      "text/plain": [
       "43971"
      ]
     },
     "execution_count": 29,
     "metadata": {},
     "output_type": "execute_result"
    }
   ],
   "source": [
    "# mais de 40 mil casamentos homoafetivos nesse período\n",
    "lgbt_casamento['numero'].sum()"
   ]
  },
  {
   "cell_type": "markdown",
   "metadata": {
    "id": "iwIvrUBZdZoP"
   },
   "source": [
    "### Qual foi o ano com mais casamentos homoafetivos? E com menos?"
   ]
  },
  {
   "cell_type": "code",
   "execution_count": 30,
   "metadata": {
    "colab": {
     "base_uri": "https://localhost:8080/"
    },
    "id": "zkreNjrrTYHg",
    "outputId": "db24a9b9-698b-4ab5-d3d0-31d0ebe8341c"
   },
   "outputs": [
    {
     "name": "stdout",
     "output_type": "stream",
     "text": [
      "    ano  numero\n",
      "0  2018    9520\n",
      "1  2019    9056\n",
      "2  2017    5887\n",
      "3  2015    5614\n",
      "4  2016    5354\n",
      "5  2014    4840\n",
      "6  2013    3700\n"
     ]
    }
   ],
   "source": [
    "# 2018 foi o ano com mais casamentos, seguido por 2019\n",
    "casamento_ano = lgbt_casamento.groupby('ano')['numero'].sum().sort_values(ascending=False).reset_index()\n",
    "print(casamento_ano)"
   ]
  },
  {
   "cell_type": "code",
   "execution_count": 31,
   "metadata": {
    "colab": {
     "base_uri": "https://localhost:8080/",
     "height": 398
    },
    "id": "Cs8MwIgmTr0H",
    "outputId": "0c85ad05-8da2-4454-f7d9-dd963e2dd657"
   },
   "outputs": [
    {
     "data": {
      "text/html": [
       "\n",
       "<div id=\"altair-viz-b55d7d1a7a9941e0b91f3082bfe61d53\"></div>\n",
       "<script type=\"text/javascript\">\n",
       "  (function(spec, embedOpt){\n",
       "    const outputDiv = document.getElementById(\"altair-viz-b55d7d1a7a9941e0b91f3082bfe61d53\");\n",
       "    const paths = {\n",
       "      \"vega\": \"https://cdn.jsdelivr.net/npm//vega@5?noext\",\n",
       "      \"vega-lib\": \"https://cdn.jsdelivr.net/npm//vega-lib?noext\",\n",
       "      \"vega-lite\": \"https://cdn.jsdelivr.net/npm//vega-lite@4.0.2?noext\",\n",
       "      \"vega-embed\": \"https://cdn.jsdelivr.net/npm//vega-embed@6?noext\",\n",
       "    };\n",
       "\n",
       "    function loadScript(lib) {\n",
       "      return new Promise(function(resolve, reject) {\n",
       "        var s = document.createElement('script');\n",
       "        s.src = paths[lib];\n",
       "        s.async = true;\n",
       "        s.onload = () => resolve(paths[lib]);\n",
       "        s.onerror = () => reject(`Error loading script: ${paths[lib]}`);\n",
       "        document.getElementsByTagName(\"head\")[0].appendChild(s);\n",
       "      });\n",
       "    }\n",
       "\n",
       "    function showError(err) {\n",
       "      outputDiv.innerHTML = `<div class=\"error\" style=\"color:red;\">${err}</div>`;\n",
       "      throw err;\n",
       "    }\n",
       "\n",
       "    function displayChart(vegaEmbed) {\n",
       "      vegaEmbed(outputDiv, spec, embedOpt)\n",
       "        .catch(err => showError(`Javascript Error: ${err.message}<br>This usually means there's a typo in your chart specification. See the javascript console for the full traceback.`));\n",
       "    }\n",
       "\n",
       "    if(typeof define === \"function\" && define.amd) {\n",
       "      requirejs.config({paths});\n",
       "      require([\"vega-embed\"], displayChart, err => showError(`Error loading script: ${err.message}`));\n",
       "    } else if (typeof vegaEmbed === \"function\") {\n",
       "      displayChart(vegaEmbed);\n",
       "    } else {\n",
       "      loadScript(\"vega\")\n",
       "        .then(() => loadScript(\"vega-lite\"))\n",
       "        .then(() => loadScript(\"vega-embed\"))\n",
       "        .catch(showError)\n",
       "        .then(() => displayChart(vegaEmbed));\n",
       "    }\n",
       "  })({\"height\": 300, \"mark\": \"bar\", \"config\": {\"view\": {\"continuousWidth\": 400, \"continuousHeight\": 300}}, \"width\": 600, \"data\": {\"name\": \"data-94c34337ccddc1fb7c1f35424dbb915f\"}, \"selection\": {\"selector001\": {\"encodings\": [\"x\", \"y\"], \"bind\": \"scales\", \"type\": \"interval\"}}, \"encoding\": {\"color\": {\"condition\": {\"test\": \"(datum.ano === 2018)\", \"value\": \"orange\"}, \"value\": \"steelblue\"}, \"y\": {\"type\": \"quantitative\", \"field\": \"numero\", \"title\": \"N\\u00ba de casamentos\"}, \"x\": {\"type\": \"ordinal\", \"field\": \"ano\", \"title\": \"Ano\"}, \"tooltip\": [{\"type\": \"quantitative\", \"field\": \"ano\"}, {\"type\": \"quantitative\", \"field\": \"numero\"}]}, \"$schema\": \"https://vega.github.io/schema/vega-lite/v4.0.2.json\", \"title\": \"2018 \\u00e9 o recorde de casamentos homoafetivos\", \"datasets\": {\"data-94c34337ccddc1fb7c1f35424dbb915f\": [{\"numero\": 9520, \"ano\": 2018}, {\"numero\": 9056, \"ano\": 2019}, {\"numero\": 5887, \"ano\": 2017}, {\"numero\": 5614, \"ano\": 2015}, {\"numero\": 5354, \"ano\": 2016}, {\"numero\": 4840, \"ano\": 2014}, {\"numero\": 3700, \"ano\": 2013}]}}, {\"mode\": \"vega-lite\"});\n",
       "</script>"
      ],
      "text/plain": [
       "alt.Chart(...)"
      ]
     },
     "execution_count": 31,
     "metadata": {},
     "output_type": "execute_result"
    }
   ],
   "source": [
    "# gráfico para mostrar os dados citados acima\n",
    "# referência https://altair-viz.github.io/gallery/bar_chart_with_highlighted_bar.html\n",
    "alt.Chart(casamento_ano).mark_bar().encode(\n",
    "    x = alt.X('ano:O', title = 'Ano'),\n",
    "    y = alt.Y('numero', title = 'Nº de casamentos'),\n",
    "    color=alt.condition(\n",
    "        alt.datum.ano == 2018,  # destacar com laranka\n",
    "        alt.value('orange'),\n",
    "        alt.value('steelblue')\n",
    "    ),\n",
    "    tooltip = ['ano', 'numero']\n",
    ").properties(title = '2018 é o recorde de casamentos homoafetivos', width=600, height=300).interactive()"
   ]
  },
  {
   "cell_type": "markdown",
   "metadata": {
    "id": "ii3HsiEXDBPS"
   },
   "source": [
    "## Quais foram as estatísticas básicas anuais?"
   ]
  },
  {
   "cell_type": "code",
   "execution_count": 32,
   "metadata": {
    "colab": {
     "base_uri": "https://localhost:8080/",
     "height": 551
    },
    "id": "WaufMPyTBzOu",
    "outputId": "e455d92f-2527-49a0-eda1-d02666a93b19"
   },
   "outputs": [
    {
     "data": {
      "text/html": [
       "<div>\n",
       "<style scoped>\n",
       "    .dataframe tbody tr th:only-of-type {\n",
       "        vertical-align: middle;\n",
       "    }\n",
       "\n",
       "    .dataframe tbody tr th {\n",
       "        vertical-align: top;\n",
       "    }\n",
       "\n",
       "    .dataframe thead tr th {\n",
       "        text-align: left;\n",
       "    }\n",
       "\n",
       "    .dataframe thead tr:last-of-type th {\n",
       "        text-align: right;\n",
       "    }\n",
       "</style>\n",
       "<table border=\"1\" class=\"dataframe\">\n",
       "  <thead>\n",
       "    <tr>\n",
       "      <th></th>\n",
       "      <th></th>\n",
       "      <th colspan=\"6\" halign=\"left\">numero</th>\n",
       "    </tr>\n",
       "    <tr>\n",
       "      <th></th>\n",
       "      <th></th>\n",
       "      <th>sum</th>\n",
       "      <th>mean</th>\n",
       "      <th>median</th>\n",
       "      <th>std</th>\n",
       "      <th>max</th>\n",
       "      <th>min</th>\n",
       "    </tr>\n",
       "    <tr>\n",
       "      <th>ano</th>\n",
       "      <th>genero</th>\n",
       "      <th></th>\n",
       "      <th></th>\n",
       "      <th></th>\n",
       "      <th></th>\n",
       "      <th></th>\n",
       "      <th></th>\n",
       "    </tr>\n",
       "  </thead>\n",
       "  <tbody>\n",
       "    <tr>\n",
       "      <th rowspan=\"2\" valign=\"top\">2013</th>\n",
       "      <th>Feminino</th>\n",
       "      <td>1926</td>\n",
       "      <td>5.944444</td>\n",
       "      <td>1</td>\n",
       "      <td>17.632559</td>\n",
       "      <td>133</td>\n",
       "      <td>0</td>\n",
       "    </tr>\n",
       "    <tr>\n",
       "      <th>Masculino</th>\n",
       "      <td>1774</td>\n",
       "      <td>5.475309</td>\n",
       "      <td>1</td>\n",
       "      <td>15.053342</td>\n",
       "      <td>99</td>\n",
       "      <td>0</td>\n",
       "    </tr>\n",
       "    <tr>\n",
       "      <th rowspan=\"2\" valign=\"top\">2014</th>\n",
       "      <th>Feminino</th>\n",
       "      <td>2438</td>\n",
       "      <td>7.524691</td>\n",
       "      <td>2</td>\n",
       "      <td>19.235771</td>\n",
       "      <td>151</td>\n",
       "      <td>0</td>\n",
       "    </tr>\n",
       "    <tr>\n",
       "      <th>Masculino</th>\n",
       "      <td>2402</td>\n",
       "      <td>7.413580</td>\n",
       "      <td>3</td>\n",
       "      <td>14.860818</td>\n",
       "      <td>99</td>\n",
       "      <td>0</td>\n",
       "    </tr>\n",
       "    <tr>\n",
       "      <th rowspan=\"2\" valign=\"top\">2015</th>\n",
       "      <th>Feminino</th>\n",
       "      <td>2986</td>\n",
       "      <td>9.216049</td>\n",
       "      <td>3</td>\n",
       "      <td>19.493976</td>\n",
       "      <td>128</td>\n",
       "      <td>0</td>\n",
       "    </tr>\n",
       "    <tr>\n",
       "      <th>Masculino</th>\n",
       "      <td>2628</td>\n",
       "      <td>8.111111</td>\n",
       "      <td>3</td>\n",
       "      <td>14.534894</td>\n",
       "      <td>86</td>\n",
       "      <td>0</td>\n",
       "    </tr>\n",
       "    <tr>\n",
       "      <th rowspan=\"2\" valign=\"top\">2016</th>\n",
       "      <th>Feminino</th>\n",
       "      <td>2943</td>\n",
       "      <td>9.083333</td>\n",
       "      <td>3</td>\n",
       "      <td>19.294423</td>\n",
       "      <td>125</td>\n",
       "      <td>0</td>\n",
       "    </tr>\n",
       "    <tr>\n",
       "      <th>Masculino</th>\n",
       "      <td>2411</td>\n",
       "      <td>7.441358</td>\n",
       "      <td>2</td>\n",
       "      <td>14.801879</td>\n",
       "      <td>102</td>\n",
       "      <td>0</td>\n",
       "    </tr>\n",
       "    <tr>\n",
       "      <th rowspan=\"2\" valign=\"top\">2017</th>\n",
       "      <th>Feminino</th>\n",
       "      <td>3387</td>\n",
       "      <td>10.453704</td>\n",
       "      <td>4</td>\n",
       "      <td>23.745184</td>\n",
       "      <td>154</td>\n",
       "      <td>0</td>\n",
       "    </tr>\n",
       "    <tr>\n",
       "      <th>Masculino</th>\n",
       "      <td>2500</td>\n",
       "      <td>7.716049</td>\n",
       "      <td>3</td>\n",
       "      <td>16.227282</td>\n",
       "      <td>113</td>\n",
       "      <td>0</td>\n",
       "    </tr>\n",
       "    <tr>\n",
       "      <th rowspan=\"2\" valign=\"top\">2018</th>\n",
       "      <th>Feminino</th>\n",
       "      <td>5562</td>\n",
       "      <td>17.166667</td>\n",
       "      <td>5</td>\n",
       "      <td>54.790595</td>\n",
       "      <td>827</td>\n",
       "      <td>0</td>\n",
       "    </tr>\n",
       "    <tr>\n",
       "      <th>Masculino</th>\n",
       "      <td>3958</td>\n",
       "      <td>12.216049</td>\n",
       "      <td>3</td>\n",
       "      <td>36.142600</td>\n",
       "      <td>541</td>\n",
       "      <td>0</td>\n",
       "    </tr>\n",
       "    <tr>\n",
       "      <th rowspan=\"2\" valign=\"top\">2019</th>\n",
       "      <th>Feminino</th>\n",
       "      <td>5349</td>\n",
       "      <td>16.509259</td>\n",
       "      <td>6</td>\n",
       "      <td>35.643703</td>\n",
       "      <td>339</td>\n",
       "      <td>0</td>\n",
       "    </tr>\n",
       "    <tr>\n",
       "      <th>Masculino</th>\n",
       "      <td>3707</td>\n",
       "      <td>11.441358</td>\n",
       "      <td>4</td>\n",
       "      <td>24.083439</td>\n",
       "      <td>201</td>\n",
       "      <td>0</td>\n",
       "    </tr>\n",
       "  </tbody>\n",
       "</table>\n",
       "</div>"
      ],
      "text/plain": [
       "               numero                                      \n",
       "                  sum       mean median        std  max min\n",
       "ano  genero                                                \n",
       "2013 Feminino    1926   5.944444      1  17.632559  133   0\n",
       "     Masculino   1774   5.475309      1  15.053342   99   0\n",
       "2014 Feminino    2438   7.524691      2  19.235771  151   0\n",
       "     Masculino   2402   7.413580      3  14.860818   99   0\n",
       "2015 Feminino    2986   9.216049      3  19.493976  128   0\n",
       "     Masculino   2628   8.111111      3  14.534894   86   0\n",
       "2016 Feminino    2943   9.083333      3  19.294423  125   0\n",
       "     Masculino   2411   7.441358      2  14.801879  102   0\n",
       "2017 Feminino    3387  10.453704      4  23.745184  154   0\n",
       "     Masculino   2500   7.716049      3  16.227282  113   0\n",
       "2018 Feminino    5562  17.166667      5  54.790595  827   0\n",
       "     Masculino   3958  12.216049      3  36.142600  541   0\n",
       "2019 Feminino    5349  16.509259      6  35.643703  339   0\n",
       "     Masculino   3707  11.441358      4  24.083439  201   0"
      ]
     },
     "execution_count": 32,
     "metadata": {},
     "output_type": "execute_result"
    }
   ],
   "source": [
    "# estatísticas básicas por ano e gênero\n",
    "# ATENÇÃO: as estatísticas (mean, median, std, max e min) se referem a cada mês, e não ao ano completo\n",
    "lgbt_casamento.groupby(['ano', 'genero']).agg({'numero':['sum', 'mean', 'median', 'std', 'max', 'min']})"
   ]
  },
  {
   "cell_type": "markdown",
   "metadata": {
    "id": "9HGnvSn6CzMd"
   },
   "source": [
    "## Quais foram as estatísticas básicas de 2018?"
   ]
  },
  {
   "cell_type": "code",
   "execution_count": 33,
   "metadata": {
    "colab": {
     "base_uri": "https://localhost:8080/",
     "height": 1000
    },
    "id": "yNhZoVydB_Qw",
    "outputId": "2ac7cffc-1ac2-49c2-cc8f-05f225be4f29"
   },
   "outputs": [
    {
     "data": {
      "text/html": [
       "<div>\n",
       "<style scoped>\n",
       "    .dataframe tbody tr th:only-of-type {\n",
       "        vertical-align: middle;\n",
       "    }\n",
       "\n",
       "    .dataframe tbody tr th {\n",
       "        vertical-align: top;\n",
       "    }\n",
       "\n",
       "    .dataframe thead tr th {\n",
       "        text-align: left;\n",
       "    }\n",
       "\n",
       "    .dataframe thead tr:last-of-type th {\n",
       "        text-align: right;\n",
       "    }\n",
       "</style>\n",
       "<table border=\"1\" class=\"dataframe\">\n",
       "  <thead>\n",
       "    <tr>\n",
       "      <th></th>\n",
       "      <th></th>\n",
       "      <th colspan=\"6\" halign=\"left\">numero</th>\n",
       "    </tr>\n",
       "    <tr>\n",
       "      <th></th>\n",
       "      <th></th>\n",
       "      <th>sum</th>\n",
       "      <th>mean</th>\n",
       "      <th>median</th>\n",
       "      <th>std</th>\n",
       "      <th>max</th>\n",
       "      <th>min</th>\n",
       "    </tr>\n",
       "    <tr>\n",
       "      <th>genero</th>\n",
       "      <th>uf</th>\n",
       "      <th></th>\n",
       "      <th></th>\n",
       "      <th></th>\n",
       "      <th></th>\n",
       "      <th></th>\n",
       "      <th></th>\n",
       "    </tr>\n",
       "  </thead>\n",
       "  <tbody>\n",
       "    <tr>\n",
       "      <th rowspan=\"27\" valign=\"top\">Feminino</th>\n",
       "      <th>Acre</th>\n",
       "      <td>12</td>\n",
       "      <td>1.000000</td>\n",
       "      <td>0.0</td>\n",
       "      <td>2.256304</td>\n",
       "      <td>8</td>\n",
       "      <td>0</td>\n",
       "    </tr>\n",
       "    <tr>\n",
       "      <th>Alagoas</th>\n",
       "      <td>56</td>\n",
       "      <td>4.666667</td>\n",
       "      <td>2.0</td>\n",
       "      <td>10.218818</td>\n",
       "      <td>37</td>\n",
       "      <td>0</td>\n",
       "    </tr>\n",
       "    <tr>\n",
       "      <th>Amapá</th>\n",
       "      <td>7</td>\n",
       "      <td>0.583333</td>\n",
       "      <td>0.0</td>\n",
       "      <td>1.164500</td>\n",
       "      <td>4</td>\n",
       "      <td>0</td>\n",
       "    </tr>\n",
       "    <tr>\n",
       "      <th>Amazonas</th>\n",
       "      <td>31</td>\n",
       "      <td>2.583333</td>\n",
       "      <td>1.5</td>\n",
       "      <td>3.028901</td>\n",
       "      <td>11</td>\n",
       "      <td>0</td>\n",
       "    </tr>\n",
       "    <tr>\n",
       "      <th>Bahia</th>\n",
       "      <td>170</td>\n",
       "      <td>14.166667</td>\n",
       "      <td>12.5</td>\n",
       "      <td>15.296068</td>\n",
       "      <td>60</td>\n",
       "      <td>0</td>\n",
       "    </tr>\n",
       "    <tr>\n",
       "      <th>Ceará</th>\n",
       "      <td>212</td>\n",
       "      <td>17.666667</td>\n",
       "      <td>13.0</td>\n",
       "      <td>16.372556</td>\n",
       "      <td>69</td>\n",
       "      <td>9</td>\n",
       "    </tr>\n",
       "    <tr>\n",
       "      <th>Distrito Federal</th>\n",
       "      <td>136</td>\n",
       "      <td>11.333333</td>\n",
       "      <td>9.0</td>\n",
       "      <td>9.902556</td>\n",
       "      <td>42</td>\n",
       "      <td>5</td>\n",
       "    </tr>\n",
       "    <tr>\n",
       "      <th>Espírito Santo</th>\n",
       "      <td>63</td>\n",
       "      <td>5.250000</td>\n",
       "      <td>4.0</td>\n",
       "      <td>3.545163</td>\n",
       "      <td>16</td>\n",
       "      <td>3</td>\n",
       "    </tr>\n",
       "    <tr>\n",
       "      <th>Goiás</th>\n",
       "      <td>116</td>\n",
       "      <td>9.666667</td>\n",
       "      <td>8.0</td>\n",
       "      <td>4.163332</td>\n",
       "      <td>18</td>\n",
       "      <td>4</td>\n",
       "    </tr>\n",
       "    <tr>\n",
       "      <th>Maranhão</th>\n",
       "      <td>14</td>\n",
       "      <td>1.166667</td>\n",
       "      <td>1.0</td>\n",
       "      <td>1.403459</td>\n",
       "      <td>5</td>\n",
       "      <td>0</td>\n",
       "    </tr>\n",
       "    <tr>\n",
       "      <th>Mato Grosso</th>\n",
       "      <td>31</td>\n",
       "      <td>2.583333</td>\n",
       "      <td>2.0</td>\n",
       "      <td>2.353270</td>\n",
       "      <td>7</td>\n",
       "      <td>0</td>\n",
       "    </tr>\n",
       "    <tr>\n",
       "      <th>Mato Grosso do Sul</th>\n",
       "      <td>110</td>\n",
       "      <td>9.166667</td>\n",
       "      <td>7.5</td>\n",
       "      <td>7.120180</td>\n",
       "      <td>29</td>\n",
       "      <td>2</td>\n",
       "    </tr>\n",
       "    <tr>\n",
       "      <th>Minas Gerais</th>\n",
       "      <td>412</td>\n",
       "      <td>34.333333</td>\n",
       "      <td>24.5</td>\n",
       "      <td>26.348480</td>\n",
       "      <td>115</td>\n",
       "      <td>19</td>\n",
       "    </tr>\n",
       "    <tr>\n",
       "      <th>Paraná</th>\n",
       "      <td>283</td>\n",
       "      <td>23.583333</td>\n",
       "      <td>15.5</td>\n",
       "      <td>28.118122</td>\n",
       "      <td>111</td>\n",
       "      <td>7</td>\n",
       "    </tr>\n",
       "    <tr>\n",
       "      <th>Paraíba</th>\n",
       "      <td>64</td>\n",
       "      <td>5.333333</td>\n",
       "      <td>4.5</td>\n",
       "      <td>5.565042</td>\n",
       "      <td>22</td>\n",
       "      <td>1</td>\n",
       "    </tr>\n",
       "    <tr>\n",
       "      <th>Pará</th>\n",
       "      <td>112</td>\n",
       "      <td>9.333333</td>\n",
       "      <td>3.5</td>\n",
       "      <td>17.996633</td>\n",
       "      <td>66</td>\n",
       "      <td>1</td>\n",
       "    </tr>\n",
       "    <tr>\n",
       "      <th>Pernambuco</th>\n",
       "      <td>260</td>\n",
       "      <td>21.666667</td>\n",
       "      <td>13.0</td>\n",
       "      <td>30.284509</td>\n",
       "      <td>115</td>\n",
       "      <td>4</td>\n",
       "    </tr>\n",
       "    <tr>\n",
       "      <th>Piauí</th>\n",
       "      <td>28</td>\n",
       "      <td>2.333333</td>\n",
       "      <td>1.0</td>\n",
       "      <td>3.420083</td>\n",
       "      <td>12</td>\n",
       "      <td>0</td>\n",
       "    </tr>\n",
       "    <tr>\n",
       "      <th>Rio Grande do Norte</th>\n",
       "      <td>69</td>\n",
       "      <td>5.750000</td>\n",
       "      <td>4.0</td>\n",
       "      <td>5.986728</td>\n",
       "      <td>23</td>\n",
       "      <td>1</td>\n",
       "    </tr>\n",
       "    <tr>\n",
       "      <th>Rio Grande do Sul</th>\n",
       "      <td>269</td>\n",
       "      <td>22.416667</td>\n",
       "      <td>11.5</td>\n",
       "      <td>31.002810</td>\n",
       "      <td>119</td>\n",
       "      <td>7</td>\n",
       "    </tr>\n",
       "    <tr>\n",
       "      <th>Rio de Janeiro</th>\n",
       "      <td>406</td>\n",
       "      <td>33.833333</td>\n",
       "      <td>27.0</td>\n",
       "      <td>24.560994</td>\n",
       "      <td>109</td>\n",
       "      <td>14</td>\n",
       "    </tr>\n",
       "    <tr>\n",
       "      <th>Rondônia</th>\n",
       "      <td>18</td>\n",
       "      <td>1.500000</td>\n",
       "      <td>1.0</td>\n",
       "      <td>1.623688</td>\n",
       "      <td>4</td>\n",
       "      <td>0</td>\n",
       "    </tr>\n",
       "    <tr>\n",
       "      <th>Roraima</th>\n",
       "      <td>4</td>\n",
       "      <td>0.333333</td>\n",
       "      <td>0.0</td>\n",
       "      <td>0.651339</td>\n",
       "      <td>2</td>\n",
       "      <td>0</td>\n",
       "    </tr>\n",
       "    <tr>\n",
       "      <th>Santa Catarina</th>\n",
       "      <td>200</td>\n",
       "      <td>16.666667</td>\n",
       "      <td>13.5</td>\n",
       "      <td>14.840567</td>\n",
       "      <td>62</td>\n",
       "      <td>7</td>\n",
       "    </tr>\n",
       "    <tr>\n",
       "      <th>Sergipe</th>\n",
       "      <td>23</td>\n",
       "      <td>1.916667</td>\n",
       "      <td>2.0</td>\n",
       "      <td>1.975225</td>\n",
       "      <td>5</td>\n",
       "      <td>0</td>\n",
       "    </tr>\n",
       "    <tr>\n",
       "      <th>São Paulo</th>\n",
       "      <td>2445</td>\n",
       "      <td>203.750000</td>\n",
       "      <td>130.5</td>\n",
       "      <td>201.215003</td>\n",
       "      <td>827</td>\n",
       "      <td>105</td>\n",
       "    </tr>\n",
       "    <tr>\n",
       "      <th>Tocantins</th>\n",
       "      <td>11</td>\n",
       "      <td>0.916667</td>\n",
       "      <td>0.0</td>\n",
       "      <td>2.314316</td>\n",
       "      <td>8</td>\n",
       "      <td>0</td>\n",
       "    </tr>\n",
       "    <tr>\n",
       "      <th rowspan=\"27\" valign=\"top\">Masculino</th>\n",
       "      <th>Acre</th>\n",
       "      <td>6</td>\n",
       "      <td>0.500000</td>\n",
       "      <td>0.0</td>\n",
       "      <td>0.904534</td>\n",
       "      <td>3</td>\n",
       "      <td>0</td>\n",
       "    </tr>\n",
       "    <tr>\n",
       "      <th>Alagoas</th>\n",
       "      <td>39</td>\n",
       "      <td>3.250000</td>\n",
       "      <td>2.0</td>\n",
       "      <td>4.788718</td>\n",
       "      <td>18</td>\n",
       "      <td>1</td>\n",
       "    </tr>\n",
       "    <tr>\n",
       "      <th>Amapá</th>\n",
       "      <td>1</td>\n",
       "      <td>0.083333</td>\n",
       "      <td>0.0</td>\n",
       "      <td>0.288675</td>\n",
       "      <td>1</td>\n",
       "      <td>0</td>\n",
       "    </tr>\n",
       "    <tr>\n",
       "      <th>Amazonas</th>\n",
       "      <td>18</td>\n",
       "      <td>1.500000</td>\n",
       "      <td>1.5</td>\n",
       "      <td>1.678744</td>\n",
       "      <td>5</td>\n",
       "      <td>0</td>\n",
       "    </tr>\n",
       "    <tr>\n",
       "      <th>Bahia</th>\n",
       "      <td>118</td>\n",
       "      <td>9.833333</td>\n",
       "      <td>8.5</td>\n",
       "      <td>5.457827</td>\n",
       "      <td>23</td>\n",
       "      <td>3</td>\n",
       "    </tr>\n",
       "    <tr>\n",
       "      <th>Ceará</th>\n",
       "      <td>118</td>\n",
       "      <td>9.833333</td>\n",
       "      <td>8.0</td>\n",
       "      <td>8.736895</td>\n",
       "      <td>35</td>\n",
       "      <td>2</td>\n",
       "    </tr>\n",
       "    <tr>\n",
       "      <th>Distrito Federal</th>\n",
       "      <td>138</td>\n",
       "      <td>11.500000</td>\n",
       "      <td>9.0</td>\n",
       "      <td>10.139930</td>\n",
       "      <td>43</td>\n",
       "      <td>5</td>\n",
       "    </tr>\n",
       "    <tr>\n",
       "      <th>Espírito Santo</th>\n",
       "      <td>66</td>\n",
       "      <td>5.500000</td>\n",
       "      <td>4.0</td>\n",
       "      <td>3.965763</td>\n",
       "      <td>15</td>\n",
       "      <td>2</td>\n",
       "    </tr>\n",
       "    <tr>\n",
       "      <th>Goiás</th>\n",
       "      <td>102</td>\n",
       "      <td>8.500000</td>\n",
       "      <td>9.0</td>\n",
       "      <td>3.370999</td>\n",
       "      <td>15</td>\n",
       "      <td>3</td>\n",
       "    </tr>\n",
       "    <tr>\n",
       "      <th>Maranhão</th>\n",
       "      <td>12</td>\n",
       "      <td>1.000000</td>\n",
       "      <td>1.0</td>\n",
       "      <td>1.128152</td>\n",
       "      <td>3</td>\n",
       "      <td>0</td>\n",
       "    </tr>\n",
       "    <tr>\n",
       "      <th>Mato Grosso</th>\n",
       "      <td>15</td>\n",
       "      <td>1.250000</td>\n",
       "      <td>1.0</td>\n",
       "      <td>1.138180</td>\n",
       "      <td>3</td>\n",
       "      <td>0</td>\n",
       "    </tr>\n",
       "    <tr>\n",
       "      <th>Mato Grosso do Sul</th>\n",
       "      <td>56</td>\n",
       "      <td>4.666667</td>\n",
       "      <td>4.5</td>\n",
       "      <td>2.870962</td>\n",
       "      <td>10</td>\n",
       "      <td>1</td>\n",
       "    </tr>\n",
       "    <tr>\n",
       "      <th>Minas Gerais</th>\n",
       "      <td>325</td>\n",
       "      <td>27.083333</td>\n",
       "      <td>21.5</td>\n",
       "      <td>22.317781</td>\n",
       "      <td>96</td>\n",
       "      <td>11</td>\n",
       "    </tr>\n",
       "    <tr>\n",
       "      <th>Paraná</th>\n",
       "      <td>175</td>\n",
       "      <td>14.583333</td>\n",
       "      <td>11.0</td>\n",
       "      <td>13.303850</td>\n",
       "      <td>55</td>\n",
       "      <td>4</td>\n",
       "    </tr>\n",
       "    <tr>\n",
       "      <th>Paraíba</th>\n",
       "      <td>41</td>\n",
       "      <td>3.416667</td>\n",
       "      <td>2.0</td>\n",
       "      <td>3.752777</td>\n",
       "      <td>14</td>\n",
       "      <td>1</td>\n",
       "    </tr>\n",
       "    <tr>\n",
       "      <th>Pará</th>\n",
       "      <td>89</td>\n",
       "      <td>7.416667</td>\n",
       "      <td>3.0</td>\n",
       "      <td>10.916696</td>\n",
       "      <td>39</td>\n",
       "      <td>0</td>\n",
       "    </tr>\n",
       "    <tr>\n",
       "      <th>Pernambuco</th>\n",
       "      <td>131</td>\n",
       "      <td>10.916667</td>\n",
       "      <td>6.5</td>\n",
       "      <td>13.567731</td>\n",
       "      <td>53</td>\n",
       "      <td>2</td>\n",
       "    </tr>\n",
       "    <tr>\n",
       "      <th>Piauí</th>\n",
       "      <td>17</td>\n",
       "      <td>1.416667</td>\n",
       "      <td>1.0</td>\n",
       "      <td>2.503028</td>\n",
       "      <td>9</td>\n",
       "      <td>0</td>\n",
       "    </tr>\n",
       "    <tr>\n",
       "      <th>Rio Grande do Norte</th>\n",
       "      <td>45</td>\n",
       "      <td>3.750000</td>\n",
       "      <td>2.0</td>\n",
       "      <td>5.047502</td>\n",
       "      <td>19</td>\n",
       "      <td>0</td>\n",
       "    </tr>\n",
       "    <tr>\n",
       "      <th>Rio Grande do Sul</th>\n",
       "      <td>211</td>\n",
       "      <td>17.583333</td>\n",
       "      <td>12.0</td>\n",
       "      <td>22.908745</td>\n",
       "      <td>89</td>\n",
       "      <td>3</td>\n",
       "    </tr>\n",
       "    <tr>\n",
       "      <th>Rio de Janeiro</th>\n",
       "      <td>317</td>\n",
       "      <td>26.416667</td>\n",
       "      <td>23.0</td>\n",
       "      <td>11.397435</td>\n",
       "      <td>60</td>\n",
       "      <td>17</td>\n",
       "    </tr>\n",
       "    <tr>\n",
       "      <th>Rondônia</th>\n",
       "      <td>6</td>\n",
       "      <td>0.500000</td>\n",
       "      <td>0.0</td>\n",
       "      <td>0.674200</td>\n",
       "      <td>2</td>\n",
       "      <td>0</td>\n",
       "    </tr>\n",
       "    <tr>\n",
       "      <th>Roraima</th>\n",
       "      <td>1</td>\n",
       "      <td>0.083333</td>\n",
       "      <td>0.0</td>\n",
       "      <td>0.288675</td>\n",
       "      <td>1</td>\n",
       "      <td>0</td>\n",
       "    </tr>\n",
       "    <tr>\n",
       "      <th>Santa Catarina</th>\n",
       "      <td>229</td>\n",
       "      <td>19.083333</td>\n",
       "      <td>17.5</td>\n",
       "      <td>8.251263</td>\n",
       "      <td>43</td>\n",
       "      <td>9</td>\n",
       "    </tr>\n",
       "    <tr>\n",
       "      <th>Sergipe</th>\n",
       "      <td>20</td>\n",
       "      <td>1.666667</td>\n",
       "      <td>1.0</td>\n",
       "      <td>2.229282</td>\n",
       "      <td>8</td>\n",
       "      <td>0</td>\n",
       "    </tr>\n",
       "    <tr>\n",
       "      <th>São Paulo</th>\n",
       "      <td>1655</td>\n",
       "      <td>137.916667</td>\n",
       "      <td>98.5</td>\n",
       "      <td>129.288584</td>\n",
       "      <td>541</td>\n",
       "      <td>65</td>\n",
       "    </tr>\n",
       "    <tr>\n",
       "      <th>Tocantins</th>\n",
       "      <td>7</td>\n",
       "      <td>0.583333</td>\n",
       "      <td>0.0</td>\n",
       "      <td>1.164500</td>\n",
       "      <td>4</td>\n",
       "      <td>0</td>\n",
       "    </tr>\n",
       "  </tbody>\n",
       "</table>\n",
       "</div>"
      ],
      "text/plain": [
       "                              numero                                         \n",
       "                                 sum        mean median         std  max  min\n",
       "genero    uf                                                                 \n",
       "Feminino  Acre                    12    1.000000    0.0    2.256304    8    0\n",
       "          Alagoas                 56    4.666667    2.0   10.218818   37    0\n",
       "          Amapá                    7    0.583333    0.0    1.164500    4    0\n",
       "          Amazonas                31    2.583333    1.5    3.028901   11    0\n",
       "          Bahia                  170   14.166667   12.5   15.296068   60    0\n",
       "          Ceará                  212   17.666667   13.0   16.372556   69    9\n",
       "          Distrito Federal       136   11.333333    9.0    9.902556   42    5\n",
       "          Espírito Santo          63    5.250000    4.0    3.545163   16    3\n",
       "          Goiás                  116    9.666667    8.0    4.163332   18    4\n",
       "          Maranhão                14    1.166667    1.0    1.403459    5    0\n",
       "          Mato Grosso             31    2.583333    2.0    2.353270    7    0\n",
       "          Mato Grosso do Sul     110    9.166667    7.5    7.120180   29    2\n",
       "          Minas Gerais           412   34.333333   24.5   26.348480  115   19\n",
       "          Paraná                 283   23.583333   15.5   28.118122  111    7\n",
       "          Paraíba                 64    5.333333    4.5    5.565042   22    1\n",
       "          Pará                   112    9.333333    3.5   17.996633   66    1\n",
       "          Pernambuco             260   21.666667   13.0   30.284509  115    4\n",
       "          Piauí                   28    2.333333    1.0    3.420083   12    0\n",
       "          Rio Grande do Norte     69    5.750000    4.0    5.986728   23    1\n",
       "          Rio Grande do Sul      269   22.416667   11.5   31.002810  119    7\n",
       "          Rio de Janeiro         406   33.833333   27.0   24.560994  109   14\n",
       "          Rondônia                18    1.500000    1.0    1.623688    4    0\n",
       "          Roraima                  4    0.333333    0.0    0.651339    2    0\n",
       "          Santa Catarina         200   16.666667   13.5   14.840567   62    7\n",
       "          Sergipe                 23    1.916667    2.0    1.975225    5    0\n",
       "          São Paulo             2445  203.750000  130.5  201.215003  827  105\n",
       "          Tocantins               11    0.916667    0.0    2.314316    8    0\n",
       "Masculino Acre                     6    0.500000    0.0    0.904534    3    0\n",
       "          Alagoas                 39    3.250000    2.0    4.788718   18    1\n",
       "          Amapá                    1    0.083333    0.0    0.288675    1    0\n",
       "          Amazonas                18    1.500000    1.5    1.678744    5    0\n",
       "          Bahia                  118    9.833333    8.5    5.457827   23    3\n",
       "          Ceará                  118    9.833333    8.0    8.736895   35    2\n",
       "          Distrito Federal       138   11.500000    9.0   10.139930   43    5\n",
       "          Espírito Santo          66    5.500000    4.0    3.965763   15    2\n",
       "          Goiás                  102    8.500000    9.0    3.370999   15    3\n",
       "          Maranhão                12    1.000000    1.0    1.128152    3    0\n",
       "          Mato Grosso             15    1.250000    1.0    1.138180    3    0\n",
       "          Mato Grosso do Sul      56    4.666667    4.5    2.870962   10    1\n",
       "          Minas Gerais           325   27.083333   21.5   22.317781   96   11\n",
       "          Paraná                 175   14.583333   11.0   13.303850   55    4\n",
       "          Paraíba                 41    3.416667    2.0    3.752777   14    1\n",
       "          Pará                    89    7.416667    3.0   10.916696   39    0\n",
       "          Pernambuco             131   10.916667    6.5   13.567731   53    2\n",
       "          Piauí                   17    1.416667    1.0    2.503028    9    0\n",
       "          Rio Grande do Norte     45    3.750000    2.0    5.047502   19    0\n",
       "          Rio Grande do Sul      211   17.583333   12.0   22.908745   89    3\n",
       "          Rio de Janeiro         317   26.416667   23.0   11.397435   60   17\n",
       "          Rondônia                 6    0.500000    0.0    0.674200    2    0\n",
       "          Roraima                  1    0.083333    0.0    0.288675    1    0\n",
       "          Santa Catarina         229   19.083333   17.5    8.251263   43    9\n",
       "          Sergipe                 20    1.666667    1.0    2.229282    8    0\n",
       "          São Paulo             1655  137.916667   98.5  129.288584  541   65\n",
       "          Tocantins                7    0.583333    0.0    1.164500    4    0"
      ]
     },
     "execution_count": 33,
     "metadata": {},
     "output_type": "execute_result"
    }
   ],
   "source": [
    "# estatísticas básicas por uf e gênero no ano de 2018\n",
    "# ATENÇÃO: as estatísticas (mean, median, std, max e min) se referem a cada mês, e não ao ano completo\n",
    "# Nas mulheres, SP, por exemplo, tem média de 209 casamentos mensais\n",
    "# e mediana e 130,5\n",
    "# o mínimo mensal por gênero foi 105; o máximo foi 827\n",
    "lgbt_casamento.query('ano == 2018').groupby(['genero', 'uf']).agg({'numero':['sum', 'mean', 'median', 'std', 'max', 'min']})"
   ]
  },
  {
   "cell_type": "markdown",
   "metadata": {
    "id": "f7iC-DgOepz4"
   },
   "source": [
    "### Quem casa mais no meio LGBT? Homens ou mulheres? "
   ]
  },
  {
   "cell_type": "code",
   "execution_count": 34,
   "metadata": {
    "colab": {
     "base_uri": "https://localhost:8080/"
    },
    "id": "DV713UIOTcDc",
    "outputId": "170f3058-7712-4fd7-b136-54022ff62d36"
   },
   "outputs": [
    {
     "name": "stdout",
     "output_type": "stream",
     "text": [
      "      genero  numero\n",
      "0   Feminino   24591\n",
      "1  Masculino   19380\n"
     ]
    }
   ],
   "source": [
    "# as mulheres se casam mais do que os homens\n",
    "casamento_genero = lgbt_casamento.groupby('genero')['numero'].sum().sort_values(ascending=False).reset_index()\n",
    "print(casamento_genero)"
   ]
  },
  {
   "cell_type": "code",
   "execution_count": 35,
   "metadata": {
    "colab": {
     "base_uri": "https://localhost:8080/",
     "height": 416
    },
    "id": "ZcBPqblETgVc",
    "outputId": "523c6ecc-a557-42d6-cd8c-3d6b210a2956"
   },
   "outputs": [
    {
     "data": {
      "text/html": [
       "\n",
       "<div id=\"altair-viz-72689987d5d84db99345458de78991ff\"></div>\n",
       "<script type=\"text/javascript\">\n",
       "  (function(spec, embedOpt){\n",
       "    const outputDiv = document.getElementById(\"altair-viz-72689987d5d84db99345458de78991ff\");\n",
       "    const paths = {\n",
       "      \"vega\": \"https://cdn.jsdelivr.net/npm//vega@5?noext\",\n",
       "      \"vega-lib\": \"https://cdn.jsdelivr.net/npm//vega-lib?noext\",\n",
       "      \"vega-lite\": \"https://cdn.jsdelivr.net/npm//vega-lite@4.0.2?noext\",\n",
       "      \"vega-embed\": \"https://cdn.jsdelivr.net/npm//vega-embed@6?noext\",\n",
       "    };\n",
       "\n",
       "    function loadScript(lib) {\n",
       "      return new Promise(function(resolve, reject) {\n",
       "        var s = document.createElement('script');\n",
       "        s.src = paths[lib];\n",
       "        s.async = true;\n",
       "        s.onload = () => resolve(paths[lib]);\n",
       "        s.onerror = () => reject(`Error loading script: ${paths[lib]}`);\n",
       "        document.getElementsByTagName(\"head\")[0].appendChild(s);\n",
       "      });\n",
       "    }\n",
       "\n",
       "    function showError(err) {\n",
       "      outputDiv.innerHTML = `<div class=\"error\" style=\"color:red;\">${err}</div>`;\n",
       "      throw err;\n",
       "    }\n",
       "\n",
       "    function displayChart(vegaEmbed) {\n",
       "      vegaEmbed(outputDiv, spec, embedOpt)\n",
       "        .catch(err => showError(`Javascript Error: ${err.message}<br>This usually means there's a typo in your chart specification. See the javascript console for the full traceback.`));\n",
       "    }\n",
       "\n",
       "    if(typeof define === \"function\" && define.amd) {\n",
       "      requirejs.config({paths});\n",
       "      require([\"vega-embed\"], displayChart, err => showError(`Error loading script: ${err.message}`));\n",
       "    } else if (typeof vegaEmbed === \"function\") {\n",
       "      displayChart(vegaEmbed);\n",
       "    } else {\n",
       "      loadScript(\"vega\")\n",
       "        .then(() => loadScript(\"vega-lite\"))\n",
       "        .then(() => loadScript(\"vega-embed\"))\n",
       "        .catch(showError)\n",
       "        .then(() => displayChart(vegaEmbed));\n",
       "    }\n",
       "  })({\"height\": 300, \"mark\": \"bar\", \"config\": {\"view\": {\"continuousWidth\": 400, \"continuousHeight\": 300}}, \"width\": 600, \"data\": {\"name\": \"data-0ce3e2602e9479f7e3ab328552050cee\"}, \"selection\": {\"selector002\": {\"encodings\": [\"x\", \"y\"], \"bind\": \"scales\", \"type\": \"interval\"}}, \"encoding\": {\"color\": {\"condition\": {\"test\": \"(datum.genero === 'Feminino')\", \"value\": \"orange\"}, \"value\": \"steelblue\"}, \"y\": {\"type\": \"quantitative\", \"field\": \"numero\", \"title\": \"N\\u00ba de casamentos\"}, \"x\": {\"type\": \"nominal\", \"field\": \"genero\", \"title\": \"Ano\"}, \"tooltip\": [{\"type\": \"nominal\", \"field\": \"genero\"}, {\"type\": \"quantitative\", \"field\": \"numero\"}]}, \"$schema\": \"https://vega.github.io/schema/vega-lite/v4.0.2.json\", \"title\": \"Casamentos homoafetivos: mulheres se casam mais do que homens\", \"datasets\": {\"data-0ce3e2602e9479f7e3ab328552050cee\": [{\"numero\": 24591, \"genero\": \"Feminino\"}, {\"numero\": 19380, \"genero\": \"Masculino\"}]}}, {\"mode\": \"vega-lite\"});\n",
       "</script>"
      ],
      "text/plain": [
       "alt.Chart(...)"
      ]
     },
     "execution_count": 35,
     "metadata": {},
     "output_type": "execute_result"
    }
   ],
   "source": [
    "# gráfico para mostrar os dados citados acima\n",
    "# referência https://altair-viz.github.io/gallery/bar_chart_with_highlighted_bar.html\n",
    "alt.Chart(casamento_genero).mark_bar().encode(\n",
    "    x = alt.X('genero', title = 'Ano'),\n",
    "    y = alt.Y('numero', title = 'Nº de casamentos'),\n",
    "    color=alt.condition(\n",
    "        alt.datum.genero == 'Feminino',\n",
    "        alt.value('orange'),\n",
    "        alt.value('steelblue')\n",
    "    ),\n",
    "    tooltip = ['genero', 'numero']\n",
    ").properties(title = 'Casamentos homoafetivos: mulheres se casam mais do que homens', width=600, height=300).interactive()"
   ]
  },
  {
   "cell_type": "markdown",
   "metadata": {
    "id": "PmeTpmm9e5u7"
   },
   "source": [
    "### As mulheres também se casam mais considerando os dados anuais?"
   ]
  },
  {
   "cell_type": "code",
   "execution_count": 36,
   "metadata": {
    "colab": {
     "base_uri": "https://localhost:8080/"
    },
    "id": "gJgI_EGUWy2j",
    "outputId": "1a5a06cd-e031-4b1b-8425-50fa840cbc14"
   },
   "outputs": [
    {
     "name": "stdout",
     "output_type": "stream",
     "text": [
      "     ano     genero  numero\n",
      "0   2013   Feminino    1926\n",
      "1   2013  Masculino    1774\n",
      "2   2014   Feminino    2438\n",
      "3   2014  Masculino    2402\n",
      "4   2015   Feminino    2986\n",
      "5   2015  Masculino    2628\n",
      "6   2016   Feminino    2943\n",
      "7   2016  Masculino    2411\n",
      "8   2017   Feminino    3387\n",
      "9   2017  Masculino    2500\n",
      "10  2018   Feminino    5562\n",
      "11  2018  Masculino    3958\n",
      "12  2019   Feminino    5349\n",
      "13  2019  Masculino    3707\n"
     ]
    }
   ],
   "source": [
    "# considerando os dados anuais também\n",
    "# as mulheres se casam mais do que os homens\n",
    "# apenas em 2014 a diferença foi pequena\n",
    "casamento_genero_ano = lgbt_casamento.groupby(['ano' , 'genero'])['numero'].sum().reset_index()\n",
    "print(casamento_genero_ano)"
   ]
  },
  {
   "cell_type": "code",
   "execution_count": 37,
   "metadata": {
    "colab": {
     "base_uri": "https://localhost:8080/",
     "height": 398
    },
    "id": "zwAGW1iXXPN3",
    "outputId": "5abe4061-58a1-4ada-913f-f385390b7c1b"
   },
   "outputs": [
    {
     "data": {
      "text/html": [
       "\n",
       "<div id=\"altair-viz-25dcabf2f1784a7080749357de5a3e81\"></div>\n",
       "<script type=\"text/javascript\">\n",
       "  (function(spec, embedOpt){\n",
       "    const outputDiv = document.getElementById(\"altair-viz-25dcabf2f1784a7080749357de5a3e81\");\n",
       "    const paths = {\n",
       "      \"vega\": \"https://cdn.jsdelivr.net/npm//vega@5?noext\",\n",
       "      \"vega-lib\": \"https://cdn.jsdelivr.net/npm//vega-lib?noext\",\n",
       "      \"vega-lite\": \"https://cdn.jsdelivr.net/npm//vega-lite@4.0.2?noext\",\n",
       "      \"vega-embed\": \"https://cdn.jsdelivr.net/npm//vega-embed@6?noext\",\n",
       "    };\n",
       "\n",
       "    function loadScript(lib) {\n",
       "      return new Promise(function(resolve, reject) {\n",
       "        var s = document.createElement('script');\n",
       "        s.src = paths[lib];\n",
       "        s.async = true;\n",
       "        s.onload = () => resolve(paths[lib]);\n",
       "        s.onerror = () => reject(`Error loading script: ${paths[lib]}`);\n",
       "        document.getElementsByTagName(\"head\")[0].appendChild(s);\n",
       "      });\n",
       "    }\n",
       "\n",
       "    function showError(err) {\n",
       "      outputDiv.innerHTML = `<div class=\"error\" style=\"color:red;\">${err}</div>`;\n",
       "      throw err;\n",
       "    }\n",
       "\n",
       "    function displayChart(vegaEmbed) {\n",
       "      vegaEmbed(outputDiv, spec, embedOpt)\n",
       "        .catch(err => showError(`Javascript Error: ${err.message}<br>This usually means there's a typo in your chart specification. See the javascript console for the full traceback.`));\n",
       "    }\n",
       "\n",
       "    if(typeof define === \"function\" && define.amd) {\n",
       "      requirejs.config({paths});\n",
       "      require([\"vega-embed\"], displayChart, err => showError(`Error loading script: ${err.message}`));\n",
       "    } else if (typeof vegaEmbed === \"function\") {\n",
       "      displayChart(vegaEmbed);\n",
       "    } else {\n",
       "      loadScript(\"vega\")\n",
       "        .then(() => loadScript(\"vega-lite\"))\n",
       "        .then(() => loadScript(\"vega-embed\"))\n",
       "        .catch(showError)\n",
       "        .then(() => displayChart(vegaEmbed));\n",
       "    }\n",
       "  })({\"height\": 300, \"mark\": \"line\", \"config\": {\"view\": {\"continuousWidth\": 400, \"continuousHeight\": 300}}, \"width\": 600, \"data\": {\"name\": \"data-175d2b562915a6a1a5373d95b2c89d82\"}, \"selection\": {\"selector003\": {\"encodings\": [\"x\", \"y\"], \"bind\": \"scales\", \"type\": \"interval\"}}, \"encoding\": {\"color\": {\"type\": \"nominal\", \"sort\": [\"Masculino\", \"Feminino\"], \"field\": \"genero\", \"title\": \"G\\u00eanero\"}, \"y\": {\"type\": \"quantitative\", \"field\": \"numero\", \"title\": \"N\\u00ba de casamentos\"}, \"x\": {\"type\": \"ordinal\", \"field\": \"ano\", \"title\": \"Ano\"}, \"tooltip\": [{\"type\": \"quantitative\", \"field\": \"ano\"}, {\"type\": \"quantitative\", \"field\": \"numero\"}, {\"type\": \"nominal\", \"field\": \"genero\"}]}, \"$schema\": \"https://vega.github.io/schema/vega-lite/v4.0.2.json\", \"title\": \"2014 foi o ano com mais proximidade\", \"datasets\": {\"data-175d2b562915a6a1a5373d95b2c89d82\": [{\"ano\": 2013, \"numero\": 1926, \"genero\": \"Feminino\"}, {\"ano\": 2013, \"numero\": 1774, \"genero\": \"Masculino\"}, {\"ano\": 2014, \"numero\": 2438, \"genero\": \"Feminino\"}, {\"ano\": 2014, \"numero\": 2402, \"genero\": \"Masculino\"}, {\"ano\": 2015, \"numero\": 2986, \"genero\": \"Feminino\"}, {\"ano\": 2015, \"numero\": 2628, \"genero\": \"Masculino\"}, {\"ano\": 2016, \"numero\": 2943, \"genero\": \"Feminino\"}, {\"ano\": 2016, \"numero\": 2411, \"genero\": \"Masculino\"}, {\"ano\": 2017, \"numero\": 3387, \"genero\": \"Feminino\"}, {\"ano\": 2017, \"numero\": 2500, \"genero\": \"Masculino\"}, {\"ano\": 2018, \"numero\": 5562, \"genero\": \"Feminino\"}, {\"ano\": 2018, \"numero\": 3958, \"genero\": \"Masculino\"}, {\"ano\": 2019, \"numero\": 5349, \"genero\": \"Feminino\"}, {\"ano\": 2019, \"numero\": 3707, \"genero\": \"Masculino\"}]}}, {\"mode\": \"vega-lite\"});\n",
       "</script>"
      ],
      "text/plain": [
       "alt.Chart(...)"
      ]
     },
     "execution_count": 37,
     "metadata": {},
     "output_type": "execute_result"
    }
   ],
   "source": [
    "# gráfico para mostrar os dados citados acima\n",
    "# referência https://altair-viz.github.io/gallery/line_percent.html\n",
    "alt.Chart(casamento_genero_ano).mark_line().encode(\n",
    "    x = alt.X('ano:O', title = 'Ano'),\n",
    "    y = alt.Y('numero', title = 'Nº de casamentos'),\n",
    "    color= alt.Color('genero:N', sort = ['Masculino', 'Feminino'], title = 'Gênero'),\n",
    "    tooltip = ['ano', 'numero', 'genero']\n",
    ").properties(title = '2014 foi o ano com mais proximidade', width=600, height=300).interactive()"
   ]
  },
  {
   "cell_type": "markdown",
   "metadata": {
    "id": "nBIEZfNNfDlH"
   },
   "source": [
    "### Em qual mês as pessoas mais se casam? E menos?"
   ]
  },
  {
   "cell_type": "code",
   "execution_count": 38,
   "metadata": {
    "colab": {
     "base_uri": "https://localhost:8080/"
    },
    "id": "4xtytfyRZ3Y2",
    "outputId": "2270eb8c-579f-4345-f228-6cd7d01c7516"
   },
   "outputs": [
    {
     "name": "stdout",
     "output_type": "stream",
     "text": [
      "          mes  numero\n",
      "0    Dezembro    6804\n",
      "1    Novembro    4363\n",
      "2     Outubro    3940\n",
      "3    Setembro    3890\n",
      "4     Janeiro    3386\n",
      "5       Julho    3373\n",
      "6       Junho    3122\n",
      "7        Maio    3118\n",
      "8      Agosto    3101\n",
      "9       Março    3073\n",
      "10  Fevereiro    3001\n",
      "11      Abril    2800\n"
     ]
    }
   ],
   "source": [
    "# dezembro é o mês com mais casamentos\n",
    "# abril é o mês com menos casamentos\n",
    "casamento_mes = lgbt_casamento.groupby(['mes'])['numero'].sum().sort_values(ascending=False).reset_index()\n",
    "print(casamento_mes)"
   ]
  },
  {
   "cell_type": "code",
   "execution_count": 39,
   "metadata": {
    "colab": {
     "base_uri": "https://localhost:8080/",
     "height": 423
    },
    "id": "Nn9wiKhlaLle",
    "outputId": "423ac0b0-9e6d-41f2-a068-978e5353e569"
   },
   "outputs": [
    {
     "data": {
      "text/html": [
       "\n",
       "<div id=\"altair-viz-b7ac13d4f0484065bfb5923d3998a446\"></div>\n",
       "<script type=\"text/javascript\">\n",
       "  (function(spec, embedOpt){\n",
       "    const outputDiv = document.getElementById(\"altair-viz-b7ac13d4f0484065bfb5923d3998a446\");\n",
       "    const paths = {\n",
       "      \"vega\": \"https://cdn.jsdelivr.net/npm//vega@5?noext\",\n",
       "      \"vega-lib\": \"https://cdn.jsdelivr.net/npm//vega-lib?noext\",\n",
       "      \"vega-lite\": \"https://cdn.jsdelivr.net/npm//vega-lite@4.0.2?noext\",\n",
       "      \"vega-embed\": \"https://cdn.jsdelivr.net/npm//vega-embed@6?noext\",\n",
       "    };\n",
       "\n",
       "    function loadScript(lib) {\n",
       "      return new Promise(function(resolve, reject) {\n",
       "        var s = document.createElement('script');\n",
       "        s.src = paths[lib];\n",
       "        s.async = true;\n",
       "        s.onload = () => resolve(paths[lib]);\n",
       "        s.onerror = () => reject(`Error loading script: ${paths[lib]}`);\n",
       "        document.getElementsByTagName(\"head\")[0].appendChild(s);\n",
       "      });\n",
       "    }\n",
       "\n",
       "    function showError(err) {\n",
       "      outputDiv.innerHTML = `<div class=\"error\" style=\"color:red;\">${err}</div>`;\n",
       "      throw err;\n",
       "    }\n",
       "\n",
       "    function displayChart(vegaEmbed) {\n",
       "      vegaEmbed(outputDiv, spec, embedOpt)\n",
       "        .catch(err => showError(`Javascript Error: ${err.message}<br>This usually means there's a typo in your chart specification. See the javascript console for the full traceback.`));\n",
       "    }\n",
       "\n",
       "    if(typeof define === \"function\" && define.amd) {\n",
       "      requirejs.config({paths});\n",
       "      require([\"vega-embed\"], displayChart, err => showError(`Error loading script: ${err.message}`));\n",
       "    } else if (typeof vegaEmbed === \"function\") {\n",
       "      displayChart(vegaEmbed);\n",
       "    } else {\n",
       "      loadScript(\"vega\")\n",
       "        .then(() => loadScript(\"vega-lite\"))\n",
       "        .then(() => loadScript(\"vega-embed\"))\n",
       "        .catch(showError)\n",
       "        .then(() => displayChart(vegaEmbed));\n",
       "    }\n",
       "  })({\"height\": 300, \"mark\": {\"type\": \"bar\", \"point\": true}, \"config\": {\"view\": {\"continuousWidth\": 400, \"continuousHeight\": 300}}, \"width\": 600, \"data\": {\"name\": \"data-8cb183c4710bc491993ed5c747035d95\"}, \"selection\": {\"selector004\": {\"encodings\": [\"x\", \"y\"], \"bind\": \"scales\", \"type\": \"interval\"}}, \"encoding\": {\"color\": {\"condition\": {\"test\": \"(datum.mes === 'Dezembro')\", \"value\": \"orange\"}, \"value\": \"steelblue\"}, \"y\": {\"type\": \"quantitative\", \"field\": \"numero\", \"title\": \"N\\u00famero\"}, \"x\": {\"type\": \"nominal\", \"sort\": [\"Dezembro\", \"Novembro\", \"Outubro\"], \"field\": \"mes\", \"title\": \"M\\u00eas\"}, \"tooltip\": [{\"type\": \"nominal\", \"field\": \"mes\"}, {\"type\": \"quantitative\", \"field\": \"numero\"}]}, \"$schema\": \"https://vega.github.io/schema/vega-lite/v4.0.2.json\", \"title\": \"Dezembro \\u00e9 o m\\u00eas com mais casamentos homoafetivos\", \"datasets\": {\"data-8cb183c4710bc491993ed5c747035d95\": [{\"mes\": \"Dezembro\", \"numero\": 6804}, {\"mes\": \"Novembro\", \"numero\": 4363}, {\"mes\": \"Outubro\", \"numero\": 3940}, {\"mes\": \"Setembro\", \"numero\": 3890}, {\"mes\": \"Janeiro\", \"numero\": 3386}, {\"mes\": \"Julho\", \"numero\": 3373}, {\"mes\": \"Junho\", \"numero\": 3122}, {\"mes\": \"Maio\", \"numero\": 3118}, {\"mes\": \"Agosto\", \"numero\": 3101}, {\"mes\": \"Mar\\u00e7o\", \"numero\": 3073}, {\"mes\": \"Fevereiro\", \"numero\": 3001}, {\"mes\": \"Abril\", \"numero\": 2800}]}}, {\"mode\": \"vega-lite\"});\n",
       "</script>"
      ],
      "text/plain": [
       "alt.Chart(...)"
      ]
     },
     "execution_count": 39,
     "metadata": {},
     "output_type": "execute_result"
    }
   ],
   "source": [
    "# gráfico para mostrar os dados citados acima\n",
    "# referência https://altair-viz.github.io/gallery/bar_chart_with_highlighted_bar.html\n",
    "alt.Chart(casamento_mes).mark_bar(point=True).encode(\n",
    "    x = alt.X('mes', title = 'Mês', sort=['Dezembro', 'Novembro', 'Outubro']),\n",
    "    y = alt.Y('numero', title='Número'),\n",
    "    tooltip = ['mes', 'numero'],\n",
    "    color=alt.condition(\n",
    "        alt.datum.mes == 'Dezembro',  \n",
    "        alt.value('orange'),    \n",
    "        alt.value('steelblue')\n",
    "    ),\n",
    ").properties(\n",
    "    title = 'Dezembro é o mês com mais casamentos homoafetivos', width = 600, height=300).interactive()"
   ]
  },
  {
   "cell_type": "markdown",
   "metadata": {
    "id": "-CUKGBbDfJTr"
   },
   "source": [
    "### Há mais casamentos homoafetivos após a vitória de Jair Bolsonaro, em 28 de outubro de 2018?\n"
   ]
  },
  {
   "cell_type": "code",
   "execution_count": 40,
   "metadata": {
    "colab": {
     "base_uri": "https://localhost:8080/"
    },
    "id": "2MQlOsFpbAJN",
    "outputId": "81a50bdf-557a-4718-be1e-e1230307d5ce"
   },
   "outputs": [
    {
     "name": "stdout",
     "output_type": "stream",
     "text": [
      "          mes   ano  numero\n",
      "0    Dezembro  2018    3098\n",
      "1     Janeiro  2019    1319\n",
      "2   Fevereiro  2019    1033\n",
      "3    Novembro  2018     957\n",
      "4    Dezembro  2019     774\n",
      "..        ...   ...     ...\n",
      "79       Maio  2013     235\n",
      "80      Abril  2013     221\n",
      "81      Março  2013     160\n",
      "82  Fevereiro  2013     110\n",
      "83    Janeiro  2013      74\n",
      "\n",
      "[84 rows x 3 columns]\n"
     ]
    }
   ],
   "source": [
    "# observe: dezembro de 2018 foi o mês com mais casamentos\n",
    "# logo depois, janeiro de 2019, fevereiro de 2019, novembro de 2018...\n",
    "# todos são meses próximos - e após a eleição de Jair Bolsonaro\n",
    "casamento_mes_ano = lgbt_casamento.groupby(['mes', 'ano'])['numero'].sum().sort_values(ascending=False).reset_index()\n",
    "print(casamento_mes_ano)"
   ]
  },
  {
   "cell_type": "code",
   "execution_count": 41,
   "metadata": {
    "colab": {
     "base_uri": "https://localhost:8080/",
     "height": 417
    },
    "id": "RGjfq5PtbX4B",
    "outputId": "8a8eb182-f849-497b-b64e-1acbf88ba040"
   },
   "outputs": [
    {
     "data": {
      "text/html": [
       "\n",
       "<div id=\"altair-viz-0969ef901ccf426595dd6708edb3fa58\"></div>\n",
       "<script type=\"text/javascript\">\n",
       "  (function(spec, embedOpt){\n",
       "    const outputDiv = document.getElementById(\"altair-viz-0969ef901ccf426595dd6708edb3fa58\");\n",
       "    const paths = {\n",
       "      \"vega\": \"https://cdn.jsdelivr.net/npm//vega@5?noext\",\n",
       "      \"vega-lib\": \"https://cdn.jsdelivr.net/npm//vega-lib?noext\",\n",
       "      \"vega-lite\": \"https://cdn.jsdelivr.net/npm//vega-lite@4.0.2?noext\",\n",
       "      \"vega-embed\": \"https://cdn.jsdelivr.net/npm//vega-embed@6?noext\",\n",
       "    };\n",
       "\n",
       "    function loadScript(lib) {\n",
       "      return new Promise(function(resolve, reject) {\n",
       "        var s = document.createElement('script');\n",
       "        s.src = paths[lib];\n",
       "        s.async = true;\n",
       "        s.onload = () => resolve(paths[lib]);\n",
       "        s.onerror = () => reject(`Error loading script: ${paths[lib]}`);\n",
       "        document.getElementsByTagName(\"head\")[0].appendChild(s);\n",
       "      });\n",
       "    }\n",
       "\n",
       "    function showError(err) {\n",
       "      outputDiv.innerHTML = `<div class=\"error\" style=\"color:red;\">${err}</div>`;\n",
       "      throw err;\n",
       "    }\n",
       "\n",
       "    function displayChart(vegaEmbed) {\n",
       "      vegaEmbed(outputDiv, spec, embedOpt)\n",
       "        .catch(err => showError(`Javascript Error: ${err.message}<br>This usually means there's a typo in your chart specification. See the javascript console for the full traceback.`));\n",
       "    }\n",
       "\n",
       "    if(typeof define === \"function\" && define.amd) {\n",
       "      requirejs.config({paths});\n",
       "      require([\"vega-embed\"], displayChart, err => showError(`Error loading script: ${err.message}`));\n",
       "    } else if (typeof vegaEmbed === \"function\") {\n",
       "      displayChart(vegaEmbed);\n",
       "    } else {\n",
       "      loadScript(\"vega\")\n",
       "        .then(() => loadScript(\"vega-lite\"))\n",
       "        .then(() => loadScript(\"vega-embed\"))\n",
       "        .catch(showError)\n",
       "        .then(() => displayChart(vegaEmbed));\n",
       "    }\n",
       "  })({\"height\": 300, \"mark\": \"rect\", \"config\": {\"view\": {\"continuousWidth\": 400, \"continuousHeight\": 300}}, \"width\": 600, \"data\": {\"name\": \"data-62e9f144c11a6a155ed83d91fd65fec2\"}, \"encoding\": {\"color\": {\"type\": \"quantitative\", \"field\": \"numero\", \"title\": \"N\\u00ba de casamentos\"}, \"y\": {\"type\": \"ordinal\", \"field\": \"ano\", \"title\": \"Ano\"}, \"x\": {\"type\": \"nominal\", \"sort\": [\"Janeiro\", \"Fevereiro\", \"Mar\\u00e7o\", \"Abril\", \"Maio\", \"Junho\", \"Julho\", \"Agosto\", \"Setembro\", \"Outubro\", \"Novembro\", \"Dezembro\"], \"field\": \"mes\", \"title\": \"M\\u00eas\"}, \"tooltip\": [{\"type\": \"nominal\", \"field\": \"mes\"}, {\"type\": \"quantitative\", \"field\": \"ano\"}, {\"type\": \"quantitative\", \"field\": \"numero\"}]}, \"$schema\": \"https://vega.github.io/schema/vega-lite/v4.0.2.json\", \"title\": \"Dezembro de 2018 foi o pico de casamentos homoafetivos\", \"datasets\": {\"data-62e9f144c11a6a155ed83d91fd65fec2\": [{\"mes\": \"Dezembro\", \"numero\": 3098, \"ano\": 2018}, {\"mes\": \"Janeiro\", \"numero\": 1319, \"ano\": 2019}, {\"mes\": \"Fevereiro\", \"numero\": 1033, \"ano\": 2019}, {\"mes\": \"Novembro\", \"numero\": 957, \"ano\": 2018}, {\"mes\": \"Dezembro\", \"numero\": 774, \"ano\": 2019}, {\"mes\": \"Novembro\", \"numero\": 759, \"ano\": 2019}, {\"mes\": \"Mar\\u00e7o\", \"numero\": 753, \"ano\": 2019}, {\"mes\": \"Dezembro\", \"numero\": 723, \"ano\": 2015}, {\"mes\": \"Outubro\", \"numero\": 692, \"ano\": 2019}, {\"mes\": \"Outubro\", \"numero\": 674, \"ano\": 2018}, {\"mes\": \"Setembro\", \"numero\": 674, \"ano\": 2018}, {\"mes\": \"Setembro\", \"numero\": 656, \"ano\": 2019}, {\"mes\": \"Maio\", \"numero\": 631, \"ano\": 2019}, {\"mes\": \"Junho\", \"numero\": 624, \"ano\": 2019}, {\"mes\": \"Dezembro\", \"numero\": 614, \"ano\": 2017}, {\"mes\": \"Agosto\", \"numero\": 607, \"ano\": 2019}, {\"mes\": \"Abril\", \"numero\": 607, \"ano\": 2019}, {\"mes\": \"Julho\", \"numero\": 601, \"ano\": 2019}, {\"mes\": \"Novembro\", \"numero\": 597, \"ano\": 2017}, {\"mes\": \"Setembro\", \"numero\": 579, \"ano\": 2017}, {\"mes\": \"Julho\", \"numero\": 576, \"ano\": 2018}, {\"mes\": \"Outubro\", \"numero\": 576, \"ano\": 2014}, {\"mes\": \"Dezembro\", \"numero\": 571, \"ano\": 2014}, {\"mes\": \"Novembro\", \"numero\": 569, \"ano\": 2014}, {\"mes\": \"Setembro\", \"numero\": 554, \"ano\": 2015}, {\"mes\": \"Dezembro\", \"numero\": 550, \"ano\": 2016}, {\"mes\": \"Outubro\", \"numero\": 549, \"ano\": 2017}, {\"mes\": \"Setembro\", \"numero\": 549, \"ano\": 2016}, {\"mes\": \"Maio\", \"numero\": 541, \"ano\": 2018}, {\"mes\": \"Junho\", \"numero\": 539, \"ano\": 2018}, {\"mes\": \"Outubro\", \"numero\": 533, \"ano\": 2015}, {\"mes\": \"Mar\\u00e7o\", \"numero\": 526, \"ano\": 2018}, {\"mes\": \"Novembro\", \"numero\": 526, \"ano\": 2015}, {\"mes\": \"Agosto\", \"numero\": 518, \"ano\": 2018}, {\"mes\": \"Julho\", \"numero\": 515, \"ano\": 2015}, {\"mes\": \"Novembro\", \"numero\": 510, \"ano\": 2016}, {\"mes\": \"Julho\", \"numero\": 500, \"ano\": 2017}, {\"mes\": \"Maio\", \"numero\": 494, \"ano\": 2017}, {\"mes\": \"Janeiro\", \"numero\": 488, \"ano\": 2018}, {\"mes\": \"Mar\\u00e7o\", \"numero\": 480, \"ano\": 2017}, {\"mes\": \"Setembro\", \"numero\": 475, \"ano\": 2014}, {\"mes\": \"Dezembro\", \"numero\": 474, \"ano\": 2013}, {\"mes\": \"Fevereiro\", \"numero\": 471, \"ano\": 2018}, {\"mes\": \"Outubro\", \"numero\": 470, \"ano\": 2016}, {\"mes\": \"Abril\", \"numero\": 458, \"ano\": 2018}, {\"mes\": \"Junho\", \"numero\": 457, \"ano\": 2017}, {\"mes\": \"Junho\", \"numero\": 453, \"ano\": 2015}, {\"mes\": \"Julho\", \"numero\": 448, \"ano\": 2016}, {\"mes\": \"Outubro\", \"numero\": 446, \"ano\": 2013}, {\"mes\": \"Agosto\", \"numero\": 446, \"ano\": 2017}, {\"mes\": \"Novembro\", \"numero\": 445, \"ano\": 2013}, {\"mes\": \"Abril\", \"numero\": 431, \"ano\": 2016}, {\"mes\": \"Junho\", \"numero\": 423, \"ano\": 2016}, {\"mes\": \"Maio\", \"numero\": 421, \"ano\": 2016}, {\"mes\": \"Maio\", \"numero\": 416, \"ano\": 2015}, {\"mes\": \"Agosto\", \"numero\": 410, \"ano\": 2016}, {\"mes\": \"Janeiro\", \"numero\": 407, \"ano\": 2017}, {\"mes\": \"Setembro\", \"numero\": 403, \"ano\": 2013}, {\"mes\": \"Mar\\u00e7o\", \"numero\": 401, \"ano\": 2016}, {\"mes\": \"Abril\", \"numero\": 399, \"ano\": 2017}, {\"mes\": \"Julho\", \"numero\": 399, \"ano\": 2013}, {\"mes\": \"Agosto\", \"numero\": 399, \"ano\": 2013}, {\"mes\": \"Agosto\", \"numero\": 399, \"ano\": 2015}, {\"mes\": \"Abril\", \"numero\": 398, \"ano\": 2015}, {\"mes\": \"Janeiro\", \"numero\": 398, \"ano\": 2016}, {\"mes\": \"Mar\\u00e7o\", \"numero\": 391, \"ano\": 2015}, {\"mes\": \"Maio\", \"numero\": 380, \"ano\": 2014}, {\"mes\": \"Janeiro\", \"numero\": 367, \"ano\": 2015}, {\"mes\": \"Fevereiro\", \"numero\": 365, \"ano\": 2017}, {\"mes\": \"Mar\\u00e7o\", \"numero\": 362, \"ano\": 2014}, {\"mes\": \"Fevereiro\", \"numero\": 343, \"ano\": 2016}, {\"mes\": \"Fevereiro\", \"numero\": 340, \"ano\": 2014}, {\"mes\": \"Fevereiro\", \"numero\": 339, \"ano\": 2015}, {\"mes\": \"Julho\", \"numero\": 334, \"ano\": 2014}, {\"mes\": \"Junho\", \"numero\": 334, \"ano\": 2013}, {\"mes\": \"Janeiro\", \"numero\": 333, \"ano\": 2014}, {\"mes\": \"Agosto\", \"numero\": 322, \"ano\": 2014}, {\"mes\": \"Junho\", \"numero\": 292, \"ano\": 2014}, {\"mes\": \"Abril\", \"numero\": 286, \"ano\": 2014}, {\"mes\": \"Maio\", \"numero\": 235, \"ano\": 2013}, {\"mes\": \"Abril\", \"numero\": 221, \"ano\": 2013}, {\"mes\": \"Mar\\u00e7o\", \"numero\": 160, \"ano\": 2013}, {\"mes\": \"Fevereiro\", \"numero\": 110, \"ano\": 2013}, {\"mes\": \"Janeiro\", \"numero\": 74, \"ano\": 2013}]}}, {\"mode\": \"vega-lite\"});\n",
       "</script>"
      ],
      "text/plain": [
       "alt.Chart(...)"
      ]
     },
     "execution_count": 41,
     "metadata": {},
     "output_type": "execute_result"
    }
   ],
   "source": [
    "# gráfico para mostrar os dados citados acima\n",
    "# referência https://altair-viz.github.io/gallery/simple_heatmap.html\n",
    "alt.Chart(casamento_mes_ano).mark_rect().encode(\n",
    "    x = alt.X('mes', title = 'Mês', sort=['Janeiro', 'Fevereiro', 'Março', 'Abril', 'Maio', 'Junho', 'Julho', 'Agosto', 'Setembro', 'Outubro', 'Novembro', 'Dezembro']),\n",
    "    y = alt.Y('ano:O', title = 'Ano'),\n",
    "    color= alt.Color('numero:Q', title = 'Nº de casamentos'),\n",
    "    tooltip = ['mes', 'ano', 'numero'],\n",
    ").properties(title = 'Dezembro de 2018 foi o pico de casamentos homoafetivos', width=600, height=300)"
   ]
  },
  {
   "cell_type": "markdown",
   "metadata": {
    "id": "d_SLx531fuTo"
   },
   "source": [
    "### Em quais estados aconteceram mais casamentos LGBTs em números absolutos? E menos?"
   ]
  },
  {
   "cell_type": "code",
   "execution_count": 42,
   "metadata": {
    "colab": {
     "base_uri": "https://localhost:8080/"
    },
    "id": "MWoO8KwOfvsz",
    "outputId": "3b6ccb47-5d68-4d5d-9d27-f13d8aabfd5c"
   },
   "outputs": [
    {
     "name": "stdout",
     "output_type": "stream",
     "text": [
      "                     uf  numero     n_perc\n",
      "0             São Paulo   18267  41.543290\n",
      "1        Rio de Janeiro    4110   9.347070\n",
      "2          Minas Gerais    3310   7.527689\n",
      "3        Santa Catarina    2434   5.535467\n",
      "4                Paraná    2041   4.641696\n",
      "5     Rio Grande do Sul    1913   4.350595\n",
      "6                 Ceará    1888   4.293739\n",
      "7            Pernambuco    1519   3.454550\n",
      "8                 Bahia    1268   2.883719\n",
      "9      Distrito Federal    1202   2.733620\n",
      "10                Goiás    1069   2.431148\n",
      "11                 Pará     706   1.605604\n",
      "12   Mato Grosso do Sul     686   1.560119\n",
      "13       Espírito Santo     601   1.366810\n",
      "14  Rio Grande do Norte     499   1.134839\n",
      "15              Paraíba     473   1.075709\n",
      "16             Amazonas     371   0.843738\n",
      "17              Alagoas     332   0.755043\n",
      "18             Maranhão     257   0.584476\n",
      "19          Mato Grosso     237   0.538992\n",
      "20                Piauí     185   0.420732\n",
      "21             Rondônia     162   0.368425\n",
      "22              Sergipe     158   0.359328\n",
      "23            Tocantins      85   0.193309\n",
      "24                Amapá      77   0.175115\n",
      "25                 Acre      69   0.156922\n",
      "26              Roraima      52   0.118260\n"
     ]
    }
   ],
   "source": [
    "# mais de 18 mil casamentos foram em SP, seguido pelo RJ e por MG\n",
    "# SP concentra 41,5% dos casamentos homoafetivos e é também o estado mais populoso do Brasil\n",
    "# já Roraima, Acre e Amapá aparecem com poucos casamentos e também são pouco populosos\n",
    "casamento_uf = lgbt_casamento.groupby('uf')['numero'].sum().sort_values(ascending=False).reset_index()\n",
    "casamento_uf['n_perc'] = (casamento_uf['numero'] / sum(casamento_uf['numero'])) * 100\n",
    "print(casamento_uf)"
   ]
  },
  {
   "cell_type": "code",
   "execution_count": 43,
   "metadata": {
    "colab": {
     "base_uri": "https://localhost:8080/",
     "height": 381
    },
    "id": "Jt46MsUGzNQL",
    "outputId": "da8cdf19-43e1-4485-cd6c-b941d7b2041b"
   },
   "outputs": [
    {
     "data": {
      "text/html": [
       "\n",
       "<div id=\"altair-viz-43ea5c650e4446aab23e1bb80b8474b2\"></div>\n",
       "<script type=\"text/javascript\">\n",
       "  (function(spec, embedOpt){\n",
       "    const outputDiv = document.getElementById(\"altair-viz-43ea5c650e4446aab23e1bb80b8474b2\");\n",
       "    const paths = {\n",
       "      \"vega\": \"https://cdn.jsdelivr.net/npm//vega@5?noext\",\n",
       "      \"vega-lib\": \"https://cdn.jsdelivr.net/npm//vega-lib?noext\",\n",
       "      \"vega-lite\": \"https://cdn.jsdelivr.net/npm//vega-lite@4.0.2?noext\",\n",
       "      \"vega-embed\": \"https://cdn.jsdelivr.net/npm//vega-embed@6?noext\",\n",
       "    };\n",
       "\n",
       "    function loadScript(lib) {\n",
       "      return new Promise(function(resolve, reject) {\n",
       "        var s = document.createElement('script');\n",
       "        s.src = paths[lib];\n",
       "        s.async = true;\n",
       "        s.onload = () => resolve(paths[lib]);\n",
       "        s.onerror = () => reject(`Error loading script: ${paths[lib]}`);\n",
       "        document.getElementsByTagName(\"head\")[0].appendChild(s);\n",
       "      });\n",
       "    }\n",
       "\n",
       "    function showError(err) {\n",
       "      outputDiv.innerHTML = `<div class=\"error\" style=\"color:red;\">${err}</div>`;\n",
       "      throw err;\n",
       "    }\n",
       "\n",
       "    function displayChart(vegaEmbed) {\n",
       "      vegaEmbed(outputDiv, spec, embedOpt)\n",
       "        .catch(err => showError(`Javascript Error: ${err.message}<br>This usually means there's a typo in your chart specification. See the javascript console for the full traceback.`));\n",
       "    }\n",
       "\n",
       "    if(typeof define === \"function\" && define.amd) {\n",
       "      requirejs.config({paths});\n",
       "      require([\"vega-embed\"], displayChart, err => showError(`Error loading script: ${err.message}`));\n",
       "    } else if (typeof vegaEmbed === \"function\") {\n",
       "      displayChart(vegaEmbed);\n",
       "    } else {\n",
       "      loadScript(\"vega\")\n",
       "        .then(() => loadScript(\"vega-lite\"))\n",
       "        .then(() => loadScript(\"vega-embed\"))\n",
       "        .catch(showError)\n",
       "        .then(() => displayChart(vegaEmbed));\n",
       "    }\n",
       "  })({\"height\": 300, \"mark\": \"bar\", \"config\": {\"view\": {\"continuousWidth\": 400, \"continuousHeight\": 300}}, \"width\": 600, \"data\": {\"name\": \"data-e6d2011c947260195fe562a3d84b3f15\"}, \"encoding\": {\"y\": {\"type\": \"nominal\", \"sort\": [\"S\\u00e3o Paulo\", \"Rio de Janeiro\", \"Minas Gerais\", \"Santa Catarina\"], \"field\": \"uf\", \"title\": \"UF\"}, \"x\": {\"type\": \"quantitative\", \"field\": \"numero\", \"title\": \"N\\u00ba de casamentos\"}, \"tooltip\": [{\"type\": \"nominal\", \"field\": \"uf\"}, {\"type\": \"quantitative\", \"field\": \"numero\"}, {\"type\": \"quantitative\", \"field\": \"n_perc\"}]}, \"$schema\": \"https://vega.github.io/schema/vega-lite/v4.0.2.json\", \"title\": \"Casamento LGBT: estados do Sudeste e do Sul aparecem primeiro no ranking\", \"datasets\": {\"data-e6d2011c947260195fe562a3d84b3f15\": [{\"numero\": 18267, \"n_perc\": 41.543289895613015, \"uf\": \"S\\u00e3o Paulo\"}, {\"numero\": 4110, \"n_perc\": 9.347069659548339, \"uf\": \"Rio de Janeiro\"}, {\"numero\": 3310, \"n_perc\": 7.527688703918492, \"uf\": \"Minas Gerais\"}, {\"numero\": 2434, \"n_perc\": 5.535466557503809, \"uf\": \"Santa Catarina\"}, {\"numero\": 2041, \"n_perc\": 4.641695663050647, \"uf\": \"Paran\\u00e1\"}, {\"numero\": 1913, \"n_perc\": 4.350594710149871, \"uf\": \"Rio Grande do Sul\"}, {\"numero\": 1888, \"n_perc\": 4.293739055286439, \"uf\": \"Cear\\u00e1\"}, {\"numero\": 1519, \"n_perc\": 3.454549589502172, \"uf\": \"Pernambuco\"}, {\"numero\": 1268, \"n_perc\": 2.8837188146733075, \"uf\": \"Bahia\"}, {\"numero\": 1202, \"n_perc\": 2.733619885833845, \"uf\": \"Distrito Federal\"}, {\"numero\": 1069, \"n_perc\": 2.431147801960383, \"uf\": \"Goi\\u00e1s\"}, {\"numero\": 706, \"n_perc\": 1.60560369334334, \"uf\": \"Par\\u00e1\"}, {\"numero\": 686, \"n_perc\": 1.5601191694525938, \"uf\": \"Mato Grosso do Sul\"}, {\"numero\": 601, \"n_perc\": 1.3668099429169225, \"uf\": \"Esp\\u00edrito Santo\"}, {\"numero\": 499, \"n_perc\": 1.134838871074117, \"uf\": \"Rio Grande do Norte\"}, {\"numero\": 473, \"n_perc\": 1.075708990016147, \"uf\": \"Para\\u00edba\"}, {\"numero\": 371, \"n_perc\": 0.8437379181733415, \"uf\": \"Amazonas\"}, {\"numero\": 332, \"n_perc\": 0.7550430965863865, \"uf\": \"Alagoas\"}, {\"numero\": 257, \"n_perc\": 0.5844761319960884, \"uf\": \"Maranh\\u00e3o\"}, {\"numero\": 237, \"n_perc\": 0.5389916081053422, \"uf\": \"Mato Grosso\"}, {\"numero\": 185, \"n_perc\": 0.4207318459894021, \"uf\": \"Piau\\u00ed\"}, {\"numero\": 162, \"n_perc\": 0.368424643515044, \"uf\": \"Rond\\u00f4nia\"}, {\"numero\": 158, \"n_perc\": 0.3593277387368948, \"uf\": \"Sergipe\"}, {\"numero\": 85, \"n_perc\": 0.19330922653567126, \"uf\": \"Tocantins\"}, {\"numero\": 77, \"n_perc\": 0.17511541697937277, \"uf\": \"Amap\\u00e1\"}, {\"numero\": 69, \"n_perc\": 0.15692160742307432, \"uf\": \"Acre\"}, {\"numero\": 52, \"n_perc\": 0.11825976211594005, \"uf\": \"Roraima\"}]}}, {\"mode\": \"vega-lite\"});\n",
       "</script>"
      ],
      "text/plain": [
       "alt.Chart(...)"
      ]
     },
     "execution_count": 43,
     "metadata": {},
     "output_type": "execute_result"
    }
   ],
   "source": [
    "# gráfico para mostrar os dados citados acima\n",
    "# referência https://altair-viz.github.io/gallery/bar_chart_horizontal.html\n",
    "alt.Chart(casamento_uf).mark_bar().encode(\n",
    "    x = alt.X('numero', title = 'Nº de casamentos'),\n",
    "    y = alt.Y('uf', sort = ['São Paulo', 'Rio de Janeiro', 'Minas Gerais', 'Santa Catarina'], title = 'UF'),\n",
    "    tooltip = ['uf', 'numero', 'n_perc']\n",
    ").properties(title = 'Casamento LGBT: estados do Sudeste e do Sul aparecem primeiro no ranking', width=600, height=300)"
   ]
  },
  {
   "cell_type": "markdown",
   "metadata": {
    "id": "-Hb0RHpgiEx8"
   },
   "source": [
    "### Em quais regiões do Brasil os casamentos LGBTs mais ocorrem? E menos?"
   ]
  },
  {
   "cell_type": "code",
   "execution_count": 44,
   "metadata": {
    "id": "Pd7qeGamiFvk"
   },
   "outputs": [],
   "source": [
    "# criação de dicionário transformado depois em dataframe com as UFs e as respectivas regiões\n",
    "\n",
    "uf_norte = {'regiao': ['Norte']*7, 'uf': [\"Rondônia\",\"Acre\",\"Amazonas\",\"Roraima\", \"Pará\",\"Amapá\",\"Tocantins\"]}\n",
    "uf_nordeste = {'regiao': ['Nordeste']*9, 'uf': [\"Maranhão\",\"Piauí\",\"Ceará\",\"Rio Grande do Norte\",\"Paraíba\",\"Pernambuco\", \"Alagoas\",\"Sergipe\",\"Bahia\"]}\n",
    "uf_sudeste = {'regiao': ['Sudeste']*4, 'uf': [\"Minas Gerais\",\"Espírito Santo\",\"Rio de Janeiro\",\"São Paulo\"]}\n",
    "uf_sul = {'regiao': ['Sul']*3, 'uf': [\"Paraná\",\"Santa Catarina\",\"Rio Grande do Sul\"]}\n",
    "uf_centro_oeste = {'regiao': ['Centro-Oeste']*4, 'uf': [\"Mato Grosso do Sul\",\"Mato Grosso\",\"Goiás\", \"Distrito Federal\"]}\n",
    "\n",
    "regiao_norte = pd.DataFrame(uf_norte)\n",
    "regiao_nordeste = pd.DataFrame(uf_nordeste)\n",
    "regiao_sudeste = pd.DataFrame(uf_sudeste)\n",
    "regiao_sul = pd.DataFrame(uf_sul)\n",
    "regiao_centro_oeste = pd.DataFrame(uf_centro_oeste)\n",
    "\n",
    "regioes_uf = pd.concat([regiao_norte, regiao_nordeste, regiao_sudeste, regiao_sul, regiao_centro_oeste])"
   ]
  },
  {
   "cell_type": "code",
   "execution_count": 45,
   "metadata": {
    "colab": {
     "base_uri": "https://localhost:8080/",
     "height": 206
    },
    "id": "4m6km1sViRxw",
    "outputId": "534c83ea-b9cc-4856-e389-21027d79312d"
   },
   "outputs": [
    {
     "data": {
      "text/html": [
       "<div>\n",
       "<style scoped>\n",
       "    .dataframe tbody tr th:only-of-type {\n",
       "        vertical-align: middle;\n",
       "    }\n",
       "\n",
       "    .dataframe tbody tr th {\n",
       "        vertical-align: top;\n",
       "    }\n",
       "\n",
       "    .dataframe thead th {\n",
       "        text-align: right;\n",
       "    }\n",
       "</style>\n",
       "<table border=\"1\" class=\"dataframe\">\n",
       "  <thead>\n",
       "    <tr style=\"text-align: right;\">\n",
       "      <th></th>\n",
       "      <th>regiao</th>\n",
       "      <th>ano</th>\n",
       "      <th>numero</th>\n",
       "    </tr>\n",
       "  </thead>\n",
       "  <tbody>\n",
       "    <tr>\n",
       "      <th>0</th>\n",
       "      <td>Sudeste</td>\n",
       "      <td>2018</td>\n",
       "      <td>5689</td>\n",
       "    </tr>\n",
       "    <tr>\n",
       "      <th>1</th>\n",
       "      <td>Sudeste</td>\n",
       "      <td>2019</td>\n",
       "      <td>5509</td>\n",
       "    </tr>\n",
       "    <tr>\n",
       "      <th>2</th>\n",
       "      <td>Sudeste</td>\n",
       "      <td>2017</td>\n",
       "      <td>3536</td>\n",
       "    </tr>\n",
       "    <tr>\n",
       "      <th>3</th>\n",
       "      <td>Sudeste</td>\n",
       "      <td>2016</td>\n",
       "      <td>3125</td>\n",
       "    </tr>\n",
       "    <tr>\n",
       "      <th>4</th>\n",
       "      <td>Sudeste</td>\n",
       "      <td>2015</td>\n",
       "      <td>3077</td>\n",
       "    </tr>\n",
       "  </tbody>\n",
       "</table>\n",
       "</div>"
      ],
      "text/plain": [
       "    regiao   ano  numero\n",
       "0  Sudeste  2018    5689\n",
       "1  Sudeste  2019    5509\n",
       "2  Sudeste  2017    3536\n",
       "3  Sudeste  2016    3125\n",
       "4  Sudeste  2015    3077"
      ]
     },
     "execution_count": 45,
     "metadata": {},
     "output_type": "execute_result"
    }
   ],
   "source": [
    "lgbt_casamento_regioes = lgbt_casamento.merge(regioes_uf, on='uf')\n",
    "lgbt_casamento_regioes_ano = lgbt_casamento_regioes.groupby(['regiao', 'ano'])['numero'].sum().sort_values(ascending=False).reset_index()\n",
    "lgbt_casamento_regioes_ano.head()"
   ]
  },
  {
   "cell_type": "code",
   "execution_count": 46,
   "metadata": {
    "colab": {
     "base_uri": "https://localhost:8080/",
     "height": 381
    },
    "id": "PrgeoF_sjaFc",
    "outputId": "bd3531d9-8ef7-48c7-de1c-9aca8798c239"
   },
   "outputs": [
    {
     "data": {
      "text/html": [
       "\n",
       "<div id=\"altair-viz-043db5f4b28f421e848445121c15ef07\"></div>\n",
       "<script type=\"text/javascript\">\n",
       "  (function(spec, embedOpt){\n",
       "    const outputDiv = document.getElementById(\"altair-viz-043db5f4b28f421e848445121c15ef07\");\n",
       "    const paths = {\n",
       "      \"vega\": \"https://cdn.jsdelivr.net/npm//vega@5?noext\",\n",
       "      \"vega-lib\": \"https://cdn.jsdelivr.net/npm//vega-lib?noext\",\n",
       "      \"vega-lite\": \"https://cdn.jsdelivr.net/npm//vega-lite@4.0.2?noext\",\n",
       "      \"vega-embed\": \"https://cdn.jsdelivr.net/npm//vega-embed@6?noext\",\n",
       "    };\n",
       "\n",
       "    function loadScript(lib) {\n",
       "      return new Promise(function(resolve, reject) {\n",
       "        var s = document.createElement('script');\n",
       "        s.src = paths[lib];\n",
       "        s.async = true;\n",
       "        s.onload = () => resolve(paths[lib]);\n",
       "        s.onerror = () => reject(`Error loading script: ${paths[lib]}`);\n",
       "        document.getElementsByTagName(\"head\")[0].appendChild(s);\n",
       "      });\n",
       "    }\n",
       "\n",
       "    function showError(err) {\n",
       "      outputDiv.innerHTML = `<div class=\"error\" style=\"color:red;\">${err}</div>`;\n",
       "      throw err;\n",
       "    }\n",
       "\n",
       "    function displayChart(vegaEmbed) {\n",
       "      vegaEmbed(outputDiv, spec, embedOpt)\n",
       "        .catch(err => showError(`Javascript Error: ${err.message}<br>This usually means there's a typo in your chart specification. See the javascript console for the full traceback.`));\n",
       "    }\n",
       "\n",
       "    if(typeof define === \"function\" && define.amd) {\n",
       "      requirejs.config({paths});\n",
       "      require([\"vega-embed\"], displayChart, err => showError(`Error loading script: ${err.message}`));\n",
       "    } else if (typeof vegaEmbed === \"function\") {\n",
       "      displayChart(vegaEmbed);\n",
       "    } else {\n",
       "      loadScript(\"vega\")\n",
       "        .then(() => loadScript(\"vega-lite\"))\n",
       "        .then(() => loadScript(\"vega-embed\"))\n",
       "        .catch(showError)\n",
       "        .then(() => displayChart(vegaEmbed));\n",
       "    }\n",
       "  })({\"height\": 300, \"mark\": \"bar\", \"config\": {\"view\": {\"continuousWidth\": 400, \"continuousHeight\": 300}}, \"width\": 600, \"data\": {\"name\": \"data-49765ddc71b02f11d361f439875efc80\"}, \"encoding\": {\"color\": {\"type\": \"nominal\", \"field\": \"regiao\", \"title\": \"Regi\\u00e3o\"}, \"y\": {\"type\": \"quantitative\", \"field\": \"ano\", \"title\": \"Ano\"}, \"x\": {\"aggregate\": \"sum\", \"type\": \"quantitative\", \"field\": \"numero\", \"title\": \"N\\u00ba de casamentos\"}, \"tooltip\": [{\"type\": \"nominal\", \"field\": \"regiao\"}, {\"type\": \"quantitative\", \"field\": \"numero\"}]}, \"$schema\": \"https://vega.github.io/schema/vega-lite/v4.0.2.json\", \"title\": \"Sudeste concentra maior n\\u00famero de casamentos homoafetivos\", \"datasets\": {\"data-49765ddc71b02f11d361f439875efc80\": [{\"regiao\": \"Sudeste\", \"numero\": 5689, \"ano\": 2018}, {\"regiao\": \"Sudeste\", \"numero\": 5509, \"ano\": 2019}, {\"regiao\": \"Sudeste\", \"numero\": 3536, \"ano\": 2017}, {\"regiao\": \"Sudeste\", \"numero\": 3125, \"ano\": 2016}, {\"regiao\": \"Sudeste\", \"numero\": 3077, \"ano\": 2015}, {\"regiao\": \"Sudeste\", \"numero\": 2944, \"ano\": 2014}, {\"regiao\": \"Sudeste\", \"numero\": 2408, \"ano\": 2013}, {\"regiao\": \"Nordeste\", \"numero\": 1437, \"ano\": 2018}, {\"regiao\": \"Nordeste\", \"numero\": 1400, \"ano\": 2019}, {\"regiao\": \"Sul\", \"numero\": 1367, \"ano\": 2018}, {\"regiao\": \"Sul\", \"numero\": 1191, \"ano\": 2019}, {\"regiao\": \"Nordeste\", \"numero\": 1047, \"ano\": 2015}, {\"regiao\": \"Sul\", \"numero\": 872, \"ano\": 2017}, {\"regiao\": \"Sul\", \"numero\": 857, \"ano\": 2015}, {\"regiao\": \"Sul\", \"numero\": 832, \"ano\": 2016}, {\"regiao\": \"Nordeste\", \"numero\": 776, \"ano\": 2017}, {\"regiao\": \"Nordeste\", \"numero\": 768, \"ano\": 2016}, {\"regiao\": \"Sul\", \"numero\": 744, \"ano\": 2014}, {\"regiao\": \"Centro-Oeste\", \"numero\": 704, \"ano\": 2018}, {\"regiao\": \"Nordeste\", \"numero\": 654, \"ano\": 2014}, {\"regiao\": \"Centro-Oeste\", \"numero\": 612, \"ano\": 2019}, {\"regiao\": \"Sul\", \"numero\": 525, \"ano\": 2013}, {\"regiao\": \"Nordeste\", \"numero\": 497, \"ano\": 2013}, {\"regiao\": \"Centro-Oeste\", \"numero\": 494, \"ano\": 2017}, {\"regiao\": \"Centro-Oeste\", \"numero\": 434, \"ano\": 2016}, {\"regiao\": \"Centro-Oeste\", \"numero\": 403, \"ano\": 2015}, {\"regiao\": \"Norte\", \"numero\": 344, \"ano\": 2019}, {\"regiao\": \"Centro-Oeste\", \"numero\": 332, \"ano\": 2014}, {\"regiao\": \"Norte\", \"numero\": 323, \"ano\": 2018}, {\"regiao\": \"Norte\", \"numero\": 230, \"ano\": 2015}, {\"regiao\": \"Centro-Oeste\", \"numero\": 215, \"ano\": 2013}, {\"regiao\": \"Norte\", \"numero\": 209, \"ano\": 2017}, {\"regiao\": \"Norte\", \"numero\": 195, \"ano\": 2016}, {\"regiao\": \"Norte\", \"numero\": 166, \"ano\": 2014}, {\"regiao\": \"Norte\", \"numero\": 55, \"ano\": 2013}]}}, {\"mode\": \"vega-lite\"});\n",
       "</script>"
      ],
      "text/plain": [
       "alt.Chart(...)"
      ]
     },
     "execution_count": 46,
     "metadata": {},
     "output_type": "execute_result"
    }
   ],
   "source": [
    "# gráfico para mostrar os dados citados acima\n",
    "# referência https://altair-viz.github.io/gallery/horizontal_stacked_bar_chart.html\n",
    "alt.Chart(lgbt_casamento_regioes_ano).mark_bar().encode(\n",
    "    x = alt.X('sum(numero)', title = 'Nº de casamentos'),\n",
    "    y = alt.Y('ano', title = 'Ano'),\n",
    "    tooltip = ['regiao', 'numero'],\n",
    "    color = alt.Color('regiao', title = \"Região\")\n",
    ").properties(title = 'Sudeste concentra maior número de casamentos homoafetivos', width=600, height=300)"
   ]
  },
  {
   "cell_type": "code",
   "execution_count": 47,
   "metadata": {
    "colab": {
     "base_uri": "https://localhost:8080/",
     "height": 206
    },
    "id": "fIidZyWGkgrt",
    "outputId": "68d39400-631e-4723-a887-bd0136ba5e35"
   },
   "outputs": [
    {
     "data": {
      "text/html": [
       "<div>\n",
       "<style scoped>\n",
       "    .dataframe tbody tr th:only-of-type {\n",
       "        vertical-align: middle;\n",
       "    }\n",
       "\n",
       "    .dataframe tbody tr th {\n",
       "        vertical-align: top;\n",
       "    }\n",
       "\n",
       "    .dataframe thead th {\n",
       "        text-align: right;\n",
       "    }\n",
       "</style>\n",
       "<table border=\"1\" class=\"dataframe\">\n",
       "  <thead>\n",
       "    <tr style=\"text-align: right;\">\n",
       "      <th></th>\n",
       "      <th>regiao</th>\n",
       "      <th>genero</th>\n",
       "      <th>numero</th>\n",
       "    </tr>\n",
       "  </thead>\n",
       "  <tbody>\n",
       "    <tr>\n",
       "      <th>0</th>\n",
       "      <td>Centro-Oeste</td>\n",
       "      <td>Feminino</td>\n",
       "      <td>1759</td>\n",
       "    </tr>\n",
       "    <tr>\n",
       "      <th>1</th>\n",
       "      <td>Centro-Oeste</td>\n",
       "      <td>Masculino</td>\n",
       "      <td>1435</td>\n",
       "    </tr>\n",
       "    <tr>\n",
       "      <th>2</th>\n",
       "      <td>Nordeste</td>\n",
       "      <td>Feminino</td>\n",
       "      <td>3794</td>\n",
       "    </tr>\n",
       "    <tr>\n",
       "      <th>3</th>\n",
       "      <td>Nordeste</td>\n",
       "      <td>Masculino</td>\n",
       "      <td>2785</td>\n",
       "    </tr>\n",
       "    <tr>\n",
       "      <th>4</th>\n",
       "      <td>Norte</td>\n",
       "      <td>Feminino</td>\n",
       "      <td>869</td>\n",
       "    </tr>\n",
       "  </tbody>\n",
       "</table>\n",
       "</div>"
      ],
      "text/plain": [
       "         regiao     genero  numero\n",
       "0  Centro-Oeste   Feminino    1759\n",
       "1  Centro-Oeste  Masculino    1435\n",
       "2      Nordeste   Feminino    3794\n",
       "3      Nordeste  Masculino    2785\n",
       "4         Norte   Feminino     869"
      ]
     },
     "execution_count": 47,
     "metadata": {},
     "output_type": "execute_result"
    }
   ],
   "source": [
    "lgbt_casamento_regioes_genero = lgbt_casamento_regioes.groupby(['regiao','genero'])['numero'].sum().reset_index()\n",
    "lgbt_casamento_regioes_genero.head()"
   ]
  },
  {
   "cell_type": "code",
   "execution_count": 48,
   "metadata": {
    "colab": {
     "base_uri": "https://localhost:8080/",
     "height": 470
    },
    "id": "he_A09-ukUdK",
    "outputId": "e5aa4dc9-4b76-4941-b9be-31339d09c846"
   },
   "outputs": [
    {
     "data": {
      "text/html": [
       "\n",
       "<div id=\"altair-viz-3c89e1f8ccd64b228d89456da8f98efb\"></div>\n",
       "<script type=\"text/javascript\">\n",
       "  (function(spec, embedOpt){\n",
       "    const outputDiv = document.getElementById(\"altair-viz-3c89e1f8ccd64b228d89456da8f98efb\");\n",
       "    const paths = {\n",
       "      \"vega\": \"https://cdn.jsdelivr.net/npm//vega@5?noext\",\n",
       "      \"vega-lib\": \"https://cdn.jsdelivr.net/npm//vega-lib?noext\",\n",
       "      \"vega-lite\": \"https://cdn.jsdelivr.net/npm//vega-lite@4.0.2?noext\",\n",
       "      \"vega-embed\": \"https://cdn.jsdelivr.net/npm//vega-embed@6?noext\",\n",
       "    };\n",
       "\n",
       "    function loadScript(lib) {\n",
       "      return new Promise(function(resolve, reject) {\n",
       "        var s = document.createElement('script');\n",
       "        s.src = paths[lib];\n",
       "        s.async = true;\n",
       "        s.onload = () => resolve(paths[lib]);\n",
       "        s.onerror = () => reject(`Error loading script: ${paths[lib]}`);\n",
       "        document.getElementsByTagName(\"head\")[0].appendChild(s);\n",
       "      });\n",
       "    }\n",
       "\n",
       "    function showError(err) {\n",
       "      outputDiv.innerHTML = `<div class=\"error\" style=\"color:red;\">${err}</div>`;\n",
       "      throw err;\n",
       "    }\n",
       "\n",
       "    function displayChart(vegaEmbed) {\n",
       "      vegaEmbed(outputDiv, spec, embedOpt)\n",
       "        .catch(err => showError(`Javascript Error: ${err.message}<br>This usually means there's a typo in your chart specification. See the javascript console for the full traceback.`));\n",
       "    }\n",
       "\n",
       "    if(typeof define === \"function\" && define.amd) {\n",
       "      requirejs.config({paths});\n",
       "      require([\"vega-embed\"], displayChart, err => showError(`Error loading script: ${err.message}`));\n",
       "    } else if (typeof vegaEmbed === \"function\") {\n",
       "      displayChart(vegaEmbed);\n",
       "    } else {\n",
       "      loadScript(\"vega\")\n",
       "        .then(() => loadScript(\"vega-lite\"))\n",
       "        .then(() => loadScript(\"vega-embed\"))\n",
       "        .catch(showError)\n",
       "        .then(() => displayChart(vegaEmbed));\n",
       "    }\n",
       "  })({\"width\": 100, \"mark\": \"bar\", \"config\": {\"view\": {\"continuousWidth\": 400, \"continuousHeight\": 300}}, \"data\": {\"name\": \"data-20a92f6b0250741e26b9d3aa49de2c30\"}, \"encoding\": {\"color\": {\"type\": \"nominal\", \"sort\": [\"Masculino\", \"Feminino\"], \"field\": \"genero\", \"title\": \"G\\u00eanero\"}, \"column\": {\"type\": \"nominal\", \"field\": \"regiao\", \"title\": \"Regi\\u00e3o\"}, \"y\": {\"type\": \"quantitative\", \"field\": \"numero\", \"title\": \"N\\u00ba de casamentos\"}, \"x\": {\"type\": \"nominal\", \"field\": \"genero\", \"title\": \"G\\u00eanero\"}, \"tooltip\": [{\"type\": \"nominal\", \"field\": \"regiao\"}, {\"type\": \"nominal\", \"field\": \"genero\"}, {\"type\": \"quantitative\", \"field\": \"numero\"}]}, \"$schema\": \"https://vega.github.io/schema/vega-lite/v4.0.2.json\", \"title\": \"Veja, por regi\\u00e3o, o total de casamentos de 2013 a 2019\", \"datasets\": {\"data-20a92f6b0250741e26b9d3aa49de2c30\": [{\"regiao\": \"Centro-Oeste\", \"numero\": 1759, \"genero\": \"Feminino\"}, {\"regiao\": \"Centro-Oeste\", \"numero\": 1435, \"genero\": \"Masculino\"}, {\"regiao\": \"Nordeste\", \"numero\": 3794, \"genero\": \"Feminino\"}, {\"regiao\": \"Nordeste\", \"numero\": 2785, \"genero\": \"Masculino\"}, {\"regiao\": \"Norte\", \"numero\": 869, \"genero\": \"Feminino\"}, {\"regiao\": \"Norte\", \"numero\": 653, \"genero\": \"Masculino\"}, {\"regiao\": \"Sudeste\", \"numero\": 14994, \"genero\": \"Feminino\"}, {\"regiao\": \"Sudeste\", \"numero\": 11294, \"genero\": \"Masculino\"}, {\"regiao\": \"Sul\", \"numero\": 3175, \"genero\": \"Feminino\"}, {\"regiao\": \"Sul\", \"numero\": 3213, \"genero\": \"Masculino\"}]}}, {\"mode\": \"vega-lite\"});\n",
       "</script>"
      ],
      "text/plain": [
       "alt.Chart(...)"
      ]
     },
     "execution_count": 48,
     "metadata": {},
     "output_type": "execute_result"
    }
   ],
   "source": [
    "# gráfico para mostrar os dados citados acima\n",
    "# referência https://altair-viz.github.io/gallery/grouped_bar_chart.html\n",
    "alt.Chart(lgbt_casamento_regioes_genero).mark_bar().encode(\n",
    "    x = alt.X('genero', title = \"Gênero\"),\n",
    "    y = alt.Y('numero', title = 'Nº de casamentos'),\n",
    "    color = alt.Color('genero', sort = ['Masculino', 'Feminino'], title = 'Gênero'),\n",
    "    column = alt.Column('regiao:N', title = 'Região'),\n",
    "    tooltip = ['regiao', 'genero', 'numero']\n",
    ").properties(title = 'Veja, por região, o total de casamentos de 2013 a 2019', width=100)"
   ]
  },
  {
   "cell_type": "markdown",
   "metadata": {
    "id": "3CmGjaoCmN8z"
   },
   "source": [
    "### Considerando a população adulta, quais estados têm as maiores e menores proporções de casamentos LGBTs? \n",
    "\n",
    "Este trecho da análise depende de alguns cruzamentos para chegarmos ao resultado\n"
   ]
  },
  {
   "cell_type": "code",
   "execution_count": 49,
   "metadata": {
    "id": "wlVeC5wNmPXv"
   },
   "outputs": [],
   "source": [
    "# arquivo com o nome da uf e a respectiva sigla\n",
    "sigla_uf = pd.read_csv('https://raw.githubusercontent.com/kelvins/Municipios-Brasileiros/main/csv/estados.csv')"
   ]
  },
  {
   "cell_type": "code",
   "execution_count": 50,
   "metadata": {
    "colab": {
     "base_uri": "https://localhost:8080/",
     "height": 237
    },
    "id": "0b96sl8hmYGs",
    "outputId": "7ad0f85c-b50e-45b8-9a35-d3b8e3cc2809"
   },
   "outputs": [
    {
     "data": {
      "text/html": [
       "<div>\n",
       "<style scoped>\n",
       "    .dataframe tbody tr th:only-of-type {\n",
       "        vertical-align: middle;\n",
       "    }\n",
       "\n",
       "    .dataframe tbody tr th {\n",
       "        vertical-align: top;\n",
       "    }\n",
       "\n",
       "    .dataframe thead th {\n",
       "        text-align: right;\n",
       "    }\n",
       "</style>\n",
       "<table border=\"1\" class=\"dataframe\">\n",
       "  <thead>\n",
       "    <tr style=\"text-align: right;\">\n",
       "      <th></th>\n",
       "      <th>ano</th>\n",
       "      <th>genero</th>\n",
       "      <th>mes</th>\n",
       "      <th>numero</th>\n",
       "      <th>uf</th>\n",
       "      <th>nome_uf</th>\n",
       "    </tr>\n",
       "  </thead>\n",
       "  <tbody>\n",
       "    <tr>\n",
       "      <th>0</th>\n",
       "      <td>2014</td>\n",
       "      <td>Masculino</td>\n",
       "      <td>Janeiro</td>\n",
       "      <td>0</td>\n",
       "      <td>RO</td>\n",
       "      <td>Rondônia</td>\n",
       "    </tr>\n",
       "    <tr>\n",
       "      <th>1</th>\n",
       "      <td>2014</td>\n",
       "      <td>Masculino</td>\n",
       "      <td>Fevereiro</td>\n",
       "      <td>0</td>\n",
       "      <td>RO</td>\n",
       "      <td>Rondônia</td>\n",
       "    </tr>\n",
       "    <tr>\n",
       "      <th>2</th>\n",
       "      <td>2014</td>\n",
       "      <td>Masculino</td>\n",
       "      <td>Março</td>\n",
       "      <td>0</td>\n",
       "      <td>RO</td>\n",
       "      <td>Rondônia</td>\n",
       "    </tr>\n",
       "    <tr>\n",
       "      <th>3</th>\n",
       "      <td>2014</td>\n",
       "      <td>Masculino</td>\n",
       "      <td>Abril</td>\n",
       "      <td>0</td>\n",
       "      <td>RO</td>\n",
       "      <td>Rondônia</td>\n",
       "    </tr>\n",
       "    <tr>\n",
       "      <th>4</th>\n",
       "      <td>2014</td>\n",
       "      <td>Masculino</td>\n",
       "      <td>Maio</td>\n",
       "      <td>0</td>\n",
       "      <td>RO</td>\n",
       "      <td>Rondônia</td>\n",
       "    </tr>\n",
       "    <tr>\n",
       "      <th>5</th>\n",
       "      <td>2014</td>\n",
       "      <td>Masculino</td>\n",
       "      <td>Junho</td>\n",
       "      <td>0</td>\n",
       "      <td>RO</td>\n",
       "      <td>Rondônia</td>\n",
       "    </tr>\n",
       "  </tbody>\n",
       "</table>\n",
       "</div>"
      ],
      "text/plain": [
       "    ano     genero        mes  numero  uf   nome_uf\n",
       "0  2014  Masculino    Janeiro       0  RO  Rondônia\n",
       "1  2014  Masculino  Fevereiro       0  RO  Rondônia\n",
       "2  2014  Masculino      Março       0  RO  Rondônia\n",
       "3  2014  Masculino      Abril       0  RO  Rondônia\n",
       "4  2014  Masculino       Maio       0  RO  Rondônia\n",
       "5  2014  Masculino      Junho       0  RO  Rondônia"
      ]
     },
     "execution_count": 50,
     "metadata": {},
     "output_type": "execute_result"
    }
   ],
   "source": [
    "# o arquivo com a população adulta usa a sigla, e não o nome da uf\n",
    "# por isso, vamos cruzar o dataframe principal com o dataframe acima \n",
    "# assim, o novo dataframe terá a sigla para criar com o CSV da população adulta\n",
    "sigla_uf_lgbt_casamento = lgbt_casamento.merge(sigla_uf, how = 'left', left_on = 'uf', right_on = 'nome')\n",
    "sigla_uf_lgbt_casamento = sigla_uf_lgbt_casamento.drop(['uf_x', 'codigo_uf', 'latitude', 'longitude'], axis=1)\n",
    "sigla_uf_lgbt_casamento = sigla_uf_lgbt_casamento.rename(columns={'uf_y':'uf', 'nome': 'nome_uf'})\n",
    "sigla_uf_lgbt_casamento.head(6)"
   ]
  },
  {
   "cell_type": "code",
   "execution_count": 51,
   "metadata": {
    "colab": {
     "base_uri": "https://localhost:8080/"
    },
    "id": "a9nTxOh5maZ-",
    "outputId": "49795679-849d-436d-b8d3-d93fcdb2c75d"
   },
   "outputs": [
    {
     "data": {
      "text/plain": [
       "genero     ano   uf\n",
       "Feminino   2018  SP    2445\n",
       "           2019  SP    2120\n",
       "Masculino  2018  SP    1655\n",
       "Feminino   2017  SP    1495\n",
       "Masculino  2019  SP    1453\n",
       "Feminino   2016  SP    1202\n",
       "Name: numero, dtype: int64"
      ]
     },
     "execution_count": 51,
     "metadata": {},
     "output_type": "execute_result"
    }
   ],
   "source": [
    "ano_uf_lgbt_casamento = sigla_uf_lgbt_casamento.groupby(['genero', 'ano', 'uf'])['numero'].sum().sort_values(ascending=False)\n",
    "ano_uf_lgbt_casamento.head(6)"
   ]
  },
  {
   "cell_type": "code",
   "execution_count": 52,
   "metadata": {
    "id": "s7t2htB7mijx"
   },
   "outputs": [],
   "source": [
    "# os dados são do IBGE e tratam das pessoas com 15 anos ou mais \n",
    "# aqui chamamos esse grupo de 'população adulta'\n",
    "# para casar no Brasil, a pessoa precisa ter a partir de 16 anos\n",
    "# mas o grupo etário dessa idade, para o IBGE, é de 15-19 anos\n",
    "pop_adulta = pd.read_csv('https://raw.githubusercontent.com/gabrielacaesar/lgbt_casamento/main/data/pop_adulta.csv')"
   ]
  },
  {
   "cell_type": "code",
   "execution_count": 53,
   "metadata": {
    "colab": {
     "base_uri": "https://localhost:8080/",
     "height": 112
    },
    "id": "T9QuS0n5mkq1",
    "outputId": "33545330-a86c-4807-f793-ce42b78beb48"
   },
   "outputs": [
    {
     "data": {
      "text/html": [
       "<div>\n",
       "<style scoped>\n",
       "    .dataframe tbody tr th:only-of-type {\n",
       "        vertical-align: middle;\n",
       "    }\n",
       "\n",
       "    .dataframe tbody tr th {\n",
       "        vertical-align: top;\n",
       "    }\n",
       "\n",
       "    .dataframe thead th {\n",
       "        text-align: right;\n",
       "    }\n",
       "</style>\n",
       "<table border=\"1\" class=\"dataframe\">\n",
       "  <thead>\n",
       "    <tr style=\"text-align: right;\">\n",
       "      <th></th>\n",
       "      <th>genero</th>\n",
       "      <th>ano</th>\n",
       "      <th>pop_adulta</th>\n",
       "      <th>uf</th>\n",
       "    </tr>\n",
       "  </thead>\n",
       "  <tbody>\n",
       "    <tr>\n",
       "      <th>0</th>\n",
       "      <td>Masculino</td>\n",
       "      <td>2013</td>\n",
       "      <td>265626</td>\n",
       "      <td>AC</td>\n",
       "    </tr>\n",
       "    <tr>\n",
       "      <th>1</th>\n",
       "      <td>Masculino</td>\n",
       "      <td>2014</td>\n",
       "      <td>272692</td>\n",
       "      <td>AC</td>\n",
       "    </tr>\n",
       "  </tbody>\n",
       "</table>\n",
       "</div>"
      ],
      "text/plain": [
       "      genero   ano  pop_adulta  uf\n",
       "0  Masculino  2013      265626  AC\n",
       "1  Masculino  2014      272692  AC"
      ]
     },
     "execution_count": 53,
     "metadata": {},
     "output_type": "execute_result"
    }
   ],
   "source": [
    "# padronizando gênero para ficar igual ao do csv lgbt_casamento\n",
    "pop_adulta['genero'] = pop_adulta['genero'].replace(['Mulher'],'Feminino').replace(['Homem'],'Masculino')\n",
    "pop_adulta.head(2)"
   ]
  },
  {
   "cell_type": "code",
   "execution_count": 54,
   "metadata": {
    "colab": {
     "base_uri": "https://localhost:8080/",
     "height": 206
    },
    "id": "2zd1NUjYmmiv",
    "outputId": "a27a7ae6-8ae0-41a3-8c1d-99d4ceade313"
   },
   "outputs": [
    {
     "data": {
      "text/html": [
       "<div>\n",
       "<style scoped>\n",
       "    .dataframe tbody tr th:only-of-type {\n",
       "        vertical-align: middle;\n",
       "    }\n",
       "\n",
       "    .dataframe tbody tr th {\n",
       "        vertical-align: top;\n",
       "    }\n",
       "\n",
       "    .dataframe thead th {\n",
       "        text-align: right;\n",
       "    }\n",
       "</style>\n",
       "<table border=\"1\" class=\"dataframe\">\n",
       "  <thead>\n",
       "    <tr style=\"text-align: right;\">\n",
       "      <th></th>\n",
       "      <th>ano</th>\n",
       "      <th>genero</th>\n",
       "      <th>uf</th>\n",
       "      <th>numero</th>\n",
       "      <th>pop_adulta</th>\n",
       "    </tr>\n",
       "  </thead>\n",
       "  <tbody>\n",
       "    <tr>\n",
       "      <th>0</th>\n",
       "      <td>2018</td>\n",
       "      <td>Feminino</td>\n",
       "      <td>SP</td>\n",
       "      <td>2445</td>\n",
       "      <td>18915105</td>\n",
       "    </tr>\n",
       "    <tr>\n",
       "      <th>1</th>\n",
       "      <td>2019</td>\n",
       "      <td>Feminino</td>\n",
       "      <td>SP</td>\n",
       "      <td>2120</td>\n",
       "      <td>19109416</td>\n",
       "    </tr>\n",
       "    <tr>\n",
       "      <th>2</th>\n",
       "      <td>2018</td>\n",
       "      <td>Masculino</td>\n",
       "      <td>SP</td>\n",
       "      <td>1655</td>\n",
       "      <td>17569093</td>\n",
       "    </tr>\n",
       "    <tr>\n",
       "      <th>3</th>\n",
       "      <td>2017</td>\n",
       "      <td>Feminino</td>\n",
       "      <td>SP</td>\n",
       "      <td>1495</td>\n",
       "      <td>18716547</td>\n",
       "    </tr>\n",
       "    <tr>\n",
       "      <th>4</th>\n",
       "      <td>2019</td>\n",
       "      <td>Masculino</td>\n",
       "      <td>SP</td>\n",
       "      <td>1453</td>\n",
       "      <td>17760876</td>\n",
       "    </tr>\n",
       "  </tbody>\n",
       "</table>\n",
       "</div>"
      ],
      "text/plain": [
       "    ano     genero  uf  numero  pop_adulta\n",
       "0  2018   Feminino  SP    2445    18915105\n",
       "1  2019   Feminino  SP    2120    19109416\n",
       "2  2018  Masculino  SP    1655    17569093\n",
       "3  2017   Feminino  SP    1495    18716547\n",
       "4  2019  Masculino  SP    1453    17760876"
      ]
     },
     "execution_count": 54,
     "metadata": {},
     "output_type": "execute_result"
    }
   ],
   "source": [
    "pop_lgbt_casamento = pd.merge(ano_uf_lgbt_casamento, pop_adulta, how = 'left', on = ['ano', 'genero', 'uf'])\n",
    "pop_lgbt_casamento.head(5)"
   ]
  },
  {
   "cell_type": "code",
   "execution_count": 55,
   "metadata": {
    "colab": {
     "base_uri": "https://localhost:8080/",
     "height": 424
    },
    "id": "loVz80WkmoPQ",
    "outputId": "fa8a75a1-39b8-4099-8d7d-d653b84664b0"
   },
   "outputs": [
    {
     "data": {
      "text/html": [
       "<div>\n",
       "<style scoped>\n",
       "    .dataframe tbody tr th:only-of-type {\n",
       "        vertical-align: middle;\n",
       "    }\n",
       "\n",
       "    .dataframe tbody tr th {\n",
       "        vertical-align: top;\n",
       "    }\n",
       "\n",
       "    .dataframe thead th {\n",
       "        text-align: right;\n",
       "    }\n",
       "</style>\n",
       "<table border=\"1\" class=\"dataframe\">\n",
       "  <thead>\n",
       "    <tr style=\"text-align: right;\">\n",
       "      <th></th>\n",
       "      <th>ano</th>\n",
       "      <th>genero</th>\n",
       "      <th>uf</th>\n",
       "      <th>numero</th>\n",
       "      <th>pop_adulta</th>\n",
       "      <th>tx_pop</th>\n",
       "    </tr>\n",
       "  </thead>\n",
       "  <tbody>\n",
       "    <tr>\n",
       "      <th>0</th>\n",
       "      <td>2018</td>\n",
       "      <td>Feminino</td>\n",
       "      <td>SP</td>\n",
       "      <td>2445</td>\n",
       "      <td>18915105</td>\n",
       "      <td>12.926177</td>\n",
       "    </tr>\n",
       "    <tr>\n",
       "      <th>67</th>\n",
       "      <td>2018</td>\n",
       "      <td>Masculino</td>\n",
       "      <td>DF</td>\n",
       "      <td>138</td>\n",
       "      <td>1115186</td>\n",
       "      <td>12.374617</td>\n",
       "    </tr>\n",
       "    <tr>\n",
       "      <th>64</th>\n",
       "      <td>2019</td>\n",
       "      <td>Feminino</td>\n",
       "      <td>DF</td>\n",
       "      <td>148</td>\n",
       "      <td>1269796</td>\n",
       "      <td>11.655416</td>\n",
       "    </tr>\n",
       "    <tr>\n",
       "      <th>73</th>\n",
       "      <td>2019</td>\n",
       "      <td>Masculino</td>\n",
       "      <td>DF</td>\n",
       "      <td>132</td>\n",
       "      <td>1136890</td>\n",
       "      <td>11.610622</td>\n",
       "    </tr>\n",
       "    <tr>\n",
       "      <th>1</th>\n",
       "      <td>2019</td>\n",
       "      <td>Feminino</td>\n",
       "      <td>SP</td>\n",
       "      <td>2120</td>\n",
       "      <td>19109416</td>\n",
       "      <td>11.094007</td>\n",
       "    </tr>\n",
       "    <tr>\n",
       "      <th>...</th>\n",
       "      <td>...</td>\n",
       "      <td>...</td>\n",
       "      <td>...</td>\n",
       "      <td>...</td>\n",
       "      <td>...</td>\n",
       "      <td>...</td>\n",
       "    </tr>\n",
       "    <tr>\n",
       "      <th>373</th>\n",
       "      <td>2013</td>\n",
       "      <td>Masculino</td>\n",
       "      <td>AC</td>\n",
       "      <td>0</td>\n",
       "      <td>265626</td>\n",
       "      <td>0.000000</td>\n",
       "    </tr>\n",
       "    <tr>\n",
       "      <th>374</th>\n",
       "      <td>2013</td>\n",
       "      <td>Feminino</td>\n",
       "      <td>RR</td>\n",
       "      <td>0</td>\n",
       "      <td>166383</td>\n",
       "      <td>0.000000</td>\n",
       "    </tr>\n",
       "    <tr>\n",
       "      <th>375</th>\n",
       "      <td>2016</td>\n",
       "      <td>Masculino</td>\n",
       "      <td>AC</td>\n",
       "      <td>0</td>\n",
       "      <td>287146</td>\n",
       "      <td>0.000000</td>\n",
       "    </tr>\n",
       "    <tr>\n",
       "      <th>376</th>\n",
       "      <td>2015</td>\n",
       "      <td>Masculino</td>\n",
       "      <td>AC</td>\n",
       "      <td>0</td>\n",
       "      <td>279837</td>\n",
       "      <td>0.000000</td>\n",
       "    </tr>\n",
       "    <tr>\n",
       "      <th>377</th>\n",
       "      <td>2013</td>\n",
       "      <td>Feminino</td>\n",
       "      <td>AC</td>\n",
       "      <td>0</td>\n",
       "      <td>268540</td>\n",
       "      <td>0.000000</td>\n",
       "    </tr>\n",
       "  </tbody>\n",
       "</table>\n",
       "<p>378 rows × 6 columns</p>\n",
       "</div>"
      ],
      "text/plain": [
       "      ano     genero  uf  numero  pop_adulta     tx_pop\n",
       "0    2018   Feminino  SP    2445    18915105  12.926177\n",
       "67   2018  Masculino  DF     138     1115186  12.374617\n",
       "64   2019   Feminino  DF     148     1269796  11.655416\n",
       "73   2019  Masculino  DF     132     1136890  11.610622\n",
       "1    2019   Feminino  SP    2120    19109416  11.094007\n",
       "..    ...        ...  ..     ...         ...        ...\n",
       "373  2013  Masculino  AC       0      265626   0.000000\n",
       "374  2013   Feminino  RR       0      166383   0.000000\n",
       "375  2016  Masculino  AC       0      287146   0.000000\n",
       "376  2015  Masculino  AC       0      279837   0.000000\n",
       "377  2013   Feminino  AC       0      268540   0.000000\n",
       "\n",
       "[378 rows x 6 columns]"
      ]
     },
     "execution_count": 55,
     "metadata": {},
     "output_type": "execute_result"
    }
   ],
   "source": [
    "### criamos a taxa de casamento lgbt por 100 mil habitantes adultos\n",
    "pop_lgbt_casamento['tx_pop'] = (pop_lgbt_casamento['numero'] / pop_lgbt_casamento['pop_adulta']) * 100000\n",
    "pop_lgbt_casamento.sort_values(by = 'tx_pop', ascending=False)"
   ]
  },
  {
   "cell_type": "markdown",
   "metadata": {
    "id": "2ReHAHyumuhx"
   },
   "source": [
    "### 2019: taxas mais altas e mais baixas, por UF"
   ]
  },
  {
   "cell_type": "code",
   "execution_count": 56,
   "metadata": {
    "colab": {
     "base_uri": "https://localhost:8080/",
     "height": 363
    },
    "id": "mAQdiboGmyIQ",
    "outputId": "c16c29f8-7323-4731-e8ea-3cc2c954af1e"
   },
   "outputs": [
    {
     "data": {
      "text/html": [
       "<div>\n",
       "<style scoped>\n",
       "    .dataframe tbody tr th:only-of-type {\n",
       "        vertical-align: middle;\n",
       "    }\n",
       "\n",
       "    .dataframe tbody tr th {\n",
       "        vertical-align: top;\n",
       "    }\n",
       "\n",
       "    .dataframe thead th {\n",
       "        text-align: right;\n",
       "    }\n",
       "</style>\n",
       "<table border=\"1\" class=\"dataframe\">\n",
       "  <thead>\n",
       "    <tr style=\"text-align: right;\">\n",
       "      <th></th>\n",
       "      <th>ano</th>\n",
       "      <th>genero</th>\n",
       "      <th>uf</th>\n",
       "      <th>numero</th>\n",
       "      <th>pop_adulta</th>\n",
       "      <th>tx_pop</th>\n",
       "    </tr>\n",
       "  </thead>\n",
       "  <tbody>\n",
       "    <tr>\n",
       "      <th>64</th>\n",
       "      <td>2019</td>\n",
       "      <td>Feminino</td>\n",
       "      <td>DF</td>\n",
       "      <td>148</td>\n",
       "      <td>1269796</td>\n",
       "      <td>11.655416</td>\n",
       "    </tr>\n",
       "    <tr>\n",
       "      <th>73</th>\n",
       "      <td>2019</td>\n",
       "      <td>Masculino</td>\n",
       "      <td>DF</td>\n",
       "      <td>132</td>\n",
       "      <td>1136890</td>\n",
       "      <td>11.610622</td>\n",
       "    </tr>\n",
       "    <tr>\n",
       "      <th>1</th>\n",
       "      <td>2019</td>\n",
       "      <td>Feminino</td>\n",
       "      <td>SP</td>\n",
       "      <td>2120</td>\n",
       "      <td>19109416</td>\n",
       "      <td>11.094007</td>\n",
       "    </tr>\n",
       "    <tr>\n",
       "      <th>105</th>\n",
       "      <td>2019</td>\n",
       "      <td>Feminino</td>\n",
       "      <td>MS</td>\n",
       "      <td>101</td>\n",
       "      <td>1089092</td>\n",
       "      <td>9.273780</td>\n",
       "    </tr>\n",
       "    <tr>\n",
       "      <th>4</th>\n",
       "      <td>2019</td>\n",
       "      <td>Masculino</td>\n",
       "      <td>SP</td>\n",
       "      <td>1453</td>\n",
       "      <td>17760876</td>\n",
       "      <td>8.180903</td>\n",
       "    </tr>\n",
       "    <tr>\n",
       "      <th>14</th>\n",
       "      <td>2019</td>\n",
       "      <td>Feminino</td>\n",
       "      <td>RJ</td>\n",
       "      <td>568</td>\n",
       "      <td>7408969</td>\n",
       "      <td>7.666384</td>\n",
       "    </tr>\n",
       "    <tr>\n",
       "      <th>53</th>\n",
       "      <td>2019</td>\n",
       "      <td>Feminino</td>\n",
       "      <td>SC</td>\n",
       "      <td>195</td>\n",
       "      <td>2931464</td>\n",
       "      <td>6.651966</td>\n",
       "    </tr>\n",
       "    <tr>\n",
       "      <th>56</th>\n",
       "      <td>2019</td>\n",
       "      <td>Masculino</td>\n",
       "      <td>SC</td>\n",
       "      <td>180</td>\n",
       "      <td>2845696</td>\n",
       "      <td>6.325342</td>\n",
       "    </tr>\n",
       "    <tr>\n",
       "      <th>17</th>\n",
       "      <td>2019</td>\n",
       "      <td>Masculino</td>\n",
       "      <td>RJ</td>\n",
       "      <td>410</td>\n",
       "      <td>6579835</td>\n",
       "      <td>6.231159</td>\n",
       "    </tr>\n",
       "    <tr>\n",
       "      <th>38</th>\n",
       "      <td>2019</td>\n",
       "      <td>Feminino</td>\n",
       "      <td>PE</td>\n",
       "      <td>217</td>\n",
       "      <td>3922693</td>\n",
       "      <td>5.531914</td>\n",
       "    </tr>\n",
       "  </tbody>\n",
       "</table>\n",
       "</div>"
      ],
      "text/plain": [
       "      ano     genero  uf  numero  pop_adulta     tx_pop\n",
       "64   2019   Feminino  DF     148     1269796  11.655416\n",
       "73   2019  Masculino  DF     132     1136890  11.610622\n",
       "1    2019   Feminino  SP    2120    19109416  11.094007\n",
       "105  2019   Feminino  MS     101     1089092   9.273780\n",
       "4    2019  Masculino  SP    1453    17760876   8.180903\n",
       "14   2019   Feminino  RJ     568     7408969   7.666384\n",
       "53   2019   Feminino  SC     195     2931464   6.651966\n",
       "56   2019  Masculino  SC     180     2845696   6.325342\n",
       "17   2019  Masculino  RJ     410     6579835   6.231159\n",
       "38   2019   Feminino  PE     217     3922693   5.531914"
      ]
     },
     "execution_count": 56,
     "metadata": {},
     "output_type": "execute_result"
    }
   ],
   "source": [
    "# DF e SP aparecem com destaque, com taxas acima de 10, em 2019\n",
    "tx_2019 = pop_lgbt_casamento.query('ano == 2019').sort_values(by = 'tx_pop', ascending=False)\n",
    "tx_2019.head(10)"
   ]
  },
  {
   "cell_type": "code",
   "execution_count": 57,
   "metadata": {
    "colab": {
     "base_uri": "https://localhost:8080/",
     "height": 363
    },
    "id": "DAOY40Ipm0Q6",
    "outputId": "8f40dcb3-a182-4e8a-c9e3-228e897499b7"
   },
   "outputs": [
    {
     "data": {
      "text/html": [
       "<div>\n",
       "<style scoped>\n",
       "    .dataframe tbody tr th:only-of-type {\n",
       "        vertical-align: middle;\n",
       "    }\n",
       "\n",
       "    .dataframe tbody tr th {\n",
       "        vertical-align: top;\n",
       "    }\n",
       "\n",
       "    .dataframe thead th {\n",
       "        text-align: right;\n",
       "    }\n",
       "</style>\n",
       "<table border=\"1\" class=\"dataframe\">\n",
       "  <thead>\n",
       "    <tr style=\"text-align: right;\">\n",
       "      <th></th>\n",
       "      <th>ano</th>\n",
       "      <th>genero</th>\n",
       "      <th>uf</th>\n",
       "      <th>numero</th>\n",
       "      <th>pop_adulta</th>\n",
       "      <th>tx_pop</th>\n",
       "    </tr>\n",
       "  </thead>\n",
       "  <tbody>\n",
       "    <tr>\n",
       "      <th>261</th>\n",
       "      <td>2019</td>\n",
       "      <td>Masculino</td>\n",
       "      <td>MA</td>\n",
       "      <td>15</td>\n",
       "      <td>2531188</td>\n",
       "      <td>0.592607</td>\n",
       "    </tr>\n",
       "    <tr>\n",
       "      <th>234</th>\n",
       "      <td>2019</td>\n",
       "      <td>Feminino</td>\n",
       "      <td>MA</td>\n",
       "      <td>22</td>\n",
       "      <td>2686814</td>\n",
       "      <td>0.818814</td>\n",
       "    </tr>\n",
       "    <tr>\n",
       "      <th>267</th>\n",
       "      <td>2019</td>\n",
       "      <td>Masculino</td>\n",
       "      <td>PI</td>\n",
       "      <td>15</td>\n",
       "      <td>1208013</td>\n",
       "      <td>1.241708</td>\n",
       "    </tr>\n",
       "    <tr>\n",
       "      <th>307</th>\n",
       "      <td>2019</td>\n",
       "      <td>Masculino</td>\n",
       "      <td>TO</td>\n",
       "      <td>8</td>\n",
       "      <td>595765</td>\n",
       "      <td>1.342811</td>\n",
       "    </tr>\n",
       "    <tr>\n",
       "      <th>236</th>\n",
       "      <td>2019</td>\n",
       "      <td>Masculino</td>\n",
       "      <td>AM</td>\n",
       "      <td>22</td>\n",
       "      <td>1464687</td>\n",
       "      <td>1.502027</td>\n",
       "    </tr>\n",
       "    <tr>\n",
       "      <th>275</th>\n",
       "      <td>2019</td>\n",
       "      <td>Masculino</td>\n",
       "      <td>SE</td>\n",
       "      <td>14</td>\n",
       "      <td>843619</td>\n",
       "      <td>1.659517</td>\n",
       "    </tr>\n",
       "    <tr>\n",
       "      <th>335</th>\n",
       "      <td>2019</td>\n",
       "      <td>Masculino</td>\n",
       "      <td>AP</td>\n",
       "      <td>5</td>\n",
       "      <td>300208</td>\n",
       "      <td>1.665512</td>\n",
       "    </tr>\n",
       "    <tr>\n",
       "      <th>216</th>\n",
       "      <td>2019</td>\n",
       "      <td>Masculino</td>\n",
       "      <td>PB</td>\n",
       "      <td>29</td>\n",
       "      <td>1494526</td>\n",
       "      <td>1.940415</td>\n",
       "    </tr>\n",
       "    <tr>\n",
       "      <th>327</th>\n",
       "      <td>2019</td>\n",
       "      <td>Masculino</td>\n",
       "      <td>AC</td>\n",
       "      <td>6</td>\n",
       "      <td>308791</td>\n",
       "      <td>1.943062</td>\n",
       "    </tr>\n",
       "    <tr>\n",
       "      <th>148</th>\n",
       "      <td>2019</td>\n",
       "      <td>Masculino</td>\n",
       "      <td>PA</td>\n",
       "      <td>63</td>\n",
       "      <td>3163035</td>\n",
       "      <td>1.991758</td>\n",
       "    </tr>\n",
       "  </tbody>\n",
       "</table>\n",
       "</div>"
      ],
      "text/plain": [
       "      ano     genero  uf  numero  pop_adulta    tx_pop\n",
       "261  2019  Masculino  MA      15     2531188  0.592607\n",
       "234  2019   Feminino  MA      22     2686814  0.818814\n",
       "267  2019  Masculino  PI      15     1208013  1.241708\n",
       "307  2019  Masculino  TO       8      595765  1.342811\n",
       "236  2019  Masculino  AM      22     1464687  1.502027\n",
       "275  2019  Masculino  SE      14      843619  1.659517\n",
       "335  2019  Masculino  AP       5      300208  1.665512\n",
       "216  2019  Masculino  PB      29     1494526  1.940415\n",
       "327  2019  Masculino  AC       6      308791  1.943062\n",
       "148  2019  Masculino  PA      63     3163035  1.991758"
      ]
     },
     "execution_count": 57,
     "metadata": {},
     "output_type": "execute_result"
    }
   ],
   "source": [
    "# MA aparece com destaque, com taxas baixo de 1, em 2019\n",
    "pop_lgbt_casamento.query('ano == 2019').sort_values(by = 'tx_pop', ascending=True).head(10)"
   ]
  },
  {
   "cell_type": "code",
   "execution_count": 58,
   "metadata": {
    "colab": {
     "base_uri": "https://localhost:8080/",
     "height": 385
    },
    "id": "I8EmhBuonyvV",
    "outputId": "12066a6c-e0a2-4257-df5c-6e20795a424a"
   },
   "outputs": [
    {
     "data": {
      "text/html": [
       "\n",
       "<div id=\"altair-viz-fcac2f2e21ca41cfb85beceb88812a06\"></div>\n",
       "<script type=\"text/javascript\">\n",
       "  (function(spec, embedOpt){\n",
       "    const outputDiv = document.getElementById(\"altair-viz-fcac2f2e21ca41cfb85beceb88812a06\");\n",
       "    const paths = {\n",
       "      \"vega\": \"https://cdn.jsdelivr.net/npm//vega@5?noext\",\n",
       "      \"vega-lib\": \"https://cdn.jsdelivr.net/npm//vega-lib?noext\",\n",
       "      \"vega-lite\": \"https://cdn.jsdelivr.net/npm//vega-lite@4.0.2?noext\",\n",
       "      \"vega-embed\": \"https://cdn.jsdelivr.net/npm//vega-embed@6?noext\",\n",
       "    };\n",
       "\n",
       "    function loadScript(lib) {\n",
       "      return new Promise(function(resolve, reject) {\n",
       "        var s = document.createElement('script');\n",
       "        s.src = paths[lib];\n",
       "        s.async = true;\n",
       "        s.onload = () => resolve(paths[lib]);\n",
       "        s.onerror = () => reject(`Error loading script: ${paths[lib]}`);\n",
       "        document.getElementsByTagName(\"head\")[0].appendChild(s);\n",
       "      });\n",
       "    }\n",
       "\n",
       "    function showError(err) {\n",
       "      outputDiv.innerHTML = `<div class=\"error\" style=\"color:red;\">${err}</div>`;\n",
       "      throw err;\n",
       "    }\n",
       "\n",
       "    function displayChart(vegaEmbed) {\n",
       "      vegaEmbed(outputDiv, spec, embedOpt)\n",
       "        .catch(err => showError(`Javascript Error: ${err.message}<br>This usually means there's a typo in your chart specification. See the javascript console for the full traceback.`));\n",
       "    }\n",
       "\n",
       "    if(typeof define === \"function\" && define.amd) {\n",
       "      requirejs.config({paths});\n",
       "      require([\"vega-embed\"], displayChart, err => showError(`Error loading script: ${err.message}`));\n",
       "    } else if (typeof vegaEmbed === \"function\") {\n",
       "      displayChart(vegaEmbed);\n",
       "    } else {\n",
       "      loadScript(\"vega\")\n",
       "        .then(() => loadScript(\"vega-lite\"))\n",
       "        .then(() => loadScript(\"vega-embed\"))\n",
       "        .catch(showError)\n",
       "        .then(() => displayChart(vegaEmbed));\n",
       "    }\n",
       "  })({\"height\": 300, \"mark\": \"point\", \"config\": {\"view\": {\"continuousWidth\": 400, \"continuousHeight\": 300}}, \"width\": 600, \"data\": {\"name\": \"data-37f458bc1d171680f272f9fd2f372c8d\"}, \"encoding\": {\"color\": {\"type\": \"nominal\", \"sort\": [\"Masculino\", \"Feminino\"], \"field\": \"genero\", \"title\": \"G\\u00eanero\"}, \"y\": {\"type\": \"quantitative\", \"field\": \"numero\", \"title\": \"Taxa por 100 mil adultos\"}, \"x\": {\"type\": \"quantitative\", \"field\": \"tx_pop\", \"title\": \"N\\u00ba de casamentos\"}, \"tooltip\": [{\"type\": \"nominal\", \"field\": \"uf\"}, {\"type\": \"nominal\", \"field\": \"genero\"}, {\"type\": \"quantitative\", \"field\": \"tx_pop\"}, {\"type\": \"quantitative\", \"field\": \"numero\"}, {\"type\": \"quantitative\", \"field\": \"pop_adulta\"}]}, \"$schema\": \"https://vega.github.io/schema/vega-lite/v4.0.2.json\", \"title\": \"2019: Taxa de casamentos LGBTs\", \"datasets\": {\"data-37f458bc1d171680f272f9fd2f372c8d\": [{\"genero\": \"Feminino\", \"numero\": 148, \"tx_pop\": 11.65541551556313, \"uf\": \"DF\", \"ano\": 2019, \"pop_adulta\": 1269796}, {\"genero\": \"Masculino\", \"numero\": 132, \"tx_pop\": 11.61062195990817, \"uf\": \"DF\", \"ano\": 2019, \"pop_adulta\": 1136890}, {\"genero\": \"Feminino\", \"numero\": 2120, \"tx_pop\": 11.094007268458649, \"uf\": \"SP\", \"ano\": 2019, \"pop_adulta\": 19109416}, {\"genero\": \"Feminino\", \"numero\": 101, \"tx_pop\": 9.273780360153228, \"uf\": \"MS\", \"ano\": 2019, \"pop_adulta\": 1089092}, {\"genero\": \"Masculino\", \"numero\": 1453, \"tx_pop\": 8.180902788803886, \"uf\": \"SP\", \"ano\": 2019, \"pop_adulta\": 17760876}, {\"genero\": \"Feminino\", \"numero\": 568, \"tx_pop\": 7.666383811296821, \"uf\": \"RJ\", \"ano\": 2019, \"pop_adulta\": 7408969}, {\"genero\": \"Feminino\", \"numero\": 195, \"tx_pop\": 6.651966389490029, \"uf\": \"SC\", \"ano\": 2019, \"pop_adulta\": 2931464}, {\"genero\": \"Masculino\", \"numero\": 180, \"tx_pop\": 6.325341849586183, \"uf\": \"SC\", \"ano\": 2019, \"pop_adulta\": 2845696}, {\"genero\": \"Masculino\", \"numero\": 410, \"tx_pop\": 6.231159291988326, \"uf\": \"RJ\", \"ano\": 2019, \"pop_adulta\": 6579835}, {\"genero\": \"Feminino\", \"numero\": 217, \"tx_pop\": 5.5319139173012015, \"uf\": \"PE\", \"ano\": 2019, \"pop_adulta\": 3922693}, {\"genero\": \"Feminino\", \"numero\": 87, \"tx_pop\": 5.342624997466859, \"uf\": \"ES\", \"ano\": 2019, \"pop_adulta\": 1628413}, {\"genero\": \"Feminino\", \"numero\": 199, \"tx_pop\": 5.33755044521608, \"uf\": \"CE\", \"ano\": 2019, \"pop_adulta\": 3728302}, {\"genero\": \"Feminino\", \"numero\": 464, \"tx_pop\": 5.28134426601949, \"uf\": \"MG\", \"ano\": 2019, \"pop_adulta\": 8785642}, {\"genero\": \"Feminino\", \"numero\": 11, \"tx_pop\": 5.167157546633597, \"uf\": \"RR\", \"ano\": 2019, \"pop_adulta\": 212883}, {\"genero\": \"Feminino\", \"numero\": 240, \"tx_pop\": 5.103577097187419, \"uf\": \"PR\", \"ano\": 2019, \"pop_adulta\": 4702584}, {\"genero\": \"Feminino\", \"numero\": 83, \"tx_pop\": 5.0153360516857575, \"uf\": \"PB\", \"ano\": 2019, \"pop_adulta\": 1654924}, {\"genero\": \"Feminino\", \"numero\": 71, \"tx_pop\": 4.961190909421231, \"uf\": \"RN\", \"ano\": 2019, \"pop_adulta\": 1431108}, {\"genero\": \"Feminino\", \"numero\": 211, \"tx_pop\": 4.375877508611769, \"uf\": \"RS\", \"ano\": 2019, \"pop_adulta\": 4821890}, {\"genero\": \"Feminino\", \"numero\": 29, \"tx_pop\": 4.2895220289143365, \"uf\": \"RO\", \"ano\": 2019, \"pop_adulta\": 676066}, {\"genero\": \"Masculino\", \"numero\": 351, \"tx_pop\": 4.193818956061682, \"uf\": \"MG\", \"ano\": 2019, \"pop_adulta\": 8369460}, {\"genero\": \"Masculino\", \"numero\": 185, \"tx_pop\": 4.185165285750643, \"uf\": \"PR\", \"ano\": 2019, \"pop_adulta\": 4420375}, {\"genero\": \"Masculino\", \"numero\": 180, \"tx_pop\": 4.027885498851382, \"uf\": \"RS\", \"ano\": 2019, \"pop_adulta\": 4468846}, {\"genero\": \"Masculino\", \"numero\": 53, \"tx_pop\": 3.988408030697196, \"uf\": \"RN\", \"ano\": 2019, \"pop_adulta\": 1328851}, {\"genero\": \"Feminino\", \"numero\": 53, \"tx_pop\": 3.949691365154928, \"uf\": \"AL\", \"ano\": 2019, \"pop_adulta\": 1341877}, {\"genero\": \"Feminino\", \"numero\": 12, \"tx_pop\": 3.9447213054397707, \"uf\": \"AP\", \"ano\": 2019, \"pop_adulta\": 304204}, {\"genero\": \"Masculino\", \"numero\": 56, \"tx_pop\": 3.6162161464050935, \"uf\": \"ES\", \"ano\": 2019, \"pop_adulta\": 1548580}, {\"genero\": \"Masculino\", \"numero\": 124, \"tx_pop\": 3.5481550452189468, \"uf\": \"PE\", \"ano\": 2019, \"pop_adulta\": 3494774}, {\"genero\": \"Masculino\", \"numero\": 35, \"tx_pop\": 3.3216569183944817, \"uf\": \"MS\", \"ano\": 2019, \"pop_adulta\": 1053691}, {\"genero\": \"Feminino\", \"numero\": 199, \"tx_pop\": 3.27757880806482, \"uf\": \"BA\", \"ano\": 2019, \"pop_adulta\": 6071555}, {\"genero\": \"Masculino\", \"numero\": 107, \"tx_pop\": 3.132585357827614, \"uf\": \"CE\", \"ano\": 2019, \"pop_adulta\": 3415709}, {\"genero\": \"Feminino\", \"numero\": 46, \"tx_pop\": 3.121590002225829, \"uf\": \"AM\", \"ano\": 2019, \"pop_adulta\": 1473608}, {\"genero\": \"Masculino\", \"numero\": 7, \"tx_pop\": 3.0720213461597536, \"uf\": \"RR\", \"ano\": 2019, \"pop_adulta\": 227863}, {\"genero\": \"Feminino\", \"numero\": 96, \"tx_pop\": 3.0144173931883587, \"uf\": \"PA\", \"ano\": 2019, \"pop_adulta\": 3184695}, {\"genero\": \"Feminino\", \"numero\": 9, \"tx_pop\": 2.868297346824954, \"uf\": \"AC\", \"ano\": 2019, \"pop_adulta\": 313775}, {\"genero\": \"Feminino\", \"numero\": 77, \"tx_pop\": 2.754581459234162, \"uf\": \"GO\", \"ano\": 2019, \"pop_adulta\": 2795343}, {\"genero\": \"Masculino\", \"numero\": 17, \"tx_pop\": 2.473072603592647, \"uf\": \"RO\", \"ano\": 2019, \"pop_adulta\": 687404}, {\"genero\": \"Masculino\", \"numero\": 31, \"tx_pop\": 2.2975488859111337, \"uf\": \"MT\", \"ano\": 2019, \"pop_adulta\": 1349264}, {\"genero\": \"Feminino\", \"numero\": 30, \"tx_pop\": 2.2786448443381753, \"uf\": \"MT\", \"ano\": 2019, \"pop_adulta\": 1316572}, {\"genero\": \"Masculino\", \"numero\": 126, \"tx_pop\": 2.2524567867953116, \"uf\": \"BA\", \"ano\": 2019, \"pop_adulta\": 5593892}, {\"genero\": \"Feminino\", \"numero\": 21, \"tx_pop\": 2.2512623149408775, \"uf\": \"SE\", \"ano\": 2019, \"pop_adulta\": 932810}, {\"genero\": \"Feminino\", \"numero\": 13, \"tx_pop\": 2.1951301881057717, \"uf\": \"TO\", \"ano\": 2019, \"pop_adulta\": 592220}, {\"genero\": \"Masculino\", \"numero\": 58, \"tx_pop\": 2.143526070820623, \"uf\": \"GO\", \"ano\": 2019, \"pop_adulta\": 2705822}, {\"genero\": \"Masculino\", \"numero\": 25, \"tx_pop\": 2.1010822254326755, \"uf\": \"AL\", \"ano\": 2019, \"pop_adulta\": 1189863}, {\"genero\": \"Feminino\", \"numero\": 27, \"tx_pop\": 2.0412066706634, \"uf\": \"PI\", \"ano\": 2019, \"pop_adulta\": 1322747}, {\"genero\": \"Masculino\", \"numero\": 63, \"tx_pop\": 1.9917579160521461, \"uf\": \"PA\", \"ano\": 2019, \"pop_adulta\": 3163035}, {\"genero\": \"Masculino\", \"numero\": 6, \"tx_pop\": 1.9430618120346772, \"uf\": \"AC\", \"ano\": 2019, \"pop_adulta\": 308791}, {\"genero\": \"Masculino\", \"numero\": 29, \"tx_pop\": 1.9404145528415029, \"uf\": \"PB\", \"ano\": 2019, \"pop_adulta\": 1494526}, {\"genero\": \"Masculino\", \"numero\": 5, \"tx_pop\": 1.6655119117411927, \"uf\": \"AP\", \"ano\": 2019, \"pop_adulta\": 300208}, {\"genero\": \"Masculino\", \"numero\": 14, \"tx_pop\": 1.6595169146261524, \"uf\": \"SE\", \"ano\": 2019, \"pop_adulta\": 843619}, {\"genero\": \"Masculino\", \"numero\": 22, \"tx_pop\": 1.5020273956142165, \"uf\": \"AM\", \"ano\": 2019, \"pop_adulta\": 1464687}, {\"genero\": \"Masculino\", \"numero\": 8, \"tx_pop\": 1.3428113433988234, \"uf\": \"TO\", \"ano\": 2019, \"pop_adulta\": 595765}, {\"genero\": \"Masculino\", \"numero\": 15, \"tx_pop\": 1.2417084915476904, \"uf\": \"PI\", \"ano\": 2019, \"pop_adulta\": 1208013}, {\"genero\": \"Feminino\", \"numero\": 22, \"tx_pop\": 0.8188136581095676, \"uf\": \"MA\", \"ano\": 2019, \"pop_adulta\": 2686814}, {\"genero\": \"Masculino\", \"numero\": 15, \"tx_pop\": 0.5926071078086653, \"uf\": \"MA\", \"ano\": 2019, \"pop_adulta\": 2531188}]}}, {\"mode\": \"vega-lite\"});\n",
       "</script>"
      ],
      "text/plain": [
       "alt.Chart(...)"
      ]
     },
     "execution_count": 58,
     "metadata": {},
     "output_type": "execute_result"
    }
   ],
   "source": [
    "# o gráfico abaixo se refere aos dois dataframes criados acima\n",
    "# o eixo x tem a taxa de casamentos LGBTs por 100 mil adultos, por gênero, naquele ano\n",
    "# o eixo y tem o número de casamentos LGBTs, por gênero, naquele ano\n",
    "# referência https://altair-viz.github.io/gallery/trellis_scatter_plot.html\n",
    "alt.Chart(tx_2019).mark_point().encode(\n",
    "    x = alt.X('tx_pop:Q', title = 'Nº de casamentos'),\n",
    "    y = alt.Y('numero:Q', title = 'Taxa por 100 mil adultos'),\n",
    "    color = alt.Color('genero', sort = ['Masculino', 'Feminino'], title = 'Gênero'),\n",
    "    tooltip = ['uf', 'genero', 'tx_pop', 'numero', 'pop_adulta']\n",
    ").properties(title = '2019: Taxa de casamentos LGBTs', width=600, height=300)"
   ]
  },
  {
   "cell_type": "markdown",
   "metadata": {
    "id": "wWNK7NObnGRp"
   },
   "source": [
    "### 2018: taxas mais altas e mais baixas, por UF"
   ]
  },
  {
   "cell_type": "code",
   "execution_count": 59,
   "metadata": {
    "colab": {
     "base_uri": "https://localhost:8080/",
     "height": 363
    },
    "id": "S8FoOsepnKo0",
    "outputId": "c791fadf-7600-4aab-fdfe-8685154d10eb"
   },
   "outputs": [
    {
     "data": {
      "text/html": [
       "<div>\n",
       "<style scoped>\n",
       "    .dataframe tbody tr th:only-of-type {\n",
       "        vertical-align: middle;\n",
       "    }\n",
       "\n",
       "    .dataframe tbody tr th {\n",
       "        vertical-align: top;\n",
       "    }\n",
       "\n",
       "    .dataframe thead th {\n",
       "        text-align: right;\n",
       "    }\n",
       "</style>\n",
       "<table border=\"1\" class=\"dataframe\">\n",
       "  <thead>\n",
       "    <tr style=\"text-align: right;\">\n",
       "      <th></th>\n",
       "      <th>ano</th>\n",
       "      <th>genero</th>\n",
       "      <th>uf</th>\n",
       "      <th>numero</th>\n",
       "      <th>pop_adulta</th>\n",
       "      <th>tx_pop</th>\n",
       "    </tr>\n",
       "  </thead>\n",
       "  <tbody>\n",
       "    <tr>\n",
       "      <th>0</th>\n",
       "      <td>2018</td>\n",
       "      <td>Feminino</td>\n",
       "      <td>SP</td>\n",
       "      <td>2445</td>\n",
       "      <td>18915105</td>\n",
       "      <td>12.926177</td>\n",
       "    </tr>\n",
       "    <tr>\n",
       "      <th>67</th>\n",
       "      <td>2018</td>\n",
       "      <td>Masculino</td>\n",
       "      <td>DF</td>\n",
       "      <td>138</td>\n",
       "      <td>1115186</td>\n",
       "      <td>12.374617</td>\n",
       "    </tr>\n",
       "    <tr>\n",
       "      <th>71</th>\n",
       "      <td>2018</td>\n",
       "      <td>Feminino</td>\n",
       "      <td>DF</td>\n",
       "      <td>136</td>\n",
       "      <td>1247134</td>\n",
       "      <td>10.905003</td>\n",
       "    </tr>\n",
       "    <tr>\n",
       "      <th>93</th>\n",
       "      <td>2018</td>\n",
       "      <td>Feminino</td>\n",
       "      <td>MS</td>\n",
       "      <td>110</td>\n",
       "      <td>1074182</td>\n",
       "      <td>10.240350</td>\n",
       "    </tr>\n",
       "    <tr>\n",
       "      <th>2</th>\n",
       "      <td>2018</td>\n",
       "      <td>Masculino</td>\n",
       "      <td>SP</td>\n",
       "      <td>1655</td>\n",
       "      <td>17569093</td>\n",
       "      <td>9.419951</td>\n",
       "    </tr>\n",
       "    <tr>\n",
       "      <th>36</th>\n",
       "      <td>2018</td>\n",
       "      <td>Masculino</td>\n",
       "      <td>SC</td>\n",
       "      <td>229</td>\n",
       "      <td>2807204</td>\n",
       "      <td>8.157583</td>\n",
       "    </tr>\n",
       "    <tr>\n",
       "      <th>47</th>\n",
       "      <td>2018</td>\n",
       "      <td>Feminino</td>\n",
       "      <td>SC</td>\n",
       "      <td>200</td>\n",
       "      <td>2891671</td>\n",
       "      <td>6.916416</td>\n",
       "    </tr>\n",
       "    <tr>\n",
       "      <th>29</th>\n",
       "      <td>2018</td>\n",
       "      <td>Feminino</td>\n",
       "      <td>PE</td>\n",
       "      <td>260</td>\n",
       "      <td>3881393</td>\n",
       "      <td>6.698626</td>\n",
       "    </tr>\n",
       "    <tr>\n",
       "      <th>25</th>\n",
       "      <td>2018</td>\n",
       "      <td>Feminino</td>\n",
       "      <td>PR</td>\n",
       "      <td>283</td>\n",
       "      <td>4658113</td>\n",
       "      <td>6.075422</td>\n",
       "    </tr>\n",
       "    <tr>\n",
       "      <th>40</th>\n",
       "      <td>2018</td>\n",
       "      <td>Feminino</td>\n",
       "      <td>CE</td>\n",
       "      <td>212</td>\n",
       "      <td>3692378</td>\n",
       "      <td>5.741557</td>\n",
       "    </tr>\n",
       "  </tbody>\n",
       "</table>\n",
       "</div>"
      ],
      "text/plain": [
       "     ano     genero  uf  numero  pop_adulta     tx_pop\n",
       "0   2018   Feminino  SP    2445    18915105  12.926177\n",
       "67  2018  Masculino  DF     138     1115186  12.374617\n",
       "71  2018   Feminino  DF     136     1247134  10.905003\n",
       "93  2018   Feminino  MS     110     1074182  10.240350\n",
       "2   2018  Masculino  SP    1655    17569093   9.419951\n",
       "36  2018  Masculino  SC     229     2807204   8.157583\n",
       "47  2018   Feminino  SC     200     2891671   6.916416\n",
       "29  2018   Feminino  PE     260     3881393   6.698626\n",
       "25  2018   Feminino  PR     283     4658113   6.075422\n",
       "40  2018   Feminino  CE     212     3692378   5.741557"
      ]
     },
     "execution_count": 59,
     "metadata": {},
     "output_type": "execute_result"
    }
   ],
   "source": [
    "# novamente SP e DF aparecem com destaque\n",
    "tx_2018 = pop_lgbt_casamento.query('ano == 2018').sort_values(by = 'tx_pop', ascending=False)\n",
    "tx_2018.head(10)"
   ]
  },
  {
   "cell_type": "code",
   "execution_count": 60,
   "metadata": {
    "colab": {
     "base_uri": "https://localhost:8080/",
     "height": 363
    },
    "id": "ed_NFoDznMAp",
    "outputId": "cdbb1a18-3331-494f-c954-539f367be21b"
   },
   "outputs": [
    {
     "data": {
      "text/html": [
       "<div>\n",
       "<style scoped>\n",
       "    .dataframe tbody tr th:only-of-type {\n",
       "        vertical-align: middle;\n",
       "    }\n",
       "\n",
       "    .dataframe tbody tr th {\n",
       "        vertical-align: top;\n",
       "    }\n",
       "\n",
       "    .dataframe thead th {\n",
       "        text-align: right;\n",
       "    }\n",
       "</style>\n",
       "<table border=\"1\" class=\"dataframe\">\n",
       "  <thead>\n",
       "    <tr style=\"text-align: right;\">\n",
       "      <th></th>\n",
       "      <th>ano</th>\n",
       "      <th>genero</th>\n",
       "      <th>uf</th>\n",
       "      <th>numero</th>\n",
       "      <th>pop_adulta</th>\n",
       "      <th>tx_pop</th>\n",
       "    </tr>\n",
       "  </thead>\n",
       "  <tbody>\n",
       "    <tr>\n",
       "      <th>366</th>\n",
       "      <td>2018</td>\n",
       "      <td>Masculino</td>\n",
       "      <td>AP</td>\n",
       "      <td>1</td>\n",
       "      <td>292039</td>\n",
       "      <td>0.342420</td>\n",
       "    </tr>\n",
       "    <tr>\n",
       "      <th>365</th>\n",
       "      <td>2018</td>\n",
       "      <td>Masculino</td>\n",
       "      <td>RR</td>\n",
       "      <td>1</td>\n",
       "      <td>212649</td>\n",
       "      <td>0.470259</td>\n",
       "    </tr>\n",
       "    <tr>\n",
       "      <th>287</th>\n",
       "      <td>2018</td>\n",
       "      <td>Masculino</td>\n",
       "      <td>MA</td>\n",
       "      <td>12</td>\n",
       "      <td>2500973</td>\n",
       "      <td>0.479813</td>\n",
       "    </tr>\n",
       "    <tr>\n",
       "      <th>273</th>\n",
       "      <td>2018</td>\n",
       "      <td>Feminino</td>\n",
       "      <td>MA</td>\n",
       "      <td>14</td>\n",
       "      <td>2649907</td>\n",
       "      <td>0.528320</td>\n",
       "    </tr>\n",
       "    <tr>\n",
       "      <th>322</th>\n",
       "      <td>2018</td>\n",
       "      <td>Masculino</td>\n",
       "      <td>RO</td>\n",
       "      <td>6</td>\n",
       "      <td>677846</td>\n",
       "      <td>0.885157</td>\n",
       "    </tr>\n",
       "    <tr>\n",
       "      <th>266</th>\n",
       "      <td>2018</td>\n",
       "      <td>Masculino</td>\n",
       "      <td>MT</td>\n",
       "      <td>15</td>\n",
       "      <td>1330673</td>\n",
       "      <td>1.127249</td>\n",
       "    </tr>\n",
       "    <tr>\n",
       "      <th>318</th>\n",
       "      <td>2018</td>\n",
       "      <td>Masculino</td>\n",
       "      <td>TO</td>\n",
       "      <td>7</td>\n",
       "      <td>586706</td>\n",
       "      <td>1.193102</td>\n",
       "    </tr>\n",
       "    <tr>\n",
       "      <th>251</th>\n",
       "      <td>2018</td>\n",
       "      <td>Masculino</td>\n",
       "      <td>AM</td>\n",
       "      <td>18</td>\n",
       "      <td>1436331</td>\n",
       "      <td>1.253193</td>\n",
       "    </tr>\n",
       "    <tr>\n",
       "      <th>253</th>\n",
       "      <td>2018</td>\n",
       "      <td>Masculino</td>\n",
       "      <td>PI</td>\n",
       "      <td>17</td>\n",
       "      <td>1201187</td>\n",
       "      <td>1.415267</td>\n",
       "    </tr>\n",
       "    <tr>\n",
       "      <th>294</th>\n",
       "      <td>2018</td>\n",
       "      <td>Feminino</td>\n",
       "      <td>TO</td>\n",
       "      <td>11</td>\n",
       "      <td>581958</td>\n",
       "      <td>1.890171</td>\n",
       "    </tr>\n",
       "  </tbody>\n",
       "</table>\n",
       "</div>"
      ],
      "text/plain": [
       "      ano     genero  uf  numero  pop_adulta    tx_pop\n",
       "366  2018  Masculino  AP       1      292039  0.342420\n",
       "365  2018  Masculino  RR       1      212649  0.470259\n",
       "287  2018  Masculino  MA      12     2500973  0.479813\n",
       "273  2018   Feminino  MA      14     2649907  0.528320\n",
       "322  2018  Masculino  RO       6      677846  0.885157\n",
       "266  2018  Masculino  MT      15     1330673  1.127249\n",
       "318  2018  Masculino  TO       7      586706  1.193102\n",
       "251  2018  Masculino  AM      18     1436331  1.253193\n",
       "253  2018  Masculino  PI      17     1201187  1.415267\n",
       "294  2018   Feminino  TO      11      581958  1.890171"
      ]
     },
     "execution_count": 60,
     "metadata": {},
     "output_type": "execute_result"
    }
   ],
   "source": [
    "# desta vez, AP, RR, MA e RO têm taxas abaixo de um\n",
    "pop_lgbt_casamento.query('ano == 2018').sort_values(by = 'tx_pop', ascending=True).head(10)"
   ]
  },
  {
   "cell_type": "code",
   "execution_count": 79,
   "metadata": {
    "colab": {
     "base_uri": "https://localhost:8080/",
     "height": 381
    },
    "id": "Dksj9UeBnNhx",
    "outputId": "ed2cec39-9f66-4b85-a0c1-c5bf057d92da"
   },
   "outputs": [
    {
     "data": {
      "text/html": [
       "\n",
       "<div id=\"altair-viz-c433bd3ee120437e8c88569cc4a2b901\"></div>\n",
       "<script type=\"text/javascript\">\n",
       "  (function(spec, embedOpt){\n",
       "    const outputDiv = document.getElementById(\"altair-viz-c433bd3ee120437e8c88569cc4a2b901\");\n",
       "    const paths = {\n",
       "      \"vega\": \"https://cdn.jsdelivr.net/npm//vega@5?noext\",\n",
       "      \"vega-lib\": \"https://cdn.jsdelivr.net/npm//vega-lib?noext\",\n",
       "      \"vega-lite\": \"https://cdn.jsdelivr.net/npm//vega-lite@4.0.2?noext\",\n",
       "      \"vega-embed\": \"https://cdn.jsdelivr.net/npm//vega-embed@6?noext\",\n",
       "    };\n",
       "\n",
       "    function loadScript(lib) {\n",
       "      return new Promise(function(resolve, reject) {\n",
       "        var s = document.createElement('script');\n",
       "        s.src = paths[lib];\n",
       "        s.async = true;\n",
       "        s.onload = () => resolve(paths[lib]);\n",
       "        s.onerror = () => reject(`Error loading script: ${paths[lib]}`);\n",
       "        document.getElementsByTagName(\"head\")[0].appendChild(s);\n",
       "      });\n",
       "    }\n",
       "\n",
       "    function showError(err) {\n",
       "      outputDiv.innerHTML = `<div class=\"error\" style=\"color:red;\">${err}</div>`;\n",
       "      throw err;\n",
       "    }\n",
       "\n",
       "    function displayChart(vegaEmbed) {\n",
       "      vegaEmbed(outputDiv, spec, embedOpt)\n",
       "        .catch(err => showError(`Javascript Error: ${err.message}<br>This usually means there's a typo in your chart specification. See the javascript console for the full traceback.`));\n",
       "    }\n",
       "\n",
       "    if(typeof define === \"function\" && define.amd) {\n",
       "      requirejs.config({paths});\n",
       "      require([\"vega-embed\"], displayChart, err => showError(`Error loading script: ${err.message}`));\n",
       "    } else if (typeof vegaEmbed === \"function\") {\n",
       "      displayChart(vegaEmbed);\n",
       "    } else {\n",
       "      loadScript(\"vega\")\n",
       "        .then(() => loadScript(\"vega-lite\"))\n",
       "        .then(() => loadScript(\"vega-embed\"))\n",
       "        .catch(showError)\n",
       "        .then(() => displayChart(vegaEmbed));\n",
       "    }\n",
       "  })({\"height\": 300, \"mark\": \"point\", \"config\": {\"view\": {\"continuousWidth\": 400, \"continuousHeight\": 300}}, \"width\": 600, \"data\": {\"name\": \"data-0ea17c301f41ac62e2d433c4bb67d5e9\"}, \"encoding\": {\"color\": {\"type\": \"nominal\", \"sort\": [\"Masculino\", \"Feminino\"], \"field\": \"genero\", \"title\": \"G\\u00eanero\"}, \"y\": {\"type\": \"quantitative\", \"field\": \"numero\", \"title\": \"Taxa por 100 mil adultos\"}, \"x\": {\"type\": \"quantitative\", \"field\": \"tx_pop\", \"title\": \"N\\u00ba de casamentos\"}, \"tooltip\": [{\"type\": \"nominal\", \"field\": \"uf\"}, {\"type\": \"nominal\", \"field\": \"genero\"}, {\"type\": \"quantitative\", \"field\": \"tx_pop\"}, {\"type\": \"quantitative\", \"field\": \"numero\"}, {\"type\": \"quantitative\", \"field\": \"pop_adulta\"}]}, \"$schema\": \"https://vega.github.io/schema/vega-lite/v4.0.2.json\", \"title\": \"2018: Taxa de casamentos LGBTs\", \"datasets\": {\"data-0ea17c301f41ac62e2d433c4bb67d5e9\": [{\"genero\": \"Feminino\", \"numero\": 2445, \"tx_pop\": 12.926177253575911, \"uf\": \"SP\", \"ano\": 2018, \"pop_adulta\": 18915105}, {\"genero\": \"Masculino\", \"numero\": 138, \"tx_pop\": 12.374617328409789, \"uf\": \"DF\", \"ano\": 2018, \"pop_adulta\": 1115186}, {\"genero\": \"Feminino\", \"numero\": 136, \"tx_pop\": 10.905002990857438, \"uf\": \"DF\", \"ano\": 2018, \"pop_adulta\": 1247134}, {\"genero\": \"Feminino\", \"numero\": 110, \"tx_pop\": 10.240350331694257, \"uf\": \"MS\", \"ano\": 2018, \"pop_adulta\": 1074182}, {\"genero\": \"Masculino\", \"numero\": 1655, \"tx_pop\": 9.419951274661702, \"uf\": \"SP\", \"ano\": 2018, \"pop_adulta\": 17569093}, {\"genero\": \"Masculino\", \"numero\": 229, \"tx_pop\": 8.15758313254042, \"uf\": \"SC\", \"ano\": 2018, \"pop_adulta\": 2807204}, {\"genero\": \"Feminino\", \"numero\": 200, \"tx_pop\": 6.916416148310094, \"uf\": \"SC\", \"ano\": 2018, \"pop_adulta\": 2891671}, {\"genero\": \"Feminino\", \"numero\": 260, \"tx_pop\": 6.6986259829911585, \"uf\": \"PE\", \"ano\": 2018, \"pop_adulta\": 3881393}, {\"genero\": \"Feminino\", \"numero\": 283, \"tx_pop\": 6.075421527987836, \"uf\": \"PR\", \"ano\": 2018, \"pop_adulta\": 4658113}, {\"genero\": \"Feminino\", \"numero\": 212, \"tx_pop\": 5.741557337845691, \"uf\": \"CE\", \"ano\": 2018, \"pop_adulta\": 3692378}, {\"genero\": \"Feminino\", \"numero\": 269, \"tx_pop\": 5.613638512147893, \"uf\": \"RS\", \"ano\": 2018, \"pop_adulta\": 4791901}, {\"genero\": \"Feminino\", \"numero\": 406, \"tx_pop\": 5.518575511579425, \"uf\": \"RJ\", \"ano\": 2018, \"pop_adulta\": 7356971}, {\"genero\": \"Masculino\", \"numero\": 56, \"tx_pop\": 5.3833627175215, \"uf\": \"MS\", \"ano\": 2018, \"pop_adulta\": 1040242}, {\"genero\": \"Feminino\", \"numero\": 69, \"tx_pop\": 4.881216653862316, \"uf\": \"RN\", \"ano\": 2018, \"pop_adulta\": 1413582}, {\"genero\": \"Masculino\", \"numero\": 317, \"tx_pop\": 4.855768361774044, \"uf\": \"RJ\", \"ano\": 2018, \"pop_adulta\": 6528318}, {\"genero\": \"Masculino\", \"numero\": 211, \"tx_pop\": 4.751124395244912, \"uf\": \"RS\", \"ano\": 2018, \"pop_adulta\": 4441054}, {\"genero\": \"Feminino\", \"numero\": 412, \"tx_pop\": 4.730923555509523, \"uf\": \"MG\", \"ano\": 2018, \"pop_adulta\": 8708659}, {\"genero\": \"Masculino\", \"numero\": 66, \"tx_pop\": 4.321478731449562, \"uf\": \"ES\", \"ano\": 2018, \"pop_adulta\": 1527255}, {\"genero\": \"Feminino\", \"numero\": 56, \"tx_pop\": 4.222361627177532, \"uf\": \"AL\", \"ano\": 2018, \"pop_adulta\": 1326272}, {\"genero\": \"Feminino\", \"numero\": 116, \"tx_pop\": 4.217695632903407, \"uf\": \"GO\", \"ano\": 2018, \"pop_adulta\": 2750317}, {\"genero\": \"Masculino\", \"numero\": 175, \"tx_pop\": 3.9934434504446754, \"uf\": \"PR\", \"ano\": 2018, \"pop_adulta\": 4382183}, {\"genero\": \"Feminino\", \"numero\": 63, \"tx_pop\": 3.9231144297753175, \"uf\": \"ES\", \"ano\": 2018, \"pop_adulta\": 1605867}, {\"genero\": \"Masculino\", \"numero\": 325, \"tx_pop\": 3.918081948190901, \"uf\": \"MG\", \"ano\": 2018, \"pop_adulta\": 8294875}, {\"genero\": \"Feminino\", \"numero\": 12, \"tx_pop\": 3.9164618683481343, \"uf\": \"AC\", \"ano\": 2018, \"pop_adulta\": 306399}, {\"genero\": \"Feminino\", \"numero\": 64, \"tx_pop\": 3.9041982942313638, \"uf\": \"PB\", \"ano\": 2018, \"pop_adulta\": 1639261}, {\"genero\": \"Masculino\", \"numero\": 102, \"tx_pop\": 3.829656862745098, \"uf\": \"GO\", \"ano\": 2018, \"pop_adulta\": 2663424}, {\"genero\": \"Masculino\", \"numero\": 131, \"tx_pop\": 3.788652205776451, \"uf\": \"PE\", \"ano\": 2018, \"pop_adulta\": 3457694}, {\"genero\": \"Feminino\", \"numero\": 112, \"tx_pop\": 3.5815611001532397, \"uf\": \"PA\", \"ano\": 2018, \"pop_adulta\": 3127128}, {\"genero\": \"Masculino\", \"numero\": 118, \"tx_pop\": 3.4849307753941443, \"uf\": \"CE\", \"ano\": 2018, \"pop_adulta\": 3386007}, {\"genero\": \"Masculino\", \"numero\": 45, \"tx_pop\": 3.4271222454504957, \"uf\": \"RN\", \"ano\": 2018, \"pop_adulta\": 1313055}, {\"genero\": \"Masculino\", \"numero\": 39, \"tx_pop\": 3.3093251691998558, \"uf\": \"AL\", \"ano\": 2018, \"pop_adulta\": 1178488}, {\"genero\": \"Masculino\", \"numero\": 89, \"tx_pop\": 2.8608780709838495, \"uf\": \"PA\", \"ano\": 2018, \"pop_adulta\": 3110933}, {\"genero\": \"Feminino\", \"numero\": 170, \"tx_pop\": 2.8273995641147778, \"uf\": \"BA\", \"ano\": 2018, \"pop_adulta\": 6012592}, {\"genero\": \"Masculino\", \"numero\": 41, \"tx_pop\": 2.7678166382234126, \"uf\": \"PB\", \"ano\": 2018, \"pop_adulta\": 1481312}, {\"genero\": \"Feminino\", \"numero\": 18, \"tx_pop\": 2.705204814062256, \"uf\": \"RO\", \"ano\": 2018, \"pop_adulta\": 665384}, {\"genero\": \"Feminino\", \"numero\": 23, \"tx_pop\": 2.4993371323257745, \"uf\": \"SE\", \"ano\": 2018, \"pop_adulta\": 920244}, {\"genero\": \"Masculino\", \"numero\": 20, \"tx_pop\": 2.3997417877836345, \"uf\": \"SE\", \"ano\": 2018, \"pop_adulta\": 833423}, {\"genero\": \"Feminino\", \"numero\": 31, \"tx_pop\": 2.3919531609275224, \"uf\": \"MT\", \"ano\": 2018, \"pop_adulta\": 1296012}, {\"genero\": \"Feminino\", \"numero\": 7, \"tx_pop\": 2.365024663828637, \"uf\": \"AP\", \"ano\": 2018, \"pop_adulta\": 295980}, {\"genero\": \"Feminino\", \"numero\": 31, \"tx_pop\": 2.1471920961166298, \"uf\": \"AM\", \"ano\": 2018, \"pop_adulta\": 1443746}, {\"genero\": \"Feminino\", \"numero\": 28, \"tx_pop\": 2.134461955502567, \"uf\": \"PI\", \"ano\": 2018, \"pop_adulta\": 1311806}, {\"genero\": \"Masculino\", \"numero\": 118, \"tx_pop\": 2.12549996532553, \"uf\": \"BA\", \"ano\": 2018, \"pop_adulta\": 5551635}, {\"genero\": \"Masculino\", \"numero\": 6, \"tx_pop\": 1.9883482790845644, \"uf\": \"AC\", \"ano\": 2018, \"pop_adulta\": 301758}, {\"genero\": \"Feminino\", \"numero\": 4, \"tx_pop\": 1.9803450751293414, \"uf\": \"RR\", \"ano\": 2018, \"pop_adulta\": 201985}, {\"genero\": \"Feminino\", \"numero\": 11, \"tx_pop\": 1.890170768337234, \"uf\": \"TO\", \"ano\": 2018, \"pop_adulta\": 581958}, {\"genero\": \"Masculino\", \"numero\": 17, \"tx_pop\": 1.4152667319909389, \"uf\": \"PI\", \"ano\": 2018, \"pop_adulta\": 1201187}, {\"genero\": \"Masculino\", \"numero\": 18, \"tx_pop\": 1.2531930314112834, \"uf\": \"AM\", \"ano\": 2018, \"pop_adulta\": 1436331}, {\"genero\": \"Masculino\", \"numero\": 7, \"tx_pop\": 1.1931018261275665, \"uf\": \"TO\", \"ano\": 2018, \"pop_adulta\": 586706}, {\"genero\": \"Masculino\", \"numero\": 15, \"tx_pop\": 1.1272491438542753, \"uf\": \"MT\", \"ano\": 2018, \"pop_adulta\": 1330673}, {\"genero\": \"Masculino\", \"numero\": 6, \"tx_pop\": 0.8851568055280993, \"uf\": \"RO\", \"ano\": 2018, \"pop_adulta\": 677846}, {\"genero\": \"Feminino\", \"numero\": 14, \"tx_pop\": 0.5283204278489774, \"uf\": \"MA\", \"ano\": 2018, \"pop_adulta\": 2649907}, {\"genero\": \"Masculino\", \"numero\": 12, \"tx_pop\": 0.47981325668049996, \"uf\": \"MA\", \"ano\": 2018, \"pop_adulta\": 2500973}, {\"genero\": \"Masculino\", \"numero\": 1, \"tx_pop\": 0.47025850109805356, \"uf\": \"RR\", \"ano\": 2018, \"pop_adulta\": 212649}, {\"genero\": \"Masculino\", \"numero\": 1, \"tx_pop\": 0.3424200192440051, \"uf\": \"AP\", \"ano\": 2018, \"pop_adulta\": 292039}]}}, {\"mode\": \"vega-lite\"});\n",
       "</script>"
      ],
      "text/plain": [
       "alt.Chart(...)"
      ]
     },
     "execution_count": 79,
     "metadata": {},
     "output_type": "execute_result"
    }
   ],
   "source": [
    "# o gráfico abaixo se refere aos dois dataframes criados acima\n",
    "# o eixo x tem a taxa de casamentos LGBTs por 100 mil adultos, por gênero, naquele ano\n",
    "# o eixo y tem o número de casamentos LGBTs, por gênero, naquele ano\n",
    "# referência https://altair-viz.github.io/gallery/trellis_scatter_plot.html\n",
    "alt.Chart(tx_2018).mark_point().encode(\n",
    "    x = alt.X('tx_pop:Q', title = 'Nº de casamentos'),\n",
    "    y = alt.Y('numero:Q', title = 'Taxa por 100 mil adultos'),\n",
    "    color = alt.Color('genero', sort = ['Masculino', 'Feminino'], title = 'Gênero'),\n",
    "    tooltip = ['uf', 'genero', 'tx_pop', 'numero', 'pop_adulta']\n",
    ").properties(title = '2018: Taxa de casamentos LGBTs', width=600, height=300)"
   ]
  },
  {
   "cell_type": "markdown",
   "metadata": {
    "id": "-ZbU4mCRqosr"
   },
   "source": [
    "### Em um mapa do Brasil, como ficam as taxas de casamentos LGBTS por 100 mil adultos?\n",
    "\n",
    "#### Observação: para fazer o mapa do Brasil é necessário fazer indicar o caminho para o arquivo \"bcim_2016_21_11_2018.gpkg\", que pode ser baixado do site do IBGE. Este trecho do mapa não funciona no Colab a princípio, mas sim no Jupyter Notebook. \n",
    "\n",
    "[Veja este trecho da análise neste Notebook aqui](https://github.com/gabrielacaesar/lgbt_casamento/blob/main/notebooks/gabriela-caesar-analise-de-dados-2out2021-perguntas_2.ipynb)."
   ]
  },
  {
   "cell_type": "code",
   "execution_count": 62,
   "metadata": {
    "colab": {
     "base_uri": "https://localhost:8080/",
     "height": 206
    },
    "id": "lQi1ORqum2f2",
    "outputId": "1b143e05-4416-49aa-95ac-0b5b44959665"
   },
   "outputs": [
    {
     "data": {
      "text/html": [
       "<div>\n",
       "<style scoped>\n",
       "    .dataframe tbody tr th:only-of-type {\n",
       "        vertical-align: middle;\n",
       "    }\n",
       "\n",
       "    .dataframe tbody tr th {\n",
       "        vertical-align: top;\n",
       "    }\n",
       "\n",
       "    .dataframe thead th {\n",
       "        text-align: right;\n",
       "    }\n",
       "</style>\n",
       "<table border=\"1\" class=\"dataframe\">\n",
       "  <thead>\n",
       "    <tr style=\"text-align: right;\">\n",
       "      <th></th>\n",
       "      <th>ano</th>\n",
       "      <th>uf</th>\n",
       "      <th>numero</th>\n",
       "      <th>tx_pop</th>\n",
       "    </tr>\n",
       "  </thead>\n",
       "  <tbody>\n",
       "    <tr>\n",
       "      <th>0</th>\n",
       "      <td>2013</td>\n",
       "      <td>AC</td>\n",
       "      <td>0</td>\n",
       "      <td>0.000000</td>\n",
       "    </tr>\n",
       "    <tr>\n",
       "      <th>1</th>\n",
       "      <td>2013</td>\n",
       "      <td>AL</td>\n",
       "      <td>17</td>\n",
       "      <td>1.404225</td>\n",
       "    </tr>\n",
       "    <tr>\n",
       "      <th>2</th>\n",
       "      <td>2013</td>\n",
       "      <td>AM</td>\n",
       "      <td>7</td>\n",
       "      <td>0.547217</td>\n",
       "    </tr>\n",
       "    <tr>\n",
       "      <th>3</th>\n",
       "      <td>2013</td>\n",
       "      <td>AP</td>\n",
       "      <td>6</td>\n",
       "      <td>2.380704</td>\n",
       "    </tr>\n",
       "    <tr>\n",
       "      <th>4</th>\n",
       "      <td>2013</td>\n",
       "      <td>BA</td>\n",
       "      <td>99</td>\n",
       "      <td>1.809937</td>\n",
       "    </tr>\n",
       "  </tbody>\n",
       "</table>\n",
       "</div>"
      ],
      "text/plain": [
       "    ano  uf  numero    tx_pop\n",
       "0  2013  AC       0  0.000000\n",
       "1  2013  AL      17  1.404225\n",
       "2  2013  AM       7  0.547217\n",
       "3  2013  AP       6  2.380704\n",
       "4  2013  BA      99  1.809937"
      ]
     },
     "execution_count": 62,
     "metadata": {},
     "output_type": "execute_result"
    }
   ],
   "source": [
    "tx_pop_lgbt_casamento = pop_lgbt_casamento.groupby(['ano', 'uf']).agg({'numero': sum,'tx_pop': sum}).reset_index()\n",
    "tx_pop_lgbt_casamento.head()"
   ]
  },
  {
   "cell_type": "code",
   "execution_count": 63,
   "metadata": {
    "colab": {
     "base_uri": "https://localhost:8080/"
    },
    "id": "zk7S_Jy7q0A4",
    "outputId": "7f6a7041-b964-408f-886b-555a53e35bfd"
   },
   "outputs": [
    {
     "name": "stdout",
     "output_type": "stream",
     "text": [
      " --------------------------- \n",
      "         Bem-vindo/a! \n",
      " ---------------------------\n",
      "Escolha um ano de 2013 a 2019: \n",
      "2018\n",
      " --------------------------- \n",
      "      Já vamos calcular! \n",
      " ---------------------------\n"
     ]
    }
   ],
   "source": [
    "print(\" --------------------------- \\n         Bem-vindo/a! \\n ---------------------------\")\n",
    "ano_user = int(input(\"Escolha um ano de 2013 a 2019: \\n\"))\n",
    "#print(uf_user)\n",
    "print(\" --------------------------- \\n      Já vamos calcular! \\n ---------------------------\")"
   ]
  },
  {
   "cell_type": "code",
   "execution_count": 64,
   "metadata": {
    "colab": {
     "base_uri": "https://localhost:8080/",
     "height": 184
    },
    "id": "2ile0iGhq1iC",
    "outputId": "c7a45b81-e9f2-4931-c08a-f370f1b05bbb"
   },
   "outputs": [
    {
     "data": {
      "text/html": [
       "<div>\n",
       "<style scoped>\n",
       "    .dataframe tbody tr th:only-of-type {\n",
       "        vertical-align: middle;\n",
       "    }\n",
       "\n",
       "    .dataframe tbody tr th {\n",
       "        vertical-align: top;\n",
       "    }\n",
       "\n",
       "    .dataframe thead th {\n",
       "        text-align: right;\n",
       "    }\n",
       "</style>\n",
       "<table border=\"1\" class=\"dataframe\">\n",
       "  <thead>\n",
       "    <tr style=\"text-align: right;\">\n",
       "      <th></th>\n",
       "      <th>ano</th>\n",
       "      <th>uf</th>\n",
       "      <th>numero</th>\n",
       "      <th>tx_pop</th>\n",
       "    </tr>\n",
       "  </thead>\n",
       "  <tbody>\n",
       "    <tr>\n",
       "      <th>135</th>\n",
       "      <td>2018</td>\n",
       "      <td>AC</td>\n",
       "      <td>18</td>\n",
       "      <td>5.904810</td>\n",
       "    </tr>\n",
       "    <tr>\n",
       "      <th>136</th>\n",
       "      <td>2018</td>\n",
       "      <td>AL</td>\n",
       "      <td>95</td>\n",
       "      <td>7.531687</td>\n",
       "    </tr>\n",
       "    <tr>\n",
       "      <th>137</th>\n",
       "      <td>2018</td>\n",
       "      <td>AM</td>\n",
       "      <td>49</td>\n",
       "      <td>3.400385</td>\n",
       "    </tr>\n",
       "    <tr>\n",
       "      <th>138</th>\n",
       "      <td>2018</td>\n",
       "      <td>AP</td>\n",
       "      <td>8</td>\n",
       "      <td>2.707445</td>\n",
       "    </tr>\n",
       "    <tr>\n",
       "      <th>139</th>\n",
       "      <td>2018</td>\n",
       "      <td>BA</td>\n",
       "      <td>288</td>\n",
       "      <td>4.952900</td>\n",
       "    </tr>\n",
       "  </tbody>\n",
       "</table>\n",
       "</div>"
      ],
      "text/plain": [
       "      ano  uf  numero    tx_pop\n",
       "135  2018  AC      18  5.904810\n",
       "136  2018  AL      95  7.531687\n",
       "137  2018  AM      49  3.400385\n",
       "138  2018  AP       8  2.707445\n",
       "139  2018  BA     288  4.952900"
      ]
     },
     "execution_count": 64,
     "metadata": {},
     "output_type": "execute_result"
    }
   ],
   "source": [
    "ano_user_tx_pop_lgbt_casamento = tx_pop_lgbt_casamento.query('ano == @ano_user', engine='python')\n",
    "ano_user_tx_pop_lgbt_casamento.head()"
   ]
  },
  {
   "cell_type": "code",
   "execution_count": 65,
   "metadata": {
    "colab": {
     "base_uri": "https://localhost:8080/",
     "height": 607
    },
    "id": "6s2HTSsEq57h",
    "outputId": "64ba91f3-3e0c-4d1b-b08d-16f97a1dc520"
   },
   "outputs": [
    {
     "ename": "NameError",
     "evalue": "name 'gpd' is not defined",
     "output_type": "error",
     "traceback": [
      "\u001b[0;31m---------------------------------------------------------------------------\u001b[0m",
      "\u001b[0;31mNameError\u001b[0m                                 Traceback (most recent call last)",
      "\u001b[0;32m<ipython-input-65-4ff1c0472a2c>\u001b[0m in \u001b[0;36m<module>\u001b[0;34m()\u001b[0m\n\u001b[1;32m      2\u001b[0m \u001b[0;31m# baixe o arquivo abaixo no link https://www.ibge.gov.br/geociencias/cartas-e-mapas/bases-cartograficas-continuas/15759-brasil.html?=&t=downloads\u001b[0m\u001b[0;34m\u001b[0m\u001b[0;34m\u001b[0m\u001b[0m\n\u001b[1;32m      3\u001b[0m \u001b[0;31m# clique em 'bcim' > 'versao2016' > 'geopackage' > 'bcim_2016_21_11_2018.gpkg'\u001b[0m\u001b[0;34m\u001b[0m\u001b[0;34m\u001b[0m\u001b[0m\n\u001b[0;32m----> 4\u001b[0;31m \u001b[0minfo_ufs\u001b[0m \u001b[0;34m=\u001b[0m \u001b[0mgpd\u001b[0m\u001b[0;34m.\u001b[0m\u001b[0mread_file\u001b[0m\u001b[0;34m(\u001b[0m\u001b[0;34m'bcim_2016_21_11_2018.gpkg'\u001b[0m\u001b[0;34m,\u001b[0m \u001b[0mlayer\u001b[0m \u001b[0;34m=\u001b[0m \u001b[0;34m'lim_unidade_federacao_a'\u001b[0m\u001b[0;34m)\u001b[0m\u001b[0;34m\u001b[0m\u001b[0m\n\u001b[0m\u001b[1;32m      5\u001b[0m \u001b[0minfo_ufs\u001b[0m\u001b[0;34m.\u001b[0m\u001b[0mcolumns\u001b[0m\u001b[0;34m\u001b[0m\u001b[0m\n",
      "\u001b[0;31mNameError\u001b[0m: name 'gpd' is not defined"
     ]
    }
   ],
   "source": [
    "# referência https://rodrigodutcosky.medium.com/mapas-coropl%C3%A9ticos-com-os-estados-do-brasil-em-python-b9b48c6db585\n",
    "# baixe o arquivo abaixo no link https://www.ibge.gov.br/geociencias/cartas-e-mapas/bases-cartograficas-continuas/15759-brasil.html?=&t=downloads\n",
    "# clique em 'bcim' > 'versao2016' > 'geopackage' > 'bcim_2016_21_11_2018.gpkg'\n",
    "info_ufs = gpd.read_file('bcim_2016_21_11_2018.gpkg', layer = 'lim_unidade_federacao_a')\n",
    "info_ufs.columns"
   ]
  },
  {
   "cell_type": "code",
   "execution_count": 66,
   "metadata": {
    "colab": {
     "base_uri": "https://localhost:8080/",
     "height": 201
    },
    "id": "HeuuYWEIq49R",
    "outputId": "b02a70c1-ae2b-473a-dbbe-b2f43e76cbfc"
   },
   "outputs": [
    {
     "ename": "NameError",
     "evalue": "name 'info_ufs' is not defined",
     "output_type": "error",
     "traceback": [
      "\u001b[0;31m---------------------------------------------------------------------------\u001b[0m",
      "\u001b[0;31mNameError\u001b[0m                                 Traceback (most recent call last)",
      "\u001b[0;32m<ipython-input-66-60fa4a0d8692>\u001b[0m in \u001b[0;36m<module>\u001b[0;34m()\u001b[0m\n\u001b[0;32m----> 1\u001b[0;31m \u001b[0minfo_ufs\u001b[0m\u001b[0;34m.\u001b[0m\u001b[0mrename\u001b[0m\u001b[0;34m(\u001b[0m\u001b[0;34m{\u001b[0m\u001b[0;34m'sigla'\u001b[0m\u001b[0;34m:\u001b[0m\u001b[0;34m'uf'\u001b[0m\u001b[0;34m}\u001b[0m\u001b[0;34m,\u001b[0m \u001b[0maxis\u001b[0m \u001b[0;34m=\u001b[0m \u001b[0;36m1\u001b[0m\u001b[0;34m,\u001b[0m \u001b[0minplace\u001b[0m \u001b[0;34m=\u001b[0m \u001b[0;32mTrue\u001b[0m\u001b[0;34m)\u001b[0m\u001b[0;34m\u001b[0m\u001b[0m\n\u001b[0m\u001b[1;32m      2\u001b[0m \u001b[0mmapa_br\u001b[0m \u001b[0;34m=\u001b[0m \u001b[0minfo_ufs\u001b[0m\u001b[0;34m.\u001b[0m\u001b[0mmerge\u001b[0m\u001b[0;34m(\u001b[0m\u001b[0mano_user_tx_pop_lgbt_casamento\u001b[0m\u001b[0;34m,\u001b[0m \u001b[0mon\u001b[0m \u001b[0;34m=\u001b[0m \u001b[0;34m'uf'\u001b[0m\u001b[0;34m,\u001b[0m \u001b[0mhow\u001b[0m \u001b[0;34m=\u001b[0m \u001b[0;34m'left'\u001b[0m\u001b[0;34m)\u001b[0m\u001b[0;34m\u001b[0m\u001b[0m\n\u001b[1;32m      3\u001b[0m \u001b[0;31m#mapa_br[['uf', 'ano', 'numero', 'tx_pop', 'geometry']].head()\u001b[0m\u001b[0;34m\u001b[0m\u001b[0;34m\u001b[0m\u001b[0m\n",
      "\u001b[0;31mNameError\u001b[0m: name 'info_ufs' is not defined"
     ]
    }
   ],
   "source": [
    "info_ufs.rename({'sigla':'uf'}, axis = 1, inplace = True)\n",
    "mapa_br = info_ufs.merge(ano_user_tx_pop_lgbt_casamento, on = 'uf', how = 'left')\n",
    "#mapa_br[['uf', 'ano', 'numero', 'tx_pop', 'geometry']].head()"
   ]
  },
  {
   "cell_type": "code",
   "execution_count": 67,
   "metadata": {
    "colab": {
     "base_uri": "https://localhost:8080/",
     "height": 236
    },
    "id": "ClYnRpWtqwy5",
    "outputId": "a3a00641-53cc-4911-9685-2a3b5f14adbb"
   },
   "outputs": [
    {
     "ename": "NameError",
     "evalue": "name 'mapa_br' is not defined",
     "output_type": "error",
     "traceback": [
      "\u001b[0;31m---------------------------------------------------------------------------\u001b[0m",
      "\u001b[0;31mNameError\u001b[0m                                 Traceback (most recent call last)",
      "\u001b[0;32m<ipython-input-67-1d3610e610d0>\u001b[0m in \u001b[0;36m<module>\u001b[0;34m()\u001b[0m\n\u001b[1;32m      1\u001b[0m \u001b[0mget_ipython\u001b[0m\u001b[0;34m(\u001b[0m\u001b[0;34m)\u001b[0m\u001b[0;34m.\u001b[0m\u001b[0mrun_line_magic\u001b[0m\u001b[0;34m(\u001b[0m\u001b[0;34m'matplotlib'\u001b[0m\u001b[0;34m,\u001b[0m \u001b[0;34m'inline'\u001b[0m\u001b[0;34m)\u001b[0m\u001b[0;34m\u001b[0m\u001b[0m\n\u001b[1;32m      2\u001b[0m \u001b[0;34m\u001b[0m\u001b[0m\n\u001b[0;32m----> 3\u001b[0;31m mapa_br.plot(column = 'tx_pop',\n\u001b[0m\u001b[1;32m      4\u001b[0m              \u001b[0mcmap\u001b[0m \u001b[0;34m=\u001b[0m \u001b[0;34m'Blues'\u001b[0m\u001b[0;34m,\u001b[0m\u001b[0;34m\u001b[0m\u001b[0m\n\u001b[1;32m      5\u001b[0m              \u001b[0mfigsize\u001b[0m \u001b[0;34m=\u001b[0m \u001b[0;34m(\u001b[0m\u001b[0;36m10\u001b[0m\u001b[0;34m,\u001b[0m \u001b[0;36m6\u001b[0m\u001b[0;34m)\u001b[0m\u001b[0;34m,\u001b[0m\u001b[0;34m\u001b[0m\u001b[0m\n",
      "\u001b[0;31mNameError\u001b[0m: name 'mapa_br' is not defined"
     ]
    }
   ],
   "source": [
    "%matplotlib inline\n",
    "\n",
    "mapa_br.plot(column = 'tx_pop',\n",
    "             cmap = 'Blues',\n",
    "             figsize = (10, 6),\n",
    "             legend = True,\n",
    "             edgecolor = 'black')"
   ]
  },
  {
   "cell_type": "markdown",
   "metadata": {
    "id": "jPTxMYo-rIA-"
   },
   "source": [
    "### Considerando a UF e o ano informados pelo usuário, quais são as estatísticas básicas dessa UF e desse ano quanto ao casamento LGBT?"
   ]
  },
  {
   "cell_type": "code",
   "execution_count": 80,
   "metadata": {
    "colab": {
     "base_uri": "https://localhost:8080/",
     "height": 206
    },
    "id": "mnWc8girskHM",
    "outputId": "abe7852b-9038-4763-8ae3-c31e06126895"
   },
   "outputs": [
    {
     "data": {
      "text/html": [
       "<div>\n",
       "<style scoped>\n",
       "    .dataframe tbody tr th:only-of-type {\n",
       "        vertical-align: middle;\n",
       "    }\n",
       "\n",
       "    .dataframe tbody tr th {\n",
       "        vertical-align: top;\n",
       "    }\n",
       "\n",
       "    .dataframe thead th {\n",
       "        text-align: right;\n",
       "    }\n",
       "</style>\n",
       "<table border=\"1\" class=\"dataframe\">\n",
       "  <thead>\n",
       "    <tr style=\"text-align: right;\">\n",
       "      <th></th>\n",
       "      <th>ano</th>\n",
       "      <th>uf_x</th>\n",
       "      <th>genero</th>\n",
       "      <th>mes</th>\n",
       "      <th>numero</th>\n",
       "      <th>codigo_uf</th>\n",
       "      <th>uf_y</th>\n",
       "      <th>nome</th>\n",
       "      <th>latitude</th>\n",
       "      <th>longitude</th>\n",
       "    </tr>\n",
       "  </thead>\n",
       "  <tbody>\n",
       "    <tr>\n",
       "      <th>0</th>\n",
       "      <td>2014</td>\n",
       "      <td>Rondônia</td>\n",
       "      <td>Masculino</td>\n",
       "      <td>Janeiro</td>\n",
       "      <td>0</td>\n",
       "      <td>11</td>\n",
       "      <td>RO</td>\n",
       "      <td>Rondônia</td>\n",
       "      <td>-10.83</td>\n",
       "      <td>-63.34</td>\n",
       "    </tr>\n",
       "    <tr>\n",
       "      <th>1</th>\n",
       "      <td>2014</td>\n",
       "      <td>Rondônia</td>\n",
       "      <td>Masculino</td>\n",
       "      <td>Fevereiro</td>\n",
       "      <td>0</td>\n",
       "      <td>11</td>\n",
       "      <td>RO</td>\n",
       "      <td>Rondônia</td>\n",
       "      <td>-10.83</td>\n",
       "      <td>-63.34</td>\n",
       "    </tr>\n",
       "    <tr>\n",
       "      <th>2</th>\n",
       "      <td>2014</td>\n",
       "      <td>Rondônia</td>\n",
       "      <td>Masculino</td>\n",
       "      <td>Março</td>\n",
       "      <td>0</td>\n",
       "      <td>11</td>\n",
       "      <td>RO</td>\n",
       "      <td>Rondônia</td>\n",
       "      <td>-10.83</td>\n",
       "      <td>-63.34</td>\n",
       "    </tr>\n",
       "    <tr>\n",
       "      <th>3</th>\n",
       "      <td>2014</td>\n",
       "      <td>Rondônia</td>\n",
       "      <td>Masculino</td>\n",
       "      <td>Abril</td>\n",
       "      <td>0</td>\n",
       "      <td>11</td>\n",
       "      <td>RO</td>\n",
       "      <td>Rondônia</td>\n",
       "      <td>-10.83</td>\n",
       "      <td>-63.34</td>\n",
       "    </tr>\n",
       "    <tr>\n",
       "      <th>4</th>\n",
       "      <td>2014</td>\n",
       "      <td>Rondônia</td>\n",
       "      <td>Masculino</td>\n",
       "      <td>Maio</td>\n",
       "      <td>0</td>\n",
       "      <td>11</td>\n",
       "      <td>RO</td>\n",
       "      <td>Rondônia</td>\n",
       "      <td>-10.83</td>\n",
       "      <td>-63.34</td>\n",
       "    </tr>\n",
       "  </tbody>\n",
       "</table>\n",
       "</div>"
      ],
      "text/plain": [
       "    ano      uf_x     genero        mes  numero  codigo_uf uf_y      nome  \\\n",
       "0  2014  Rondônia  Masculino    Janeiro       0         11   RO  Rondônia   \n",
       "1  2014  Rondônia  Masculino  Fevereiro       0         11   RO  Rondônia   \n",
       "2  2014  Rondônia  Masculino      Março       0         11   RO  Rondônia   \n",
       "3  2014  Rondônia  Masculino      Abril       0         11   RO  Rondônia   \n",
       "4  2014  Rondônia  Masculino       Maio       0         11   RO  Rondônia   \n",
       "\n",
       "   latitude  longitude  \n",
       "0    -10.83     -63.34  \n",
       "1    -10.83     -63.34  \n",
       "2    -10.83     -63.34  \n",
       "3    -10.83     -63.34  \n",
       "4    -10.83     -63.34  "
      ]
     },
     "execution_count": 80,
     "metadata": {},
     "output_type": "execute_result"
    }
   ],
   "source": [
    "sigla_uf_lgbt_casamento = lgbt_casamento.merge(sigla_uf, how = 'left', left_on = 'uf', right_on = 'nome')\n",
    "sigla_uf_lgbt_casamento.head()"
   ]
  },
  {
   "cell_type": "code",
   "execution_count": 81,
   "metadata": {
    "colab": {
     "base_uri": "https://localhost:8080/"
    },
    "id": "k-_1PVFCsMwW",
    "outputId": "dbcc6df8-5dc7-4488-a1fc-b7e2ea79b16d"
   },
   "outputs": [
    {
     "name": "stdout",
     "output_type": "stream",
     "text": [
      " --------------------------- \n",
      "         Bem-vindo/a! \n",
      " ---------------------------\n",
      "Escolha um ano de 2013 a 2019: \n",
      "2019\n",
      "Escolha uma UF. Por exemplo, AC, AL, SP, RJ... \n",
      "sp\n",
      " --------------------------- \n",
      "      Já vamos calcular! \n",
      " ---------------------------\n"
     ]
    }
   ],
   "source": [
    "print(\" --------------------------- \\n         Bem-vindo/a! \\n ---------------------------\")\n",
    "ano_user = int(input(\"Escolha um ano de 2013 a 2019: \\n\"))\n",
    "uf_user = input(\"Escolha uma UF. Por exemplo, AC, AL, SP, RJ... \\n\")\n",
    "uf_user = uf_user.upper().strip()\n",
    "#print(uf_user)\n",
    "print(\" --------------------------- \\n      Já vamos calcular! \\n ---------------------------\")"
   ]
  },
  {
   "cell_type": "code",
   "execution_count": 91,
   "metadata": {
    "colab": {
     "base_uri": "https://localhost:8080/",
     "height": 423
    },
    "id": "pP4J_WSvsNe_",
    "outputId": "6409228d-5998-4642-d197-e525833c2535"
   },
   "outputs": [
    {
     "data": {
      "text/html": [
       "\n",
       "<div id=\"altair-viz-c67baf77353440c9bab21bab801c31ff\"></div>\n",
       "<script type=\"text/javascript\">\n",
       "  (function(spec, embedOpt){\n",
       "    const outputDiv = document.getElementById(\"altair-viz-c67baf77353440c9bab21bab801c31ff\");\n",
       "    const paths = {\n",
       "      \"vega\": \"https://cdn.jsdelivr.net/npm//vega@5?noext\",\n",
       "      \"vega-lib\": \"https://cdn.jsdelivr.net/npm//vega-lib?noext\",\n",
       "      \"vega-lite\": \"https://cdn.jsdelivr.net/npm//vega-lite@4.0.2?noext\",\n",
       "      \"vega-embed\": \"https://cdn.jsdelivr.net/npm//vega-embed@6?noext\",\n",
       "    };\n",
       "\n",
       "    function loadScript(lib) {\n",
       "      return new Promise(function(resolve, reject) {\n",
       "        var s = document.createElement('script');\n",
       "        s.src = paths[lib];\n",
       "        s.async = true;\n",
       "        s.onload = () => resolve(paths[lib]);\n",
       "        s.onerror = () => reject(`Error loading script: ${paths[lib]}`);\n",
       "        document.getElementsByTagName(\"head\")[0].appendChild(s);\n",
       "      });\n",
       "    }\n",
       "\n",
       "    function showError(err) {\n",
       "      outputDiv.innerHTML = `<div class=\"error\" style=\"color:red;\">${err}</div>`;\n",
       "      throw err;\n",
       "    }\n",
       "\n",
       "    function displayChart(vegaEmbed) {\n",
       "      vegaEmbed(outputDiv, spec, embedOpt)\n",
       "        .catch(err => showError(`Javascript Error: ${err.message}<br>This usually means there's a typo in your chart specification. See the javascript console for the full traceback.`));\n",
       "    }\n",
       "\n",
       "    if(typeof define === \"function\" && define.amd) {\n",
       "      requirejs.config({paths});\n",
       "      require([\"vega-embed\"], displayChart, err => showError(`Error loading script: ${err.message}`));\n",
       "    } else if (typeof vegaEmbed === \"function\") {\n",
       "      displayChart(vegaEmbed);\n",
       "    } else {\n",
       "      loadScript(\"vega\")\n",
       "        .then(() => loadScript(\"vega-lite\"))\n",
       "        .then(() => loadScript(\"vega-embed\"))\n",
       "        .catch(showError)\n",
       "        .then(() => displayChart(vegaEmbed));\n",
       "    }\n",
       "  })({\"height\": 300, \"mark\": {\"type\": \"line\", \"point\": true}, \"config\": {\"view\": {\"continuousWidth\": 400, \"continuousHeight\": 300}}, \"width\": 600, \"data\": {\"name\": \"data-3b3cb101d5736f04245233acbeab3c93\"}, \"selection\": {\"selector006\": {\"encodings\": [\"x\", \"y\"], \"bind\": \"scales\", \"type\": \"interval\"}}, \"encoding\": {\"color\": {\"type\": \"nominal\", \"sort\": [\"Masculino\", \"Feminino\"], \"field\": \"genero\", \"title\": \"G\\u00eanero\"}, \"y\": {\"type\": \"quantitative\", \"field\": \"numero\", \"title\": \"N\\u00ba de casamentos\"}, \"x\": {\"type\": \"nominal\", \"sort\": [\"Janeiro\", \"Fevereiro\", \"Mar\\u00e7o\"], \"field\": \"mes\", \"title\": \"M\\u00eas\"}, \"tooltip\": [{\"type\": \"nominal\", \"field\": \"mes\"}, {\"type\": \"quantitative\", \"field\": \"ano\"}, {\"type\": \"nominal\", \"field\": \"genero\"}, {\"type\": \"quantitative\", \"field\": \"numero\"}]}, \"$schema\": \"https://vega.github.io/schema/vega-lite/v4.0.2.json\", \"title\": \"SP: Casamento LGBTs em 2019\", \"datasets\": {\"data-3b3cb101d5736f04245233acbeab3c93\": [{\"uf_x\": \"S\\u00e3o Paulo\", \"ano\": 2019, \"numero\": 201, \"longitude\": -48.79, \"uf_y\": \"SP\", \"mes\": \"Janeiro\", \"nome\": \"S\\u00e3o Paulo\", \"codigo_uf\": 35, \"latitude\": -22.19, \"genero\": \"Masculino\"}, {\"uf_x\": \"S\\u00e3o Paulo\", \"ano\": 2019, \"numero\": 126, \"longitude\": -48.79, \"uf_y\": \"SP\", \"mes\": \"Fevereiro\", \"nome\": \"S\\u00e3o Paulo\", \"codigo_uf\": 35, \"latitude\": -22.19, \"genero\": \"Masculino\"}, {\"uf_x\": \"S\\u00e3o Paulo\", \"ano\": 2019, \"numero\": 119, \"longitude\": -48.79, \"uf_y\": \"SP\", \"mes\": \"Mar\\u00e7o\", \"nome\": \"S\\u00e3o Paulo\", \"codigo_uf\": 35, \"latitude\": -22.19, \"genero\": \"Masculino\"}, {\"uf_x\": \"S\\u00e3o Paulo\", \"ano\": 2019, \"numero\": 86, \"longitude\": -48.79, \"uf_y\": \"SP\", \"mes\": \"Abril\", \"nome\": \"S\\u00e3o Paulo\", \"codigo_uf\": 35, \"latitude\": -22.19, \"genero\": \"Masculino\"}, {\"uf_x\": \"S\\u00e3o Paulo\", \"ano\": 2019, \"numero\": 90, \"longitude\": -48.79, \"uf_y\": \"SP\", \"mes\": \"Maio\", \"nome\": \"S\\u00e3o Paulo\", \"codigo_uf\": 35, \"latitude\": -22.19, \"genero\": \"Masculino\"}, {\"uf_x\": \"S\\u00e3o Paulo\", \"ano\": 2019, \"numero\": 122, \"longitude\": -48.79, \"uf_y\": \"SP\", \"mes\": \"Junho\", \"nome\": \"S\\u00e3o Paulo\", \"codigo_uf\": 35, \"latitude\": -22.19, \"genero\": \"Masculino\"}, {\"uf_x\": \"S\\u00e3o Paulo\", \"ano\": 2019, \"numero\": 122, \"longitude\": -48.79, \"uf_y\": \"SP\", \"mes\": \"Julho\", \"nome\": \"S\\u00e3o Paulo\", \"codigo_uf\": 35, \"latitude\": -22.19, \"genero\": \"Masculino\"}, {\"uf_x\": \"S\\u00e3o Paulo\", \"ano\": 2019, \"numero\": 112, \"longitude\": -48.79, \"uf_y\": \"SP\", \"mes\": \"Agosto\", \"nome\": \"S\\u00e3o Paulo\", \"codigo_uf\": 35, \"latitude\": -22.19, \"genero\": \"Masculino\"}, {\"uf_x\": \"S\\u00e3o Paulo\", \"ano\": 2019, \"numero\": 113, \"longitude\": -48.79, \"uf_y\": \"SP\", \"mes\": \"Setembro\", \"nome\": \"S\\u00e3o Paulo\", \"codigo_uf\": 35, \"latitude\": -22.19, \"genero\": \"Masculino\"}, {\"uf_x\": \"S\\u00e3o Paulo\", \"ano\": 2019, \"numero\": 99, \"longitude\": -48.79, \"uf_y\": \"SP\", \"mes\": \"Outubro\", \"nome\": \"S\\u00e3o Paulo\", \"codigo_uf\": 35, \"latitude\": -22.19, \"genero\": \"Masculino\"}, {\"uf_x\": \"S\\u00e3o Paulo\", \"ano\": 2019, \"numero\": 132, \"longitude\": -48.79, \"uf_y\": \"SP\", \"mes\": \"Novembro\", \"nome\": \"S\\u00e3o Paulo\", \"codigo_uf\": 35, \"latitude\": -22.19, \"genero\": \"Masculino\"}, {\"uf_x\": \"S\\u00e3o Paulo\", \"ano\": 2019, \"numero\": 131, \"longitude\": -48.79, \"uf_y\": \"SP\", \"mes\": \"Dezembro\", \"nome\": \"S\\u00e3o Paulo\", \"codigo_uf\": 35, \"latitude\": -22.19, \"genero\": \"Masculino\"}, {\"uf_x\": \"S\\u00e3o Paulo\", \"ano\": 2019, \"numero\": 339, \"longitude\": -48.79, \"uf_y\": \"SP\", \"mes\": \"Janeiro\", \"nome\": \"S\\u00e3o Paulo\", \"codigo_uf\": 35, \"latitude\": -22.19, \"genero\": \"Feminino\"}, {\"uf_x\": \"S\\u00e3o Paulo\", \"ano\": 2019, \"numero\": 216, \"longitude\": -48.79, \"uf_y\": \"SP\", \"mes\": \"Fevereiro\", \"nome\": \"S\\u00e3o Paulo\", \"codigo_uf\": 35, \"latitude\": -22.19, \"genero\": \"Feminino\"}, {\"uf_x\": \"S\\u00e3o Paulo\", \"ano\": 2019, \"numero\": 183, \"longitude\": -48.79, \"uf_y\": \"SP\", \"mes\": \"Mar\\u00e7o\", \"nome\": \"S\\u00e3o Paulo\", \"codigo_uf\": 35, \"latitude\": -22.19, \"genero\": \"Feminino\"}, {\"uf_x\": \"S\\u00e3o Paulo\", \"ano\": 2019, \"numero\": 128, \"longitude\": -48.79, \"uf_y\": \"SP\", \"mes\": \"Abril\", \"nome\": \"S\\u00e3o Paulo\", \"codigo_uf\": 35, \"latitude\": -22.19, \"genero\": \"Feminino\"}, {\"uf_x\": \"S\\u00e3o Paulo\", \"ano\": 2019, \"numero\": 159, \"longitude\": -48.79, \"uf_y\": \"SP\", \"mes\": \"Maio\", \"nome\": \"S\\u00e3o Paulo\", \"codigo_uf\": 35, \"latitude\": -22.19, \"genero\": \"Feminino\"}, {\"uf_x\": \"S\\u00e3o Paulo\", \"ano\": 2019, \"numero\": 150, \"longitude\": -48.79, \"uf_y\": \"SP\", \"mes\": \"Junho\", \"nome\": \"S\\u00e3o Paulo\", \"codigo_uf\": 35, \"latitude\": -22.19, \"genero\": \"Feminino\"}, {\"uf_x\": \"S\\u00e3o Paulo\", \"ano\": 2019, \"numero\": 113, \"longitude\": -48.79, \"uf_y\": \"SP\", \"mes\": \"Julho\", \"nome\": \"S\\u00e3o Paulo\", \"codigo_uf\": 35, \"latitude\": -22.19, \"genero\": \"Feminino\"}, {\"uf_x\": \"S\\u00e3o Paulo\", \"ano\": 2019, \"numero\": 151, \"longitude\": -48.79, \"uf_y\": \"SP\", \"mes\": \"Agosto\", \"nome\": \"S\\u00e3o Paulo\", \"codigo_uf\": 35, \"latitude\": -22.19, \"genero\": \"Feminino\"}, {\"uf_x\": \"S\\u00e3o Paulo\", \"ano\": 2019, \"numero\": 147, \"longitude\": -48.79, \"uf_y\": \"SP\", \"mes\": \"Setembro\", \"nome\": \"S\\u00e3o Paulo\", \"codigo_uf\": 35, \"latitude\": -22.19, \"genero\": \"Feminino\"}, {\"uf_x\": \"S\\u00e3o Paulo\", \"ano\": 2019, \"numero\": 164, \"longitude\": -48.79, \"uf_y\": \"SP\", \"mes\": \"Outubro\", \"nome\": \"S\\u00e3o Paulo\", \"codigo_uf\": 35, \"latitude\": -22.19, \"genero\": \"Feminino\"}, {\"uf_x\": \"S\\u00e3o Paulo\", \"ano\": 2019, \"numero\": 205, \"longitude\": -48.79, \"uf_y\": \"SP\", \"mes\": \"Novembro\", \"nome\": \"S\\u00e3o Paulo\", \"codigo_uf\": 35, \"latitude\": -22.19, \"genero\": \"Feminino\"}, {\"uf_x\": \"S\\u00e3o Paulo\", \"ano\": 2019, \"numero\": 165, \"longitude\": -48.79, \"uf_y\": \"SP\", \"mes\": \"Dezembro\", \"nome\": \"S\\u00e3o Paulo\", \"codigo_uf\": 35, \"latitude\": -22.19, \"genero\": \"Feminino\"}]}}, {\"mode\": \"vega-lite\"});\n",
       "</script>"
      ],
      "text/plain": [
       "alt.Chart(...)"
      ]
     },
     "execution_count": 91,
     "metadata": {},
     "output_type": "execute_result"
    }
   ],
   "source": [
    "# gráfico de linha usando filtro pela UF e pelo ano informados pelo usuário\n",
    "# referência https://altair-viz.github.io/gallery/line_chart_with_points.html\n",
    "# obs: tirei a f string por causa da versão antiga no Python neste laptop\n",
    "alt.Chart(sigla_uf_lgbt_casamento.query('uf_y == @uf_user & ano == @ano_user', engine='python')).mark_line(point=True).encode(\n",
    "    x = alt.X('mes', title = 'Mês', sort=['Janeiro', 'Fevereiro', 'Março']),\n",
    "    y = alt.Y('numero', title='Nº de casamentos'),\n",
    "    color = alt.Color('genero', sort = ['Masculino', 'Feminino'], title = 'Gênero'),\n",
    "    tooltip = ['mes', 'ano', 'genero', 'numero']\n",
    ").properties(\n",
    "    title = '{}: Casamento LGBTs em {}'.format(uf_user, ano_user),\n",
    "    width = 600, height=300\n",
    ").interactive()"
   ]
  },
  {
   "cell_type": "code",
   "execution_count": 92,
   "metadata": {
    "colab": {
     "base_uri": "https://localhost:8080/",
     "height": 413
    },
    "id": "9gunNoiPsyEc",
    "outputId": "72f37a27-2282-4e4d-af8e-0b705ca923af"
   },
   "outputs": [
    {
     "data": {
      "text/html": [
       "\n",
       "<div id=\"altair-viz-a906afaddba84742b612a360e4656cdd\"></div>\n",
       "<script type=\"text/javascript\">\n",
       "  (function(spec, embedOpt){\n",
       "    const outputDiv = document.getElementById(\"altair-viz-a906afaddba84742b612a360e4656cdd\");\n",
       "    const paths = {\n",
       "      \"vega\": \"https://cdn.jsdelivr.net/npm//vega@5?noext\",\n",
       "      \"vega-lib\": \"https://cdn.jsdelivr.net/npm//vega-lib?noext\",\n",
       "      \"vega-lite\": \"https://cdn.jsdelivr.net/npm//vega-lite@4.0.2?noext\",\n",
       "      \"vega-embed\": \"https://cdn.jsdelivr.net/npm//vega-embed@6?noext\",\n",
       "    };\n",
       "\n",
       "    function loadScript(lib) {\n",
       "      return new Promise(function(resolve, reject) {\n",
       "        var s = document.createElement('script');\n",
       "        s.src = paths[lib];\n",
       "        s.async = true;\n",
       "        s.onload = () => resolve(paths[lib]);\n",
       "        s.onerror = () => reject(`Error loading script: ${paths[lib]}`);\n",
       "        document.getElementsByTagName(\"head\")[0].appendChild(s);\n",
       "      });\n",
       "    }\n",
       "\n",
       "    function showError(err) {\n",
       "      outputDiv.innerHTML = `<div class=\"error\" style=\"color:red;\">${err}</div>`;\n",
       "      throw err;\n",
       "    }\n",
       "\n",
       "    function displayChart(vegaEmbed) {\n",
       "      vegaEmbed(outputDiv, spec, embedOpt)\n",
       "        .catch(err => showError(`Javascript Error: ${err.message}<br>This usually means there's a typo in your chart specification. See the javascript console for the full traceback.`));\n",
       "    }\n",
       "\n",
       "    if(typeof define === \"function\" && define.amd) {\n",
       "      requirejs.config({paths});\n",
       "      require([\"vega-embed\"], displayChart, err => showError(`Error loading script: ${err.message}`));\n",
       "    } else if (typeof vegaEmbed === \"function\") {\n",
       "      displayChart(vegaEmbed);\n",
       "    } else {\n",
       "      loadScript(\"vega\")\n",
       "        .then(() => loadScript(\"vega-lite\"))\n",
       "        .then(() => loadScript(\"vega-embed\"))\n",
       "        .catch(showError)\n",
       "        .then(() => displayChart(vegaEmbed));\n",
       "    }\n",
       "  })({\"height\": 300, \"mark\": {\"type\": \"boxplot\", \"size\": 80}, \"config\": {\"view\": {\"continuousWidth\": 400, \"continuousHeight\": 300}}, \"width\": 600, \"data\": {\"name\": \"data-36145554d5ec4265a2cea7e014fa18be\"}, \"selection\": {\"selector007\": {\"encodings\": [\"x\", \"y\"], \"bind\": \"scales\", \"type\": \"interval\"}}, \"encoding\": {\"color\": {\"type\": \"nominal\", \"sort\": [\"Masculino\", \"Feminino\"], \"field\": \"genero\", \"title\": \"G\\u00eanero\"}, \"y\": {\"type\": \"quantitative\", \"field\": \"numero\", \"title\": \"N\\u00ba de casamentos\"}, \"x\": {\"type\": \"ordinal\", \"field\": \"ano\", \"title\": \"Ano\"}, \"tooltip\": [{\"type\": \"nominal\", \"field\": \"mes\"}, {\"type\": \"quantitative\", \"field\": \"ano\"}, {\"type\": \"nominal\", \"field\": \"genero\"}, {\"type\": \"quantitative\", \"field\": \"numero\"}]}, \"$schema\": \"https://vega.github.io/schema/vega-lite/v4.0.2.json\", \"title\": {\"text\": [\"SP: Casamento LGBTs\"], \"subtitle\": [\"Mulheres vs. Homens\"]}, \"datasets\": {\"data-36145554d5ec4265a2cea7e014fa18be\": [{\"uf_x\": \"S\\u00e3o Paulo\", \"ano\": 2014, \"numero\": 64, \"longitude\": -48.79, \"uf_y\": \"SP\", \"mes\": \"Janeiro\", \"nome\": \"S\\u00e3o Paulo\", \"codigo_uf\": 35, \"latitude\": -22.19, \"genero\": \"Masculino\"}, {\"uf_x\": \"S\\u00e3o Paulo\", \"ano\": 2014, \"numero\": 76, \"longitude\": -48.79, \"uf_y\": \"SP\", \"mes\": \"Fevereiro\", \"nome\": \"S\\u00e3o Paulo\", \"codigo_uf\": 35, \"latitude\": -22.19, \"genero\": \"Masculino\"}, {\"uf_x\": \"S\\u00e3o Paulo\", \"ano\": 2014, \"numero\": 80, \"longitude\": -48.79, \"uf_y\": \"SP\", \"mes\": \"Mar\\u00e7o\", \"nome\": \"S\\u00e3o Paulo\", \"codigo_uf\": 35, \"latitude\": -22.19, \"genero\": \"Masculino\"}, {\"uf_x\": \"S\\u00e3o Paulo\", \"ano\": 2014, \"numero\": 61, \"longitude\": -48.79, \"uf_y\": \"SP\", \"mes\": \"Abril\", \"nome\": \"S\\u00e3o Paulo\", \"codigo_uf\": 35, \"latitude\": -22.19, \"genero\": \"Masculino\"}, {\"uf_x\": \"S\\u00e3o Paulo\", \"ano\": 2014, \"numero\": 74, \"longitude\": -48.79, \"uf_y\": \"SP\", \"mes\": \"Maio\", \"nome\": \"S\\u00e3o Paulo\", \"codigo_uf\": 35, \"latitude\": -22.19, \"genero\": \"Masculino\"}, {\"uf_x\": \"S\\u00e3o Paulo\", \"ano\": 2014, \"numero\": 51, \"longitude\": -48.79, \"uf_y\": \"SP\", \"mes\": \"Junho\", \"nome\": \"S\\u00e3o Paulo\", \"codigo_uf\": 35, \"latitude\": -22.19, \"genero\": \"Masculino\"}, {\"uf_x\": \"S\\u00e3o Paulo\", \"ano\": 2014, \"numero\": 65, \"longitude\": -48.79, \"uf_y\": \"SP\", \"mes\": \"Julho\", \"nome\": \"S\\u00e3o Paulo\", \"codigo_uf\": 35, \"latitude\": -22.19, \"genero\": \"Masculino\"}, {\"uf_x\": \"S\\u00e3o Paulo\", \"ano\": 2014, \"numero\": 67, \"longitude\": -48.79, \"uf_y\": \"SP\", \"mes\": \"Agosto\", \"nome\": \"S\\u00e3o Paulo\", \"codigo_uf\": 35, \"latitude\": -22.19, \"genero\": \"Masculino\"}, {\"uf_x\": \"S\\u00e3o Paulo\", \"ano\": 2014, \"numero\": 94, \"longitude\": -48.79, \"uf_y\": \"SP\", \"mes\": \"Setembro\", \"nome\": \"S\\u00e3o Paulo\", \"codigo_uf\": 35, \"latitude\": -22.19, \"genero\": \"Masculino\"}, {\"uf_x\": \"S\\u00e3o Paulo\", \"ano\": 2014, \"numero\": 81, \"longitude\": -48.79, \"uf_y\": \"SP\", \"mes\": \"Outubro\", \"nome\": \"S\\u00e3o Paulo\", \"codigo_uf\": 35, \"latitude\": -22.19, \"genero\": \"Masculino\"}, {\"uf_x\": \"S\\u00e3o Paulo\", \"ano\": 2014, \"numero\": 86, \"longitude\": -48.79, \"uf_y\": \"SP\", \"mes\": \"Novembro\", \"nome\": \"S\\u00e3o Paulo\", \"codigo_uf\": 35, \"latitude\": -22.19, \"genero\": \"Masculino\"}, {\"uf_x\": \"S\\u00e3o Paulo\", \"ano\": 2014, \"numero\": 99, \"longitude\": -48.79, \"uf_y\": \"SP\", \"mes\": \"Dezembro\", \"nome\": \"S\\u00e3o Paulo\", \"codigo_uf\": 35, \"latitude\": -22.19, \"genero\": \"Masculino\"}, {\"uf_x\": \"S\\u00e3o Paulo\", \"ano\": 2014, \"numero\": 77, \"longitude\": -48.79, \"uf_y\": \"SP\", \"mes\": \"Janeiro\", \"nome\": \"S\\u00e3o Paulo\", \"codigo_uf\": 35, \"latitude\": -22.19, \"genero\": \"Feminino\"}, {\"uf_x\": \"S\\u00e3o Paulo\", \"ano\": 2014, \"numero\": 69, \"longitude\": -48.79, \"uf_y\": \"SP\", \"mes\": \"Fevereiro\", \"nome\": \"S\\u00e3o Paulo\", \"codigo_uf\": 35, \"latitude\": -22.19, \"genero\": \"Feminino\"}, {\"uf_x\": \"S\\u00e3o Paulo\", \"ano\": 2014, \"numero\": 77, \"longitude\": -48.79, \"uf_y\": \"SP\", \"mes\": \"Mar\\u00e7o\", \"nome\": \"S\\u00e3o Paulo\", \"codigo_uf\": 35, \"latitude\": -22.19, \"genero\": \"Feminino\"}, {\"uf_x\": \"S\\u00e3o Paulo\", \"ano\": 2014, \"numero\": 74, \"longitude\": -48.79, \"uf_y\": \"SP\", \"mes\": \"Abril\", \"nome\": \"S\\u00e3o Paulo\", \"codigo_uf\": 35, \"latitude\": -22.19, \"genero\": \"Feminino\"}, {\"uf_x\": \"S\\u00e3o Paulo\", \"ano\": 2014, \"numero\": 100, \"longitude\": -48.79, \"uf_y\": \"SP\", \"mes\": \"Maio\", \"nome\": \"S\\u00e3o Paulo\", \"codigo_uf\": 35, \"latitude\": -22.19, \"genero\": \"Feminino\"}, {\"uf_x\": \"S\\u00e3o Paulo\", \"ano\": 2014, \"numero\": 79, \"longitude\": -48.79, \"uf_y\": \"SP\", \"mes\": \"Junho\", \"nome\": \"S\\u00e3o Paulo\", \"codigo_uf\": 35, \"latitude\": -22.19, \"genero\": \"Feminino\"}, {\"uf_x\": \"S\\u00e3o Paulo\", \"ano\": 2014, \"numero\": 86, \"longitude\": -48.79, \"uf_y\": \"SP\", \"mes\": \"Julho\", \"nome\": \"S\\u00e3o Paulo\", \"codigo_uf\": 35, \"latitude\": -22.19, \"genero\": \"Feminino\"}, {\"uf_x\": \"S\\u00e3o Paulo\", \"ano\": 2014, \"numero\": 72, \"longitude\": -48.79, \"uf_y\": \"SP\", \"mes\": \"Agosto\", \"nome\": \"S\\u00e3o Paulo\", \"codigo_uf\": 35, \"latitude\": -22.19, \"genero\": \"Feminino\"}, {\"uf_x\": \"S\\u00e3o Paulo\", \"ano\": 2014, \"numero\": 121, \"longitude\": -48.79, \"uf_y\": \"SP\", \"mes\": \"Setembro\", \"nome\": \"S\\u00e3o Paulo\", \"codigo_uf\": 35, \"latitude\": -22.19, \"genero\": \"Feminino\"}, {\"uf_x\": \"S\\u00e3o Paulo\", \"ano\": 2014, \"numero\": 151, \"longitude\": -48.79, \"uf_y\": \"SP\", \"mes\": \"Outubro\", \"nome\": \"S\\u00e3o Paulo\", \"codigo_uf\": 35, \"latitude\": -22.19, \"genero\": \"Feminino\"}, {\"uf_x\": \"S\\u00e3o Paulo\", \"ano\": 2014, \"numero\": 122, \"longitude\": -48.79, \"uf_y\": \"SP\", \"mes\": \"Novembro\", \"nome\": \"S\\u00e3o Paulo\", \"codigo_uf\": 35, \"latitude\": -22.19, \"genero\": \"Feminino\"}, {\"uf_x\": \"S\\u00e3o Paulo\", \"ano\": 2014, \"numero\": 124, \"longitude\": -48.79, \"uf_y\": \"SP\", \"mes\": \"Dezembro\", \"nome\": \"S\\u00e3o Paulo\", \"codigo_uf\": 35, \"latitude\": -22.19, \"genero\": \"Feminino\"}, {\"uf_x\": \"S\\u00e3o Paulo\", \"ano\": 2013, \"numero\": 19, \"longitude\": -48.79, \"uf_y\": \"SP\", \"mes\": \"Janeiro\", \"nome\": \"S\\u00e3o Paulo\", \"codigo_uf\": 35, \"latitude\": -22.19, \"genero\": \"Masculino\"}, {\"uf_x\": \"S\\u00e3o Paulo\", \"ano\": 2013, \"numero\": 38, \"longitude\": -48.79, \"uf_y\": \"SP\", \"mes\": \"Fevereiro\", \"nome\": \"S\\u00e3o Paulo\", \"codigo_uf\": 35, \"latitude\": -22.19, \"genero\": \"Masculino\"}, {\"uf_x\": \"S\\u00e3o Paulo\", \"ano\": 2013, \"numero\": 57, \"longitude\": -48.79, \"uf_y\": \"SP\", \"mes\": \"Mar\\u00e7o\", \"nome\": \"S\\u00e3o Paulo\", \"codigo_uf\": 35, \"latitude\": -22.19, \"genero\": \"Masculino\"}, {\"uf_x\": \"S\\u00e3o Paulo\", \"ano\": 2013, \"numero\": 80, \"longitude\": -48.79, \"uf_y\": \"SP\", \"mes\": \"Abril\", \"nome\": \"S\\u00e3o Paulo\", \"codigo_uf\": 35, \"latitude\": -22.19, \"genero\": \"Masculino\"}, {\"uf_x\": \"S\\u00e3o Paulo\", \"ano\": 2013, \"numero\": 68, \"longitude\": -48.79, \"uf_y\": \"SP\", \"mes\": \"Maio\", \"nome\": \"S\\u00e3o Paulo\", \"codigo_uf\": 35, \"latitude\": -22.19, \"genero\": \"Masculino\"}, {\"uf_x\": \"S\\u00e3o Paulo\", \"ano\": 2013, \"numero\": 88, \"longitude\": -48.79, \"uf_y\": \"SP\", \"mes\": \"Junho\", \"nome\": \"S\\u00e3o Paulo\", \"codigo_uf\": 35, \"latitude\": -22.19, \"genero\": \"Masculino\"}, {\"uf_x\": \"S\\u00e3o Paulo\", \"ano\": 2013, \"numero\": 92, \"longitude\": -48.79, \"uf_y\": \"SP\", \"mes\": \"Julho\", \"nome\": \"S\\u00e3o Paulo\", \"codigo_uf\": 35, \"latitude\": -22.19, \"genero\": \"Masculino\"}, {\"uf_x\": \"S\\u00e3o Paulo\", \"ano\": 2013, \"numero\": 99, \"longitude\": -48.79, \"uf_y\": \"SP\", \"mes\": \"Agosto\", \"nome\": \"S\\u00e3o Paulo\", \"codigo_uf\": 35, \"latitude\": -22.19, \"genero\": \"Masculino\"}, {\"uf_x\": \"S\\u00e3o Paulo\", \"ano\": 2013, \"numero\": 88, \"longitude\": -48.79, \"uf_y\": \"SP\", \"mes\": \"Setembro\", \"nome\": \"S\\u00e3o Paulo\", \"codigo_uf\": 35, \"latitude\": -22.19, \"genero\": \"Masculino\"}, {\"uf_x\": \"S\\u00e3o Paulo\", \"ano\": 2013, \"numero\": 97, \"longitude\": -48.79, \"uf_y\": \"SP\", \"mes\": \"Outubro\", \"nome\": \"S\\u00e3o Paulo\", \"codigo_uf\": 35, \"latitude\": -22.19, \"genero\": \"Masculino\"}, {\"uf_x\": \"S\\u00e3o Paulo\", \"ano\": 2013, \"numero\": 93, \"longitude\": -48.79, \"uf_y\": \"SP\", \"mes\": \"Novembro\", \"nome\": \"S\\u00e3o Paulo\", \"codigo_uf\": 35, \"latitude\": -22.19, \"genero\": \"Masculino\"}, {\"uf_x\": \"S\\u00e3o Paulo\", \"ano\": 2013, \"numero\": 78, \"longitude\": -48.79, \"uf_y\": \"SP\", \"mes\": \"Dezembro\", \"nome\": \"S\\u00e3o Paulo\", \"codigo_uf\": 35, \"latitude\": -22.19, \"genero\": \"Masculino\"}, {\"uf_x\": \"S\\u00e3o Paulo\", \"ano\": 2013, \"numero\": 23, \"longitude\": -48.79, \"uf_y\": \"SP\", \"mes\": \"Janeiro\", \"nome\": \"S\\u00e3o Paulo\", \"codigo_uf\": 35, \"latitude\": -22.19, \"genero\": \"Feminino\"}, {\"uf_x\": \"S\\u00e3o Paulo\", \"ano\": 2013, \"numero\": 36, \"longitude\": -48.79, \"uf_y\": \"SP\", \"mes\": \"Fevereiro\", \"nome\": \"S\\u00e3o Paulo\", \"codigo_uf\": 35, \"latitude\": -22.19, \"genero\": \"Feminino\"}, {\"uf_x\": \"S\\u00e3o Paulo\", \"ano\": 2013, \"numero\": 68, \"longitude\": -48.79, \"uf_y\": \"SP\", \"mes\": \"Mar\\u00e7o\", \"nome\": \"S\\u00e3o Paulo\", \"codigo_uf\": 35, \"latitude\": -22.19, \"genero\": \"Feminino\"}, {\"uf_x\": \"S\\u00e3o Paulo\", \"ano\": 2013, \"numero\": 89, \"longitude\": -48.79, \"uf_y\": \"SP\", \"mes\": \"Abril\", \"nome\": \"S\\u00e3o Paulo\", \"codigo_uf\": 35, \"latitude\": -22.19, \"genero\": \"Feminino\"}, {\"uf_x\": \"S\\u00e3o Paulo\", \"ano\": 2013, \"numero\": 89, \"longitude\": -48.79, \"uf_y\": \"SP\", \"mes\": \"Maio\", \"nome\": \"S\\u00e3o Paulo\", \"codigo_uf\": 35, \"latitude\": -22.19, \"genero\": \"Feminino\"}, {\"uf_x\": \"S\\u00e3o Paulo\", \"ano\": 2013, \"numero\": 100, \"longitude\": -48.79, \"uf_y\": \"SP\", \"mes\": \"Junho\", \"nome\": \"S\\u00e3o Paulo\", \"codigo_uf\": 35, \"latitude\": -22.19, \"genero\": \"Feminino\"}, {\"uf_x\": \"S\\u00e3o Paulo\", \"ano\": 2013, \"numero\": 98, \"longitude\": -48.79, \"uf_y\": \"SP\", \"mes\": \"Julho\", \"nome\": \"S\\u00e3o Paulo\", \"codigo_uf\": 35, \"latitude\": -22.19, \"genero\": \"Feminino\"}, {\"uf_x\": \"S\\u00e3o Paulo\", \"ano\": 2013, \"numero\": 91, \"longitude\": -48.79, \"uf_y\": \"SP\", \"mes\": \"Agosto\", \"nome\": \"S\\u00e3o Paulo\", \"codigo_uf\": 35, \"latitude\": -22.19, \"genero\": \"Feminino\"}, {\"uf_x\": \"S\\u00e3o Paulo\", \"ano\": 2013, \"numero\": 109, \"longitude\": -48.79, \"uf_y\": \"SP\", \"mes\": \"Setembro\", \"nome\": \"S\\u00e3o Paulo\", \"codigo_uf\": 35, \"latitude\": -22.19, \"genero\": \"Feminino\"}, {\"uf_x\": \"S\\u00e3o Paulo\", \"ano\": 2013, \"numero\": 116, \"longitude\": -48.79, \"uf_y\": \"SP\", \"mes\": \"Outubro\", \"nome\": \"S\\u00e3o Paulo\", \"codigo_uf\": 35, \"latitude\": -22.19, \"genero\": \"Feminino\"}, {\"uf_x\": \"S\\u00e3o Paulo\", \"ano\": 2013, \"numero\": 133, \"longitude\": -48.79, \"uf_y\": \"SP\", \"mes\": \"Novembro\", \"nome\": \"S\\u00e3o Paulo\", \"codigo_uf\": 35, \"latitude\": -22.19, \"genero\": \"Feminino\"}, {\"uf_x\": \"S\\u00e3o Paulo\", \"ano\": 2013, \"numero\": 96, \"longitude\": -48.79, \"uf_y\": \"SP\", \"mes\": \"Dezembro\", \"nome\": \"S\\u00e3o Paulo\", \"codigo_uf\": 35, \"latitude\": -22.19, \"genero\": \"Feminino\"}, {\"uf_x\": \"S\\u00e3o Paulo\", \"ano\": 2015, \"numero\": 69, \"longitude\": -48.79, \"uf_y\": \"SP\", \"mes\": \"Janeiro\", \"nome\": \"S\\u00e3o Paulo\", \"codigo_uf\": 35, \"latitude\": -22.19, \"genero\": \"Masculino\"}, {\"uf_x\": \"S\\u00e3o Paulo\", \"ano\": 2015, \"numero\": 57, \"longitude\": -48.79, \"uf_y\": \"SP\", \"mes\": \"Fevereiro\", \"nome\": \"S\\u00e3o Paulo\", \"codigo_uf\": 35, \"latitude\": -22.19, \"genero\": \"Masculino\"}, {\"uf_x\": \"S\\u00e3o Paulo\", \"ano\": 2015, \"numero\": 68, \"longitude\": -48.79, \"uf_y\": \"SP\", \"mes\": \"Mar\\u00e7o\", \"nome\": \"S\\u00e3o Paulo\", \"codigo_uf\": 35, \"latitude\": -22.19, \"genero\": \"Masculino\"}, {\"uf_x\": \"S\\u00e3o Paulo\", \"ano\": 2015, \"numero\": 64, \"longitude\": -48.79, \"uf_y\": \"SP\", \"mes\": \"Abril\", \"nome\": \"S\\u00e3o Paulo\", \"codigo_uf\": 35, \"latitude\": -22.19, \"genero\": \"Masculino\"}, {\"uf_x\": \"S\\u00e3o Paulo\", \"ano\": 2015, \"numero\": 62, \"longitude\": -48.79, \"uf_y\": \"SP\", \"mes\": \"Maio\", \"nome\": \"S\\u00e3o Paulo\", \"codigo_uf\": 35, \"latitude\": -22.19, \"genero\": \"Masculino\"}, {\"uf_x\": \"S\\u00e3o Paulo\", \"ano\": 2015, \"numero\": 69, \"longitude\": -48.79, \"uf_y\": \"SP\", \"mes\": \"Junho\", \"nome\": \"S\\u00e3o Paulo\", \"codigo_uf\": 35, \"latitude\": -22.19, \"genero\": \"Masculino\"}, {\"uf_x\": \"S\\u00e3o Paulo\", \"ano\": 2015, \"numero\": 72, \"longitude\": -48.79, \"uf_y\": \"SP\", \"mes\": \"Julho\", \"nome\": \"S\\u00e3o Paulo\", \"codigo_uf\": 35, \"latitude\": -22.19, \"genero\": \"Masculino\"}, {\"uf_x\": \"S\\u00e3o Paulo\", \"ano\": 2015, \"numero\": 72, \"longitude\": -48.79, \"uf_y\": \"SP\", \"mes\": \"Agosto\", \"nome\": \"S\\u00e3o Paulo\", \"codigo_uf\": 35, \"latitude\": -22.19, \"genero\": \"Masculino\"}, {\"uf_x\": \"S\\u00e3o Paulo\", \"ano\": 2015, \"numero\": 76, \"longitude\": -48.79, \"uf_y\": \"SP\", \"mes\": \"Setembro\", \"nome\": \"S\\u00e3o Paulo\", \"codigo_uf\": 35, \"latitude\": -22.19, \"genero\": \"Masculino\"}, {\"uf_x\": \"S\\u00e3o Paulo\", \"ano\": 2015, \"numero\": 85, \"longitude\": -48.79, \"uf_y\": \"SP\", \"mes\": \"Outubro\", \"nome\": \"S\\u00e3o Paulo\", \"codigo_uf\": 35, \"latitude\": -22.19, \"genero\": \"Masculino\"}, {\"uf_x\": \"S\\u00e3o Paulo\", \"ano\": 2015, \"numero\": 86, \"longitude\": -48.79, \"uf_y\": \"SP\", \"mes\": \"Novembro\", \"nome\": \"S\\u00e3o Paulo\", \"codigo_uf\": 35, \"latitude\": -22.19, \"genero\": \"Masculino\"}, {\"uf_x\": \"S\\u00e3o Paulo\", \"ano\": 2015, \"numero\": 78, \"longitude\": -48.79, \"uf_y\": \"SP\", \"mes\": \"Dezembro\", \"nome\": \"S\\u00e3o Paulo\", \"codigo_uf\": 35, \"latitude\": -22.19, \"genero\": \"Masculino\"}, {\"uf_x\": \"S\\u00e3o Paulo\", \"ano\": 2016, \"numero\": 75, \"longitude\": -48.79, \"uf_y\": \"SP\", \"mes\": \"Janeiro\", \"nome\": \"S\\u00e3o Paulo\", \"codigo_uf\": 35, \"latitude\": -22.19, \"genero\": \"Masculino\"}, {\"uf_x\": \"S\\u00e3o Paulo\", \"ano\": 2016, \"numero\": 57, \"longitude\": -48.79, \"uf_y\": \"SP\", \"mes\": \"Fevereiro\", \"nome\": \"S\\u00e3o Paulo\", \"codigo_uf\": 35, \"latitude\": -22.19, \"genero\": \"Masculino\"}, {\"uf_x\": \"S\\u00e3o Paulo\", \"ano\": 2016, \"numero\": 66, \"longitude\": -48.79, \"uf_y\": \"SP\", \"mes\": \"Mar\\u00e7o\", \"nome\": \"S\\u00e3o Paulo\", \"codigo_uf\": 35, \"latitude\": -22.19, \"genero\": \"Masculino\"}, {\"uf_x\": \"S\\u00e3o Paulo\", \"ano\": 2016, \"numero\": 72, \"longitude\": -48.79, \"uf_y\": \"SP\", \"mes\": \"Abril\", \"nome\": \"S\\u00e3o Paulo\", \"codigo_uf\": 35, \"latitude\": -22.19, \"genero\": \"Masculino\"}, {\"uf_x\": \"S\\u00e3o Paulo\", \"ano\": 2016, \"numero\": 65, \"longitude\": -48.79, \"uf_y\": \"SP\", \"mes\": \"Maio\", \"nome\": \"S\\u00e3o Paulo\", \"codigo_uf\": 35, \"latitude\": -22.19, \"genero\": \"Masculino\"}, {\"uf_x\": \"S\\u00e3o Paulo\", \"ano\": 2016, \"numero\": 75, \"longitude\": -48.79, \"uf_y\": \"SP\", \"mes\": \"Junho\", \"nome\": \"S\\u00e3o Paulo\", \"codigo_uf\": 35, \"latitude\": -22.19, \"genero\": \"Masculino\"}, {\"uf_x\": \"S\\u00e3o Paulo\", \"ano\": 2016, \"numero\": 64, \"longitude\": -48.79, \"uf_y\": \"SP\", \"mes\": \"Julho\", \"nome\": \"S\\u00e3o Paulo\", \"codigo_uf\": 35, \"latitude\": -22.19, \"genero\": \"Masculino\"}, {\"uf_x\": \"S\\u00e3o Paulo\", \"ano\": 2016, \"numero\": 70, \"longitude\": -48.79, \"uf_y\": \"SP\", \"mes\": \"Agosto\", \"nome\": \"S\\u00e3o Paulo\", \"codigo_uf\": 35, \"latitude\": -22.19, \"genero\": \"Masculino\"}, {\"uf_x\": \"S\\u00e3o Paulo\", \"ano\": 2016, \"numero\": 102, \"longitude\": -48.79, \"uf_y\": \"SP\", \"mes\": \"Setembro\", \"nome\": \"S\\u00e3o Paulo\", \"codigo_uf\": 35, \"latitude\": -22.19, \"genero\": \"Masculino\"}, {\"uf_x\": \"S\\u00e3o Paulo\", \"ano\": 2016, \"numero\": 80, \"longitude\": -48.79, \"uf_y\": \"SP\", \"mes\": \"Outubro\", \"nome\": \"S\\u00e3o Paulo\", \"codigo_uf\": 35, \"latitude\": -22.19, \"genero\": \"Masculino\"}, {\"uf_x\": \"S\\u00e3o Paulo\", \"ano\": 2016, \"numero\": 81, \"longitude\": -48.79, \"uf_y\": \"SP\", \"mes\": \"Novembro\", \"nome\": \"S\\u00e3o Paulo\", \"codigo_uf\": 35, \"latitude\": -22.19, \"genero\": \"Masculino\"}, {\"uf_x\": \"S\\u00e3o Paulo\", \"ano\": 2016, \"numero\": 85, \"longitude\": -48.79, \"uf_y\": \"SP\", \"mes\": \"Dezembro\", \"nome\": \"S\\u00e3o Paulo\", \"codigo_uf\": 35, \"latitude\": -22.19, \"genero\": \"Masculino\"}, {\"uf_x\": \"S\\u00e3o Paulo\", \"ano\": 2017, \"numero\": 78, \"longitude\": -48.79, \"uf_y\": \"SP\", \"mes\": \"Janeiro\", \"nome\": \"S\\u00e3o Paulo\", \"codigo_uf\": 35, \"latitude\": -22.19, \"genero\": \"Masculino\"}, {\"uf_x\": \"S\\u00e3o Paulo\", \"ano\": 2017, \"numero\": 53, \"longitude\": -48.79, \"uf_y\": \"SP\", \"mes\": \"Fevereiro\", \"nome\": \"S\\u00e3o Paulo\", \"codigo_uf\": 35, \"latitude\": -22.19, \"genero\": \"Masculino\"}, {\"uf_x\": \"S\\u00e3o Paulo\", \"ano\": 2017, \"numero\": 79, \"longitude\": -48.79, \"uf_y\": \"SP\", \"mes\": \"Mar\\u00e7o\", \"nome\": \"S\\u00e3o Paulo\", \"codigo_uf\": 35, \"latitude\": -22.19, \"genero\": \"Masculino\"}, {\"uf_x\": \"S\\u00e3o Paulo\", \"ano\": 2017, \"numero\": 69, \"longitude\": -48.79, \"uf_y\": \"SP\", \"mes\": \"Abril\", \"nome\": \"S\\u00e3o Paulo\", \"codigo_uf\": 35, \"latitude\": -22.19, \"genero\": \"Masculino\"}, {\"uf_x\": \"S\\u00e3o Paulo\", \"ano\": 2017, \"numero\": 73, \"longitude\": -48.79, \"uf_y\": \"SP\", \"mes\": \"Maio\", \"nome\": \"S\\u00e3o Paulo\", \"codigo_uf\": 35, \"latitude\": -22.19, \"genero\": \"Masculino\"}, {\"uf_x\": \"S\\u00e3o Paulo\", \"ano\": 2017, \"numero\": 86, \"longitude\": -48.79, \"uf_y\": \"SP\", \"mes\": \"Junho\", \"nome\": \"S\\u00e3o Paulo\", \"codigo_uf\": 35, \"latitude\": -22.19, \"genero\": \"Masculino\"}, {\"uf_x\": \"S\\u00e3o Paulo\", \"ano\": 2017, \"numero\": 91, \"longitude\": -48.79, \"uf_y\": \"SP\", \"mes\": \"Julho\", \"nome\": \"S\\u00e3o Paulo\", \"codigo_uf\": 35, \"latitude\": -22.19, \"genero\": \"Masculino\"}, {\"uf_x\": \"S\\u00e3o Paulo\", \"ano\": 2017, \"numero\": 77, \"longitude\": -48.79, \"uf_y\": \"SP\", \"mes\": \"Agosto\", \"nome\": \"S\\u00e3o Paulo\", \"codigo_uf\": 35, \"latitude\": -22.19, \"genero\": \"Masculino\"}, {\"uf_x\": \"S\\u00e3o Paulo\", \"ano\": 2017, \"numero\": 100, \"longitude\": -48.79, \"uf_y\": \"SP\", \"mes\": \"Setembro\", \"nome\": \"S\\u00e3o Paulo\", \"codigo_uf\": 35, \"latitude\": -22.19, \"genero\": \"Masculino\"}, {\"uf_x\": \"S\\u00e3o Paulo\", \"ano\": 2017, \"numero\": 98, \"longitude\": -48.79, \"uf_y\": \"SP\", \"mes\": \"Outubro\", \"nome\": \"S\\u00e3o Paulo\", \"codigo_uf\": 35, \"latitude\": -22.19, \"genero\": \"Masculino\"}, {\"uf_x\": \"S\\u00e3o Paulo\", \"ano\": 2017, \"numero\": 113, \"longitude\": -48.79, \"uf_y\": \"SP\", \"mes\": \"Novembro\", \"nome\": \"S\\u00e3o Paulo\", \"codigo_uf\": 35, \"latitude\": -22.19, \"genero\": \"Masculino\"}, {\"uf_x\": \"S\\u00e3o Paulo\", \"ano\": 2017, \"numero\": 85, \"longitude\": -48.79, \"uf_y\": \"SP\", \"mes\": \"Dezembro\", \"nome\": \"S\\u00e3o Paulo\", \"codigo_uf\": 35, \"latitude\": -22.19, \"genero\": \"Masculino\"}, {\"uf_x\": \"S\\u00e3o Paulo\", \"ano\": 2018, \"numero\": 96, \"longitude\": -48.79, \"uf_y\": \"SP\", \"mes\": \"Janeiro\", \"nome\": \"S\\u00e3o Paulo\", \"codigo_uf\": 35, \"latitude\": -22.19, \"genero\": \"Masculino\"}, {\"uf_x\": \"S\\u00e3o Paulo\", \"ano\": 2018, \"numero\": 91, \"longitude\": -48.79, \"uf_y\": \"SP\", \"mes\": \"Fevereiro\", \"nome\": \"S\\u00e3o Paulo\", \"codigo_uf\": 35, \"latitude\": -22.19, \"genero\": \"Masculino\"}, {\"uf_x\": \"S\\u00e3o Paulo\", \"ano\": 2018, \"numero\": 101, \"longitude\": -48.79, \"uf_y\": \"SP\", \"mes\": \"Mar\\u00e7o\", \"nome\": \"S\\u00e3o Paulo\", \"codigo_uf\": 35, \"latitude\": -22.19, \"genero\": \"Masculino\"}, {\"uf_x\": \"S\\u00e3o Paulo\", \"ano\": 2018, \"numero\": 78, \"longitude\": -48.79, \"uf_y\": \"SP\", \"mes\": \"Abril\", \"nome\": \"S\\u00e3o Paulo\", \"codigo_uf\": 35, \"latitude\": -22.19, \"genero\": \"Masculino\"}, {\"uf_x\": \"S\\u00e3o Paulo\", \"ano\": 2018, \"numero\": 94, \"longitude\": -48.79, \"uf_y\": \"SP\", \"mes\": \"Maio\", \"nome\": \"S\\u00e3o Paulo\", \"codigo_uf\": 35, \"latitude\": -22.19, \"genero\": \"Masculino\"}, {\"uf_x\": \"S\\u00e3o Paulo\", \"ano\": 2018, \"numero\": 113, \"longitude\": -48.79, \"uf_y\": \"SP\", \"mes\": \"Junho\", \"nome\": \"S\\u00e3o Paulo\", \"codigo_uf\": 35, \"latitude\": -22.19, \"genero\": \"Masculino\"}, {\"uf_x\": \"S\\u00e3o Paulo\", \"ano\": 2018, \"numero\": 96, \"longitude\": -48.79, \"uf_y\": \"SP\", \"mes\": \"Julho\", \"nome\": \"S\\u00e3o Paulo\", \"codigo_uf\": 35, \"latitude\": -22.19, \"genero\": \"Masculino\"}, {\"uf_x\": \"S\\u00e3o Paulo\", \"ano\": 2018, \"numero\": 65, \"longitude\": -48.79, \"uf_y\": \"SP\", \"mes\": \"Agosto\", \"nome\": \"S\\u00e3o Paulo\", \"codigo_uf\": 35, \"latitude\": -22.19, \"genero\": \"Masculino\"}, {\"uf_x\": \"S\\u00e3o Paulo\", \"ano\": 2018, \"numero\": 102, \"longitude\": -48.79, \"uf_y\": \"SP\", \"mes\": \"Setembro\", \"nome\": \"S\\u00e3o Paulo\", \"codigo_uf\": 35, \"latitude\": -22.19, \"genero\": \"Masculino\"}, {\"uf_x\": \"S\\u00e3o Paulo\", \"ano\": 2018, \"numero\": 111, \"longitude\": -48.79, \"uf_y\": \"SP\", \"mes\": \"Outubro\", \"nome\": \"S\\u00e3o Paulo\", \"codigo_uf\": 35, \"latitude\": -22.19, \"genero\": \"Masculino\"}, {\"uf_x\": \"S\\u00e3o Paulo\", \"ano\": 2018, \"numero\": 167, \"longitude\": -48.79, \"uf_y\": \"SP\", \"mes\": \"Novembro\", \"nome\": \"S\\u00e3o Paulo\", \"codigo_uf\": 35, \"latitude\": -22.19, \"genero\": \"Masculino\"}, {\"uf_x\": \"S\\u00e3o Paulo\", \"ano\": 2018, \"numero\": 541, \"longitude\": -48.79, \"uf_y\": \"SP\", \"mes\": \"Dezembro\", \"nome\": \"S\\u00e3o Paulo\", \"codigo_uf\": 35, \"latitude\": -22.19, \"genero\": \"Masculino\"}, {\"uf_x\": \"S\\u00e3o Paulo\", \"ano\": 2019, \"numero\": 201, \"longitude\": -48.79, \"uf_y\": \"SP\", \"mes\": \"Janeiro\", \"nome\": \"S\\u00e3o Paulo\", \"codigo_uf\": 35, \"latitude\": -22.19, \"genero\": \"Masculino\"}, {\"uf_x\": \"S\\u00e3o Paulo\", \"ano\": 2019, \"numero\": 126, \"longitude\": -48.79, \"uf_y\": \"SP\", \"mes\": \"Fevereiro\", \"nome\": \"S\\u00e3o Paulo\", \"codigo_uf\": 35, \"latitude\": -22.19, \"genero\": \"Masculino\"}, {\"uf_x\": \"S\\u00e3o Paulo\", \"ano\": 2019, \"numero\": 119, \"longitude\": -48.79, \"uf_y\": \"SP\", \"mes\": \"Mar\\u00e7o\", \"nome\": \"S\\u00e3o Paulo\", \"codigo_uf\": 35, \"latitude\": -22.19, \"genero\": \"Masculino\"}, {\"uf_x\": \"S\\u00e3o Paulo\", \"ano\": 2019, \"numero\": 86, \"longitude\": -48.79, \"uf_y\": \"SP\", \"mes\": \"Abril\", \"nome\": \"S\\u00e3o Paulo\", \"codigo_uf\": 35, \"latitude\": -22.19, \"genero\": \"Masculino\"}, {\"uf_x\": \"S\\u00e3o Paulo\", \"ano\": 2019, \"numero\": 90, \"longitude\": -48.79, \"uf_y\": \"SP\", \"mes\": \"Maio\", \"nome\": \"S\\u00e3o Paulo\", \"codigo_uf\": 35, \"latitude\": -22.19, \"genero\": \"Masculino\"}, {\"uf_x\": \"S\\u00e3o Paulo\", \"ano\": 2019, \"numero\": 122, \"longitude\": -48.79, \"uf_y\": \"SP\", \"mes\": \"Junho\", \"nome\": \"S\\u00e3o Paulo\", \"codigo_uf\": 35, \"latitude\": -22.19, \"genero\": \"Masculino\"}, {\"uf_x\": \"S\\u00e3o Paulo\", \"ano\": 2019, \"numero\": 122, \"longitude\": -48.79, \"uf_y\": \"SP\", \"mes\": \"Julho\", \"nome\": \"S\\u00e3o Paulo\", \"codigo_uf\": 35, \"latitude\": -22.19, \"genero\": \"Masculino\"}, {\"uf_x\": \"S\\u00e3o Paulo\", \"ano\": 2019, \"numero\": 112, \"longitude\": -48.79, \"uf_y\": \"SP\", \"mes\": \"Agosto\", \"nome\": \"S\\u00e3o Paulo\", \"codigo_uf\": 35, \"latitude\": -22.19, \"genero\": \"Masculino\"}, {\"uf_x\": \"S\\u00e3o Paulo\", \"ano\": 2019, \"numero\": 113, \"longitude\": -48.79, \"uf_y\": \"SP\", \"mes\": \"Setembro\", \"nome\": \"S\\u00e3o Paulo\", \"codigo_uf\": 35, \"latitude\": -22.19, \"genero\": \"Masculino\"}, {\"uf_x\": \"S\\u00e3o Paulo\", \"ano\": 2019, \"numero\": 99, \"longitude\": -48.79, \"uf_y\": \"SP\", \"mes\": \"Outubro\", \"nome\": \"S\\u00e3o Paulo\", \"codigo_uf\": 35, \"latitude\": -22.19, \"genero\": \"Masculino\"}, {\"uf_x\": \"S\\u00e3o Paulo\", \"ano\": 2019, \"numero\": 132, \"longitude\": -48.79, \"uf_y\": \"SP\", \"mes\": \"Novembro\", \"nome\": \"S\\u00e3o Paulo\", \"codigo_uf\": 35, \"latitude\": -22.19, \"genero\": \"Masculino\"}, {\"uf_x\": \"S\\u00e3o Paulo\", \"ano\": 2019, \"numero\": 131, \"longitude\": -48.79, \"uf_y\": \"SP\", \"mes\": \"Dezembro\", \"nome\": \"S\\u00e3o Paulo\", \"codigo_uf\": 35, \"latitude\": -22.19, \"genero\": \"Masculino\"}, {\"uf_x\": \"S\\u00e3o Paulo\", \"ano\": 2015, \"numero\": 87, \"longitude\": -48.79, \"uf_y\": \"SP\", \"mes\": \"Janeiro\", \"nome\": \"S\\u00e3o Paulo\", \"codigo_uf\": 35, \"latitude\": -22.19, \"genero\": \"Feminino\"}, {\"uf_x\": \"S\\u00e3o Paulo\", \"ano\": 2015, \"numero\": 64, \"longitude\": -48.79, \"uf_y\": \"SP\", \"mes\": \"Fevereiro\", \"nome\": \"S\\u00e3o Paulo\", \"codigo_uf\": 35, \"latitude\": -22.19, \"genero\": \"Feminino\"}, {\"uf_x\": \"S\\u00e3o Paulo\", \"ano\": 2015, \"numero\": 95, \"longitude\": -48.79, \"uf_y\": \"SP\", \"mes\": \"Mar\\u00e7o\", \"nome\": \"S\\u00e3o Paulo\", \"codigo_uf\": 35, \"latitude\": -22.19, \"genero\": \"Feminino\"}, {\"uf_x\": \"S\\u00e3o Paulo\", \"ano\": 2015, \"numero\": 72, \"longitude\": -48.79, \"uf_y\": \"SP\", \"mes\": \"Abril\", \"nome\": \"S\\u00e3o Paulo\", \"codigo_uf\": 35, \"latitude\": -22.19, \"genero\": \"Feminino\"}, {\"uf_x\": \"S\\u00e3o Paulo\", \"ano\": 2015, \"numero\": 76, \"longitude\": -48.79, \"uf_y\": \"SP\", \"mes\": \"Maio\", \"nome\": \"S\\u00e3o Paulo\", \"codigo_uf\": 35, \"latitude\": -22.19, \"genero\": \"Feminino\"}, {\"uf_x\": \"S\\u00e3o Paulo\", \"ano\": 2015, \"numero\": 86, \"longitude\": -48.79, \"uf_y\": \"SP\", \"mes\": \"Junho\", \"nome\": \"S\\u00e3o Paulo\", \"codigo_uf\": 35, \"latitude\": -22.19, \"genero\": \"Feminino\"}, {\"uf_x\": \"S\\u00e3o Paulo\", \"ano\": 2015, \"numero\": 100, \"longitude\": -48.79, \"uf_y\": \"SP\", \"mes\": \"Julho\", \"nome\": \"S\\u00e3o Paulo\", \"codigo_uf\": 35, \"latitude\": -22.19, \"genero\": \"Feminino\"}, {\"uf_x\": \"S\\u00e3o Paulo\", \"ano\": 2015, \"numero\": 96, \"longitude\": -48.79, \"uf_y\": \"SP\", \"mes\": \"Agosto\", \"nome\": \"S\\u00e3o Paulo\", \"codigo_uf\": 35, \"latitude\": -22.19, \"genero\": \"Feminino\"}, {\"uf_x\": \"S\\u00e3o Paulo\", \"ano\": 2015, \"numero\": 109, \"longitude\": -48.79, \"uf_y\": \"SP\", \"mes\": \"Setembro\", \"nome\": \"S\\u00e3o Paulo\", \"codigo_uf\": 35, \"latitude\": -22.19, \"genero\": \"Feminino\"}, {\"uf_x\": \"S\\u00e3o Paulo\", \"ano\": 2015, \"numero\": 126, \"longitude\": -48.79, \"uf_y\": \"SP\", \"mes\": \"Outubro\", \"nome\": \"S\\u00e3o Paulo\", \"codigo_uf\": 35, \"latitude\": -22.19, \"genero\": \"Feminino\"}, {\"uf_x\": \"S\\u00e3o Paulo\", \"ano\": 2015, \"numero\": 111, \"longitude\": -48.79, \"uf_y\": \"SP\", \"mes\": \"Novembro\", \"nome\": \"S\\u00e3o Paulo\", \"codigo_uf\": 35, \"latitude\": -22.19, \"genero\": \"Feminino\"}, {\"uf_x\": \"S\\u00e3o Paulo\", \"ano\": 2015, \"numero\": 128, \"longitude\": -48.79, \"uf_y\": \"SP\", \"mes\": \"Dezembro\", \"nome\": \"S\\u00e3o Paulo\", \"codigo_uf\": 35, \"latitude\": -22.19, \"genero\": \"Feminino\"}, {\"uf_x\": \"S\\u00e3o Paulo\", \"ano\": 2016, \"numero\": 79, \"longitude\": -48.79, \"uf_y\": \"SP\", \"mes\": \"Janeiro\", \"nome\": \"S\\u00e3o Paulo\", \"codigo_uf\": 35, \"latitude\": -22.19, \"genero\": \"Feminino\"}, {\"uf_x\": \"S\\u00e3o Paulo\", \"ano\": 2016, \"numero\": 92, \"longitude\": -48.79, \"uf_y\": \"SP\", \"mes\": \"Fevereiro\", \"nome\": \"S\\u00e3o Paulo\", \"codigo_uf\": 35, \"latitude\": -22.19, \"genero\": \"Feminino\"}, {\"uf_x\": \"S\\u00e3o Paulo\", \"ano\": 2016, \"numero\": 71, \"longitude\": -48.79, \"uf_y\": \"SP\", \"mes\": \"Mar\\u00e7o\", \"nome\": \"S\\u00e3o Paulo\", \"codigo_uf\": 35, \"latitude\": -22.19, \"genero\": \"Feminino\"}, {\"uf_x\": \"S\\u00e3o Paulo\", \"ano\": 2016, \"numero\": 102, \"longitude\": -48.79, \"uf_y\": \"SP\", \"mes\": \"Abril\", \"nome\": \"S\\u00e3o Paulo\", \"codigo_uf\": 35, \"latitude\": -22.19, \"genero\": \"Feminino\"}, {\"uf_x\": \"S\\u00e3o Paulo\", \"ano\": 2016, \"numero\": 92, \"longitude\": -48.79, \"uf_y\": \"SP\", \"mes\": \"Maio\", \"nome\": \"S\\u00e3o Paulo\", \"codigo_uf\": 35, \"latitude\": -22.19, \"genero\": \"Feminino\"}, {\"uf_x\": \"S\\u00e3o Paulo\", \"ano\": 2016, \"numero\": 93, \"longitude\": -48.79, \"uf_y\": \"SP\", \"mes\": \"Junho\", \"nome\": \"S\\u00e3o Paulo\", \"codigo_uf\": 35, \"latitude\": -22.19, \"genero\": \"Feminino\"}, {\"uf_x\": \"S\\u00e3o Paulo\", \"ano\": 2016, \"numero\": 108, \"longitude\": -48.79, \"uf_y\": \"SP\", \"mes\": \"Julho\", \"nome\": \"S\\u00e3o Paulo\", \"codigo_uf\": 35, \"latitude\": -22.19, \"genero\": \"Feminino\"}, {\"uf_x\": \"S\\u00e3o Paulo\", \"ano\": 2016, \"numero\": 85, \"longitude\": -48.79, \"uf_y\": \"SP\", \"mes\": \"Agosto\", \"nome\": \"S\\u00e3o Paulo\", \"codigo_uf\": 35, \"latitude\": -22.19, \"genero\": \"Feminino\"}, {\"uf_x\": \"S\\u00e3o Paulo\", \"ano\": 2016, \"numero\": 120, \"longitude\": -48.79, \"uf_y\": \"SP\", \"mes\": \"Setembro\", \"nome\": \"S\\u00e3o Paulo\", \"codigo_uf\": 35, \"latitude\": -22.19, \"genero\": \"Feminino\"}, {\"uf_x\": \"S\\u00e3o Paulo\", \"ano\": 2016, \"numero\": 118, \"longitude\": -48.79, \"uf_y\": \"SP\", \"mes\": \"Outubro\", \"nome\": \"S\\u00e3o Paulo\", \"codigo_uf\": 35, \"latitude\": -22.19, \"genero\": \"Feminino\"}, {\"uf_x\": \"S\\u00e3o Paulo\", \"ano\": 2016, \"numero\": 117, \"longitude\": -48.79, \"uf_y\": \"SP\", \"mes\": \"Novembro\", \"nome\": \"S\\u00e3o Paulo\", \"codigo_uf\": 35, \"latitude\": -22.19, \"genero\": \"Feminino\"}, {\"uf_x\": \"S\\u00e3o Paulo\", \"ano\": 2016, \"numero\": 125, \"longitude\": -48.79, \"uf_y\": \"SP\", \"mes\": \"Dezembro\", \"nome\": \"S\\u00e3o Paulo\", \"codigo_uf\": 35, \"latitude\": -22.19, \"genero\": \"Feminino\"}, {\"uf_x\": \"S\\u00e3o Paulo\", \"ano\": 2017, \"numero\": 91, \"longitude\": -48.79, \"uf_y\": \"SP\", \"mes\": \"Janeiro\", \"nome\": \"S\\u00e3o Paulo\", \"codigo_uf\": 35, \"latitude\": -22.19, \"genero\": \"Feminino\"}, {\"uf_x\": \"S\\u00e3o Paulo\", \"ano\": 2017, \"numero\": 81, \"longitude\": -48.79, \"uf_y\": \"SP\", \"mes\": \"Fevereiro\", \"nome\": \"S\\u00e3o Paulo\", \"codigo_uf\": 35, \"latitude\": -22.19, \"genero\": \"Feminino\"}, {\"uf_x\": \"S\\u00e3o Paulo\", \"ano\": 2017, \"numero\": 128, \"longitude\": -48.79, \"uf_y\": \"SP\", \"mes\": \"Mar\\u00e7o\", \"nome\": \"S\\u00e3o Paulo\", \"codigo_uf\": 35, \"latitude\": -22.19, \"genero\": \"Feminino\"}, {\"uf_x\": \"S\\u00e3o Paulo\", \"ano\": 2017, \"numero\": 113, \"longitude\": -48.79, \"uf_y\": \"SP\", \"mes\": \"Abril\", \"nome\": \"S\\u00e3o Paulo\", \"codigo_uf\": 35, \"latitude\": -22.19, \"genero\": \"Feminino\"}, {\"uf_x\": \"S\\u00e3o Paulo\", \"ano\": 2017, \"numero\": 123, \"longitude\": -48.79, \"uf_y\": \"SP\", \"mes\": \"Maio\", \"nome\": \"S\\u00e3o Paulo\", \"codigo_uf\": 35, \"latitude\": -22.19, \"genero\": \"Feminino\"}, {\"uf_x\": \"S\\u00e3o Paulo\", \"ano\": 2017, \"numero\": 121, \"longitude\": -48.79, \"uf_y\": \"SP\", \"mes\": \"Junho\", \"nome\": \"S\\u00e3o Paulo\", \"codigo_uf\": 35, \"latitude\": -22.19, \"genero\": \"Feminino\"}, {\"uf_x\": \"S\\u00e3o Paulo\", \"ano\": 2017, \"numero\": 119, \"longitude\": -48.79, \"uf_y\": \"SP\", \"mes\": \"Julho\", \"nome\": \"S\\u00e3o Paulo\", \"codigo_uf\": 35, \"latitude\": -22.19, \"genero\": \"Feminino\"}, {\"uf_x\": \"S\\u00e3o Paulo\", \"ano\": 2017, \"numero\": 128, \"longitude\": -48.79, \"uf_y\": \"SP\", \"mes\": \"Agosto\", \"nome\": \"S\\u00e3o Paulo\", \"codigo_uf\": 35, \"latitude\": -22.19, \"genero\": \"Feminino\"}, {\"uf_x\": \"S\\u00e3o Paulo\", \"ano\": 2017, \"numero\": 154, \"longitude\": -48.79, \"uf_y\": \"SP\", \"mes\": \"Setembro\", \"nome\": \"S\\u00e3o Paulo\", \"codigo_uf\": 35, \"latitude\": -22.19, \"genero\": \"Feminino\"}, {\"uf_x\": \"S\\u00e3o Paulo\", \"ano\": 2017, \"numero\": 151, \"longitude\": -48.79, \"uf_y\": \"SP\", \"mes\": \"Outubro\", \"nome\": \"S\\u00e3o Paulo\", \"codigo_uf\": 35, \"latitude\": -22.19, \"genero\": \"Feminino\"}, {\"uf_x\": \"S\\u00e3o Paulo\", \"ano\": 2017, \"numero\": 143, \"longitude\": -48.79, \"uf_y\": \"SP\", \"mes\": \"Novembro\", \"nome\": \"S\\u00e3o Paulo\", \"codigo_uf\": 35, \"latitude\": -22.19, \"genero\": \"Feminino\"}, {\"uf_x\": \"S\\u00e3o Paulo\", \"ano\": 2017, \"numero\": 143, \"longitude\": -48.79, \"uf_y\": \"SP\", \"mes\": \"Dezembro\", \"nome\": \"S\\u00e3o Paulo\", \"codigo_uf\": 35, \"latitude\": -22.19, \"genero\": \"Feminino\"}, {\"uf_x\": \"S\\u00e3o Paulo\", \"ano\": 2018, \"numero\": 129, \"longitude\": -48.79, \"uf_y\": \"SP\", \"mes\": \"Janeiro\", \"nome\": \"S\\u00e3o Paulo\", \"codigo_uf\": 35, \"latitude\": -22.19, \"genero\": \"Feminino\"}, {\"uf_x\": \"S\\u00e3o Paulo\", \"ano\": 2018, \"numero\": 105, \"longitude\": -48.79, \"uf_y\": \"SP\", \"mes\": \"Fevereiro\", \"nome\": \"S\\u00e3o Paulo\", \"codigo_uf\": 35, \"latitude\": -22.19, \"genero\": \"Feminino\"}, {\"uf_x\": \"S\\u00e3o Paulo\", \"ano\": 2018, \"numero\": 107, \"longitude\": -48.79, \"uf_y\": \"SP\", \"mes\": \"Mar\\u00e7o\", \"nome\": \"S\\u00e3o Paulo\", \"codigo_uf\": 35, \"latitude\": -22.19, \"genero\": \"Feminino\"}, {\"uf_x\": \"S\\u00e3o Paulo\", \"ano\": 2018, \"numero\": 120, \"longitude\": -48.79, \"uf_y\": \"SP\", \"mes\": \"Abril\", \"nome\": \"S\\u00e3o Paulo\", \"codigo_uf\": 35, \"latitude\": -22.19, \"genero\": \"Feminino\"}, {\"uf_x\": \"S\\u00e3o Paulo\", \"ano\": 2018, \"numero\": 131, \"longitude\": -48.79, \"uf_y\": \"SP\", \"mes\": \"Maio\", \"nome\": \"S\\u00e3o Paulo\", \"codigo_uf\": 35, \"latitude\": -22.19, \"genero\": \"Feminino\"}, {\"uf_x\": \"S\\u00e3o Paulo\", \"ano\": 2018, \"numero\": 130, \"longitude\": -48.79, \"uf_y\": \"SP\", \"mes\": \"Junho\", \"nome\": \"S\\u00e3o Paulo\", \"codigo_uf\": 35, \"latitude\": -22.19, \"genero\": \"Feminino\"}, {\"uf_x\": \"S\\u00e3o Paulo\", \"ano\": 2018, \"numero\": 143, \"longitude\": -48.79, \"uf_y\": \"SP\", \"mes\": \"Julho\", \"nome\": \"S\\u00e3o Paulo\", \"codigo_uf\": 35, \"latitude\": -22.19, \"genero\": \"Feminino\"}, {\"uf_x\": \"S\\u00e3o Paulo\", \"ano\": 2018, \"numero\": 120, \"longitude\": -48.79, \"uf_y\": \"SP\", \"mes\": \"Agosto\", \"nome\": \"S\\u00e3o Paulo\", \"codigo_uf\": 35, \"latitude\": -22.19, \"genero\": \"Feminino\"}, {\"uf_x\": \"S\\u00e3o Paulo\", \"ano\": 2018, \"numero\": 184, \"longitude\": -48.79, \"uf_y\": \"SP\", \"mes\": \"Setembro\", \"nome\": \"S\\u00e3o Paulo\", \"codigo_uf\": 35, \"latitude\": -22.19, \"genero\": \"Feminino\"}, {\"uf_x\": \"S\\u00e3o Paulo\", \"ano\": 2018, \"numero\": 189, \"longitude\": -48.79, \"uf_y\": \"SP\", \"mes\": \"Outubro\", \"nome\": \"S\\u00e3o Paulo\", \"codigo_uf\": 35, \"latitude\": -22.19, \"genero\": \"Feminino\"}, {\"uf_x\": \"S\\u00e3o Paulo\", \"ano\": 2018, \"numero\": 260, \"longitude\": -48.79, \"uf_y\": \"SP\", \"mes\": \"Novembro\", \"nome\": \"S\\u00e3o Paulo\", \"codigo_uf\": 35, \"latitude\": -22.19, \"genero\": \"Feminino\"}, {\"uf_x\": \"S\\u00e3o Paulo\", \"ano\": 2018, \"numero\": 827, \"longitude\": -48.79, \"uf_y\": \"SP\", \"mes\": \"Dezembro\", \"nome\": \"S\\u00e3o Paulo\", \"codigo_uf\": 35, \"latitude\": -22.19, \"genero\": \"Feminino\"}, {\"uf_x\": \"S\\u00e3o Paulo\", \"ano\": 2019, \"numero\": 339, \"longitude\": -48.79, \"uf_y\": \"SP\", \"mes\": \"Janeiro\", \"nome\": \"S\\u00e3o Paulo\", \"codigo_uf\": 35, \"latitude\": -22.19, \"genero\": \"Feminino\"}, {\"uf_x\": \"S\\u00e3o Paulo\", \"ano\": 2019, \"numero\": 216, \"longitude\": -48.79, \"uf_y\": \"SP\", \"mes\": \"Fevereiro\", \"nome\": \"S\\u00e3o Paulo\", \"codigo_uf\": 35, \"latitude\": -22.19, \"genero\": \"Feminino\"}, {\"uf_x\": \"S\\u00e3o Paulo\", \"ano\": 2019, \"numero\": 183, \"longitude\": -48.79, \"uf_y\": \"SP\", \"mes\": \"Mar\\u00e7o\", \"nome\": \"S\\u00e3o Paulo\", \"codigo_uf\": 35, \"latitude\": -22.19, \"genero\": \"Feminino\"}, {\"uf_x\": \"S\\u00e3o Paulo\", \"ano\": 2019, \"numero\": 128, \"longitude\": -48.79, \"uf_y\": \"SP\", \"mes\": \"Abril\", \"nome\": \"S\\u00e3o Paulo\", \"codigo_uf\": 35, \"latitude\": -22.19, \"genero\": \"Feminino\"}, {\"uf_x\": \"S\\u00e3o Paulo\", \"ano\": 2019, \"numero\": 159, \"longitude\": -48.79, \"uf_y\": \"SP\", \"mes\": \"Maio\", \"nome\": \"S\\u00e3o Paulo\", \"codigo_uf\": 35, \"latitude\": -22.19, \"genero\": \"Feminino\"}, {\"uf_x\": \"S\\u00e3o Paulo\", \"ano\": 2019, \"numero\": 150, \"longitude\": -48.79, \"uf_y\": \"SP\", \"mes\": \"Junho\", \"nome\": \"S\\u00e3o Paulo\", \"codigo_uf\": 35, \"latitude\": -22.19, \"genero\": \"Feminino\"}, {\"uf_x\": \"S\\u00e3o Paulo\", \"ano\": 2019, \"numero\": 113, \"longitude\": -48.79, \"uf_y\": \"SP\", \"mes\": \"Julho\", \"nome\": \"S\\u00e3o Paulo\", \"codigo_uf\": 35, \"latitude\": -22.19, \"genero\": \"Feminino\"}, {\"uf_x\": \"S\\u00e3o Paulo\", \"ano\": 2019, \"numero\": 151, \"longitude\": -48.79, \"uf_y\": \"SP\", \"mes\": \"Agosto\", \"nome\": \"S\\u00e3o Paulo\", \"codigo_uf\": 35, \"latitude\": -22.19, \"genero\": \"Feminino\"}, {\"uf_x\": \"S\\u00e3o Paulo\", \"ano\": 2019, \"numero\": 147, \"longitude\": -48.79, \"uf_y\": \"SP\", \"mes\": \"Setembro\", \"nome\": \"S\\u00e3o Paulo\", \"codigo_uf\": 35, \"latitude\": -22.19, \"genero\": \"Feminino\"}, {\"uf_x\": \"S\\u00e3o Paulo\", \"ano\": 2019, \"numero\": 164, \"longitude\": -48.79, \"uf_y\": \"SP\", \"mes\": \"Outubro\", \"nome\": \"S\\u00e3o Paulo\", \"codigo_uf\": 35, \"latitude\": -22.19, \"genero\": \"Feminino\"}, {\"uf_x\": \"S\\u00e3o Paulo\", \"ano\": 2019, \"numero\": 205, \"longitude\": -48.79, \"uf_y\": \"SP\", \"mes\": \"Novembro\", \"nome\": \"S\\u00e3o Paulo\", \"codigo_uf\": 35, \"latitude\": -22.19, \"genero\": \"Feminino\"}, {\"uf_x\": \"S\\u00e3o Paulo\", \"ano\": 2019, \"numero\": 165, \"longitude\": -48.79, \"uf_y\": \"SP\", \"mes\": \"Dezembro\", \"nome\": \"S\\u00e3o Paulo\", \"codigo_uf\": 35, \"latitude\": -22.19, \"genero\": \"Feminino\"}]}}, {\"mode\": \"vega-lite\"});\n",
       "</script>"
      ],
      "text/plain": [
       "alt.Chart(...)"
      ]
     },
     "execution_count": 92,
     "metadata": {},
     "output_type": "execute_result"
    }
   ],
   "source": [
    "# boxplot usando filtro pela UF informada pelo usuário\n",
    "# referência https://altair-viz.github.io/gallery/boxplot.html\n",
    "# obs: tirei a f string por causa da versão antiga no Python neste laptop\n",
    "dados_user = sigla_uf_lgbt_casamento.query('uf_y == @uf_user', engine='python')\n",
    "\n",
    "alt.Chart(dados_user).mark_boxplot(size=80).encode(\n",
    "    x = alt.X('ano:O', title=\"Ano\"),\n",
    "    y = alt.Y('numero', title=\"Nº de casamentos\"),\n",
    "    color = alt.Color('genero', sort = ['Masculino', 'Feminino'], title='Gênero'),\n",
    "    tooltip = ['mes', 'ano', 'genero', 'numero']\n",
    ").properties(\n",
    "    title={\n",
    "      \"text\": ['{}: Casamento LGBTs'.format(uf_user)], \n",
    "      \"subtitle\": ['Mulheres vs. Homens']\n",
    "    },\n",
    "    width=600,\n",
    "    height=300\n",
    ").interactive()"
   ]
  },
  {
   "cell_type": "markdown",
   "metadata": {
    "id": "Wh_JkQnas_z7"
   },
   "source": [
    "## Muito obrigado/a!"
   ]
  }
 ],
 "metadata": {
  "colab": {
   "name": "versao_final_trabalho_AED_insper_grupo_GIT.ipynb",
   "provenance": []
  },
  "kernelspec": {
   "display_name": "Python 3",
   "language": "python",
   "name": "python3"
  },
  "language_info": {
   "codemirror_mode": {
    "name": "ipython",
    "version": 3
   },
   "file_extension": ".py",
   "mimetype": "text/x-python",
   "name": "python",
   "nbconvert_exporter": "python",
   "pygments_lexer": "ipython3",
   "version": "3.5.4"
  }
 },
 "nbformat": 4,
 "nbformat_minor": 1
}
